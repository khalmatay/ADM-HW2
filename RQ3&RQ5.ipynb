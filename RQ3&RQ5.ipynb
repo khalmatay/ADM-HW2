{
 "cells": [
  {
   "cell_type": "code",
   "execution_count": 8,
   "id": "initial_id",
   "metadata": {
    "collapsed": true,
    "colab": {
     "base_uri": "https://localhost:8080/"
    },
    "id": "initial_id",
    "outputId": "3d3ce35b-6f76-4680-c2fe-ae39fa42b2a6"
   },
   "outputs": [
    {
     "output_type": "stream",
     "name": "stdout",
     "text": [
      "Drive already mounted at /content/drive; to attempt to forcibly remount, call drive.mount(\"/content/drive\", force_remount=True).\n"
     ]
    }
   ],
   "source": [
    "from google.colab import drive\n",
    "drive.mount('/content/drive')"
   ]
  },
  {
   "cell_type": "code",
   "source": [
    "%%capture\n",
    "# Set to True the first time you run this file to install the required packages\n",
    "install_packages = True\n",
    "if install_packages:\n",
    "    %pip install -r requirements.txt\n",
    "import os\n",
    "\n",
    "if not os.path.exists('data'):\n",
    "    os.makedirs('data')\n",
    "\n",
    "if not all(os.path.exists(folder) for folder in ['data/steam_reviews.csv']):\n",
    "    !gdown 1ELFPkOeFlwHth8zq5-54xXytZKy0xs-c\n",
    "    !unzip -o data_steam_reviews.zip\n",
    "    !rm data_steam_reviews.zip\n",
    "    !mv steam_reviews.csv data/steam_reviews.csv\n"
   ],
   "metadata": {
    "id": "9595p1XSMD4t",
    "ExecuteTime": {
     "end_time": "2024-10-31T10:11:38.307647Z",
     "start_time": "2024-10-31T10:11:35.475933Z"
    }
   },
   "id": "9595p1XSMD4t",
   "outputs": [],
   "execution_count": 1
  },
  {
   "cell_type": "code",
   "source": [
    "import pandas as pd\n",
    "import plotly.express as px\n",
    "\n",
    "\n",
    "pd.set_option('display.max_columns', None)\n",
    "pd.set_option('display.float_format', '{:.3f}'.format)\n",
    "\n",
    "\n",
    "csv_file_path = 'data/steam_reviews.csv'"
   ],
   "metadata": {
    "id": "ExW1V1DlMf6w",
    "ExecuteTime": {
     "end_time": "2024-10-31T10:11:39.729138Z",
     "start_time": "2024-10-31T10:11:38.317658Z"
    }
   },
   "id": "ExW1V1DlMf6w",
   "outputs": [],
   "execution_count": 2
  },
  {
   "cell_type": "markdown",
   "source": [
    "#RQ3\n",
    "\n",
    "\n",
    "---\n",
    "\n",
    "\n",
    "\n"
   ],
   "metadata": {
    "id": "Co4K5hDLP5sN"
   },
   "id": "Co4K5hDLP5sN"
  },
  {
   "cell_type": "markdown",
   "source": [
    "## Understand Your Data\n",
    "\n",
    "1. **index** - Unique identifier for each row *(int64)*\n",
    "2. **app_id** - ID of the app/game *(int64)*\n",
    "3. **app_name** - Name of the app/game *(string)*\n",
    "4. **review_id** - Unique ID for each review *(int64)*\n",
    "5. **language** - Language of the review *(string)*\n",
    "6. **review** - Content of the review *(string)*\n",
    "7. **timestamp_created** - Date the review was created in Unix format *(int64)*\n",
    "8. **timestamp_updated** - Date the review was last updated in Unix format *(int64)* (note: `timestamp_created <= timestamp_updated`)\n",
    "9. **recommend** - Whether the review recommends the app/game *(bool)*\n",
    "10. **votes_helpful** - Number of users who found the review helpful *(int64)*\n",
    "11. **votes_funny** - Number of users who found the review funny *(int64)*\n",
    "12. **weighted_vote_score** - Helpfulness score of the review *(float64)*\n",
    "13. **comment_count** - Number of comments on the review *(int64)*\n",
    "14. **steam_purchase** - Indicates if the user purchased the game on Steam *(bool)*\n",
    "15. **received_for_free** - Indicates if the user marked they received the app for free *(bool)*\n",
    "16. **written_during_early_access** - Indicates if the review was posted during the game's Early Access period *(bool)*\n",
    "17. **author.steamid** - SteamID of the user *(int64)*\n",
    "18. **author.num_games_owned** - Total games owned by the user *(int64)*\n",
    "19. **author.num_reviews** - Number of reviews written by the user *(int64)*\n",
    "20. **author.playtime_forever** - Total playtime tracked in this app *(float64)*\n",
    "21. **author.playtime_last_two_weeks** - Playtime tracked in the past two weeks for this app *(float64)*\n",
    "22. **author.playtime_at_review** - Playtime at the time the review was written *(float64)*\n",
    "23. **author.last_played** - Time when the user last played *(float64)*\n"
   ],
   "metadata": {
    "id": "rQFZk_u_QIOR"
   },
   "id": "rQFZk_u_QIOR"
  },
  {
   "cell_type": "markdown",
   "source": [
    "# 3.1 Plot the number of reviews submitted each month and describe any trends.\n",
    "\n",
    "\n"
   ],
   "metadata": {
    "id": "MpCjRotoQTbN"
   },
   "id": "MpCjRotoQTbN"
  },
  {
   "metadata": {},
   "cell_type": "markdown",
   "source": [
    "1. **Instruction**: Filter columns **\"review_id\"** and **\"timestamp_created\"**.\n",
    "2. **Transfer**: Convert **\"timestamp_created\"** to **\"month_created\"**.\n",
    "3. **Group By**: Group data by **\"month_created\"** and count **\"review_id\"** as **\"review_count\"**.\n"
   ],
   "id": "8f1d0810ec15d475"
  },
  {
   "metadata": {
    "ExecuteTime": {
     "end_time": "2024-10-31T10:17:24.153087Z",
     "start_time": "2024-10-31T10:17:24.147986Z"
    }
   },
   "cell_type": "code",
   "source": [
    "dtype = {\n",
    "    \"review_id\": \"int32\",\n",
    "    \"app_id\": \"int32\",\n",
    "    \"votes_helpful\": \"int16\",\n",
    "    \"votes_funny\": \"int16\",\n",
    "    # Добавьте нужные типы для других столбцов\n",
    "}"
   ],
   "id": "acef8e068095861e",
   "outputs": [],
   "execution_count": 4
  },
  {
   "metadata": {
    "ExecuteTime": {
     "end_time": "2024-10-31T10:23:01.400996Z",
     "start_time": "2024-10-31T10:17:25.316957Z"
    }
   },
   "cell_type": "code",
   "source": [
    "chunks = pd.read_csv(\"data/steam_reviews.csv\", chunksize=10000, dtype=dtype)\n",
    "data = pd.concat(chunks)"
   ],
   "id": "7fbf27130dd70065",
   "outputs": [],
   "execution_count": 5
  },
  {
   "metadata": {
    "ExecuteTime": {
     "end_time": "2024-10-31T10:52:43.883857Z",
     "start_time": "2024-10-31T10:52:43.850745Z"
    }
   },
   "cell_type": "code",
   "source": "data.dtypes",
   "id": "848718c56ea96a49",
   "outputs": [
    {
     "data": {
      "text/plain": [
       "Unnamed: 0                          int64\n",
       "app_id                              int32\n",
       "app_name                           object\n",
       "review_id                           int32\n",
       "language                           object\n",
       "review                             object\n",
       "timestamp_created                   int64\n",
       "timestamp_updated                   int64\n",
       "recommended                          bool\n",
       "votes_helpful                       int16\n",
       "votes_funny                         int16\n",
       "weighted_vote_score               float64\n",
       "comment_count                       int64\n",
       "steam_purchase                       bool\n",
       "received_for_free                    bool\n",
       "written_during_early_access          bool\n",
       "author.steamid                      int64\n",
       "author.num_games_owned              int64\n",
       "author.num_reviews                  int64\n",
       "author.playtime_forever           float64\n",
       "author.playtime_last_two_weeks    float64\n",
       "author.playtime_at_review         float64\n",
       "author.last_played                float64\n",
       "dtype: object"
      ]
     },
     "execution_count": 11,
     "metadata": {},
     "output_type": "execute_result"
    }
   ],
   "execution_count": 11
  },
  {
   "metadata": {
    "ExecuteTime": {
     "end_time": "2024-10-31T11:49:52.327619Z",
     "start_time": "2024-10-31T11:49:18.263901Z"
    }
   },
   "cell_type": "code",
   "source": "data.describe()",
   "id": "9f69efa3ac41103b",
   "outputs": [
    {
     "ename": "MemoryError",
     "evalue": "Unable to allocate 830. MiB for an array with shape (5, 21747371) and data type float64",
     "output_type": "error",
     "traceback": [
      "\u001B[1;31m---------------------------------------------------------------------------\u001B[0m",
      "\u001B[1;31mMemoryError\u001B[0m                               Traceback (most recent call last)",
      "Cell \u001B[1;32mIn[12], line 1\u001B[0m\n\u001B[1;32m----> 1\u001B[0m \u001B[43mdata\u001B[49m\u001B[38;5;241;43m.\u001B[39;49m\u001B[43mdescribe\u001B[49m\u001B[43m(\u001B[49m\u001B[43m)\u001B[49m\n",
      "File \u001B[1;32m~\\anaconda3\\envs\\ADM-HW2\\Lib\\site-packages\\pandas\\core\\generic.py:11976\u001B[0m, in \u001B[0;36mNDFrame.describe\u001B[1;34m(self, percentiles, include, exclude)\u001B[0m\n\u001B[0;32m  11734\u001B[0m \u001B[38;5;129m@final\u001B[39m\n\u001B[0;32m  11735\u001B[0m \u001B[38;5;28;01mdef\u001B[39;00m \u001B[38;5;21mdescribe\u001B[39m(\n\u001B[0;32m  11736\u001B[0m     \u001B[38;5;28mself\u001B[39m,\n\u001B[1;32m   (...)\u001B[0m\n\u001B[0;32m  11739\u001B[0m     exclude\u001B[38;5;241m=\u001B[39m\u001B[38;5;28;01mNone\u001B[39;00m,\n\u001B[0;32m  11740\u001B[0m ) \u001B[38;5;241m-\u001B[39m\u001B[38;5;241m>\u001B[39m Self:\n\u001B[0;32m  11741\u001B[0m \u001B[38;5;250m    \u001B[39m\u001B[38;5;124;03m\"\"\"\u001B[39;00m\n\u001B[0;32m  11742\u001B[0m \u001B[38;5;124;03m    Generate descriptive statistics.\u001B[39;00m\n\u001B[0;32m  11743\u001B[0m \n\u001B[1;32m   (...)\u001B[0m\n\u001B[0;32m  11974\u001B[0m \u001B[38;5;124;03m    max            NaN      3.0\u001B[39;00m\n\u001B[0;32m  11975\u001B[0m \u001B[38;5;124;03m    \"\"\"\u001B[39;00m\n\u001B[1;32m> 11976\u001B[0m     \u001B[38;5;28;01mreturn\u001B[39;00m \u001B[43mdescribe_ndframe\u001B[49m\u001B[43m(\u001B[49m\n\u001B[0;32m  11977\u001B[0m \u001B[43m        \u001B[49m\u001B[43mobj\u001B[49m\u001B[38;5;241;43m=\u001B[39;49m\u001B[38;5;28;43mself\u001B[39;49m\u001B[43m,\u001B[49m\n\u001B[0;32m  11978\u001B[0m \u001B[43m        \u001B[49m\u001B[43minclude\u001B[49m\u001B[38;5;241;43m=\u001B[39;49m\u001B[43minclude\u001B[49m\u001B[43m,\u001B[49m\n\u001B[0;32m  11979\u001B[0m \u001B[43m        \u001B[49m\u001B[43mexclude\u001B[49m\u001B[38;5;241;43m=\u001B[39;49m\u001B[43mexclude\u001B[49m\u001B[43m,\u001B[49m\n\u001B[0;32m  11980\u001B[0m \u001B[43m        \u001B[49m\u001B[43mpercentiles\u001B[49m\u001B[38;5;241;43m=\u001B[39;49m\u001B[43mpercentiles\u001B[49m\u001B[43m,\u001B[49m\n\u001B[0;32m  11981\u001B[0m \u001B[43m    \u001B[49m\u001B[43m)\u001B[49m\u001B[38;5;241m.\u001B[39m__finalize__(\u001B[38;5;28mself\u001B[39m, method\u001B[38;5;241m=\u001B[39m\u001B[38;5;124m\"\u001B[39m\u001B[38;5;124mdescribe\u001B[39m\u001B[38;5;124m\"\u001B[39m)\n",
      "File \u001B[1;32m~\\anaconda3\\envs\\ADM-HW2\\Lib\\site-packages\\pandas\\core\\methods\\describe.py:97\u001B[0m, in \u001B[0;36mdescribe_ndframe\u001B[1;34m(obj, include, exclude, percentiles)\u001B[0m\n\u001B[0;32m     90\u001B[0m \u001B[38;5;28;01melse\u001B[39;00m:\n\u001B[0;32m     91\u001B[0m     describer \u001B[38;5;241m=\u001B[39m DataFrameDescriber(\n\u001B[0;32m     92\u001B[0m         obj\u001B[38;5;241m=\u001B[39mcast(\u001B[38;5;124m\"\u001B[39m\u001B[38;5;124mDataFrame\u001B[39m\u001B[38;5;124m\"\u001B[39m, obj),\n\u001B[0;32m     93\u001B[0m         include\u001B[38;5;241m=\u001B[39minclude,\n\u001B[0;32m     94\u001B[0m         exclude\u001B[38;5;241m=\u001B[39mexclude,\n\u001B[0;32m     95\u001B[0m     )\n\u001B[1;32m---> 97\u001B[0m result \u001B[38;5;241m=\u001B[39m \u001B[43mdescriber\u001B[49m\u001B[38;5;241;43m.\u001B[39;49m\u001B[43mdescribe\u001B[49m\u001B[43m(\u001B[49m\u001B[43mpercentiles\u001B[49m\u001B[38;5;241;43m=\u001B[39;49m\u001B[43mpercentiles\u001B[49m\u001B[43m)\u001B[49m\n\u001B[0;32m     98\u001B[0m \u001B[38;5;28;01mreturn\u001B[39;00m cast(NDFrameT, result)\n",
      "File \u001B[1;32m~\\anaconda3\\envs\\ADM-HW2\\Lib\\site-packages\\pandas\\core\\methods\\describe.py:167\u001B[0m, in \u001B[0;36mDataFrameDescriber.describe\u001B[1;34m(self, percentiles)\u001B[0m\n\u001B[0;32m    166\u001B[0m \u001B[38;5;28;01mdef\u001B[39;00m \u001B[38;5;21mdescribe\u001B[39m(\u001B[38;5;28mself\u001B[39m, percentiles: Sequence[\u001B[38;5;28mfloat\u001B[39m] \u001B[38;5;241m|\u001B[39m np\u001B[38;5;241m.\u001B[39mndarray) \u001B[38;5;241m-\u001B[39m\u001B[38;5;241m>\u001B[39m DataFrame:\n\u001B[1;32m--> 167\u001B[0m     data \u001B[38;5;241m=\u001B[39m \u001B[38;5;28;43mself\u001B[39;49m\u001B[38;5;241;43m.\u001B[39;49m\u001B[43m_select_data\u001B[49m\u001B[43m(\u001B[49m\u001B[43m)\u001B[49m\n\u001B[0;32m    169\u001B[0m     ldesc: \u001B[38;5;28mlist\u001B[39m[Series] \u001B[38;5;241m=\u001B[39m []\n\u001B[0;32m    170\u001B[0m     \u001B[38;5;28;01mfor\u001B[39;00m _, series \u001B[38;5;129;01min\u001B[39;00m data\u001B[38;5;241m.\u001B[39mitems():\n",
      "File \u001B[1;32m~\\anaconda3\\envs\\ADM-HW2\\Lib\\site-packages\\pandas\\core\\methods\\describe.py:188\u001B[0m, in \u001B[0;36mDataFrameDescriber._select_data\u001B[1;34m(self)\u001B[0m\n\u001B[0;32m    185\u001B[0m \u001B[38;5;28;01mif\u001B[39;00m (\u001B[38;5;28mself\u001B[39m\u001B[38;5;241m.\u001B[39minclude \u001B[38;5;129;01mis\u001B[39;00m \u001B[38;5;28;01mNone\u001B[39;00m) \u001B[38;5;129;01mand\u001B[39;00m (\u001B[38;5;28mself\u001B[39m\u001B[38;5;241m.\u001B[39mexclude \u001B[38;5;129;01mis\u001B[39;00m \u001B[38;5;28;01mNone\u001B[39;00m):\n\u001B[0;32m    186\u001B[0m     \u001B[38;5;66;03m# when some numerics are found, keep only numerics\u001B[39;00m\n\u001B[0;32m    187\u001B[0m     default_include: \u001B[38;5;28mlist\u001B[39m[npt\u001B[38;5;241m.\u001B[39mDTypeLike] \u001B[38;5;241m=\u001B[39m [np\u001B[38;5;241m.\u001B[39mnumber, \u001B[38;5;124m\"\u001B[39m\u001B[38;5;124mdatetime\u001B[39m\u001B[38;5;124m\"\u001B[39m]\n\u001B[1;32m--> 188\u001B[0m     data \u001B[38;5;241m=\u001B[39m \u001B[38;5;28;43mself\u001B[39;49m\u001B[38;5;241;43m.\u001B[39;49m\u001B[43mobj\u001B[49m\u001B[38;5;241;43m.\u001B[39;49m\u001B[43mselect_dtypes\u001B[49m\u001B[43m(\u001B[49m\u001B[43minclude\u001B[49m\u001B[38;5;241;43m=\u001B[39;49m\u001B[43mdefault_include\u001B[49m\u001B[43m)\u001B[49m\n\u001B[0;32m    189\u001B[0m     \u001B[38;5;28;01mif\u001B[39;00m \u001B[38;5;28mlen\u001B[39m(data\u001B[38;5;241m.\u001B[39mcolumns) \u001B[38;5;241m==\u001B[39m \u001B[38;5;241m0\u001B[39m:\n\u001B[0;32m    190\u001B[0m         data \u001B[38;5;241m=\u001B[39m \u001B[38;5;28mself\u001B[39m\u001B[38;5;241m.\u001B[39mobj\n",
      "File \u001B[1;32m~\\anaconda3\\envs\\ADM-HW2\\Lib\\site-packages\\pandas\\core\\frame.py:5091\u001B[0m, in \u001B[0;36mDataFrame.select_dtypes\u001B[1;34m(self, include, exclude)\u001B[0m\n\u001B[0;32m   5087\u001B[0m             \u001B[38;5;28;01mreturn\u001B[39;00m \u001B[38;5;28;01mFalse\u001B[39;00m\n\u001B[0;32m   5089\u001B[0m     \u001B[38;5;28;01mreturn\u001B[39;00m \u001B[38;5;28;01mTrue\u001B[39;00m\n\u001B[1;32m-> 5091\u001B[0m mgr \u001B[38;5;241m=\u001B[39m \u001B[38;5;28;43mself\u001B[39;49m\u001B[38;5;241;43m.\u001B[39;49m\u001B[43m_mgr\u001B[49m\u001B[38;5;241;43m.\u001B[39;49m\u001B[43m_get_data_subset\u001B[49m\u001B[43m(\u001B[49m\u001B[43mpredicate\u001B[49m\u001B[43m)\u001B[49m\u001B[38;5;241;43m.\u001B[39;49m\u001B[43mcopy\u001B[49m\u001B[43m(\u001B[49m\u001B[43mdeep\u001B[49m\u001B[38;5;241;43m=\u001B[39;49m\u001B[38;5;28;43;01mNone\u001B[39;49;00m\u001B[43m)\u001B[49m\n\u001B[0;32m   5092\u001B[0m \u001B[38;5;66;03m# error: Incompatible return value type (got \"DataFrame\", expected \"Self\")\u001B[39;00m\n\u001B[0;32m   5093\u001B[0m \u001B[38;5;28;01mreturn\u001B[39;00m \u001B[38;5;28mself\u001B[39m\u001B[38;5;241m.\u001B[39m_constructor_from_mgr(mgr, axes\u001B[38;5;241m=\u001B[39mmgr\u001B[38;5;241m.\u001B[39maxes)\u001B[38;5;241m.\u001B[39m__finalize__(\u001B[38;5;28mself\u001B[39m)\n",
      "File \u001B[1;32m~\\anaconda3\\envs\\ADM-HW2\\Lib\\site-packages\\pandas\\core\\internals\\managers.py:604\u001B[0m, in \u001B[0;36mBaseBlockManager.copy\u001B[1;34m(self, deep)\u001B[0m\n\u001B[0;32m    601\u001B[0m         res\u001B[38;5;241m.\u001B[39m_blklocs \u001B[38;5;241m=\u001B[39m \u001B[38;5;28mself\u001B[39m\u001B[38;5;241m.\u001B[39m_blklocs\u001B[38;5;241m.\u001B[39mcopy()\n\u001B[0;32m    603\u001B[0m \u001B[38;5;28;01mif\u001B[39;00m deep:\n\u001B[1;32m--> 604\u001B[0m     \u001B[43mres\u001B[49m\u001B[38;5;241;43m.\u001B[39;49m\u001B[43m_consolidate_inplace\u001B[49m\u001B[43m(\u001B[49m\u001B[43m)\u001B[49m\n\u001B[0;32m    605\u001B[0m \u001B[38;5;28;01mreturn\u001B[39;00m res\n",
      "File \u001B[1;32m~\\anaconda3\\envs\\ADM-HW2\\Lib\\site-packages\\pandas\\core\\internals\\managers.py:1788\u001B[0m, in \u001B[0;36mBlockManager._consolidate_inplace\u001B[1;34m(self)\u001B[0m\n\u001B[0;32m   1782\u001B[0m \u001B[38;5;28;01mdef\u001B[39;00m \u001B[38;5;21m_consolidate_inplace\u001B[39m(\u001B[38;5;28mself\u001B[39m) \u001B[38;5;241m-\u001B[39m\u001B[38;5;241m>\u001B[39m \u001B[38;5;28;01mNone\u001B[39;00m:\n\u001B[0;32m   1783\u001B[0m     \u001B[38;5;66;03m# In general, _consolidate_inplace should only be called via\u001B[39;00m\n\u001B[0;32m   1784\u001B[0m     \u001B[38;5;66;03m#  DataFrame._consolidate_inplace, otherwise we will fail to invalidate\u001B[39;00m\n\u001B[0;32m   1785\u001B[0m     \u001B[38;5;66;03m#  the DataFrame's _item_cache. The exception is for newly-created\u001B[39;00m\n\u001B[0;32m   1786\u001B[0m     \u001B[38;5;66;03m#  BlockManager objects not yet attached to a DataFrame.\u001B[39;00m\n\u001B[0;32m   1787\u001B[0m     \u001B[38;5;28;01mif\u001B[39;00m \u001B[38;5;129;01mnot\u001B[39;00m \u001B[38;5;28mself\u001B[39m\u001B[38;5;241m.\u001B[39mis_consolidated():\n\u001B[1;32m-> 1788\u001B[0m         \u001B[38;5;28mself\u001B[39m\u001B[38;5;241m.\u001B[39mblocks \u001B[38;5;241m=\u001B[39m \u001B[43m_consolidate\u001B[49m\u001B[43m(\u001B[49m\u001B[38;5;28;43mself\u001B[39;49m\u001B[38;5;241;43m.\u001B[39;49m\u001B[43mblocks\u001B[49m\u001B[43m)\u001B[49m\n\u001B[0;32m   1789\u001B[0m         \u001B[38;5;28mself\u001B[39m\u001B[38;5;241m.\u001B[39m_is_consolidated \u001B[38;5;241m=\u001B[39m \u001B[38;5;28;01mTrue\u001B[39;00m\n\u001B[0;32m   1790\u001B[0m         \u001B[38;5;28mself\u001B[39m\u001B[38;5;241m.\u001B[39m_known_consolidated \u001B[38;5;241m=\u001B[39m \u001B[38;5;28;01mTrue\u001B[39;00m\n",
      "File \u001B[1;32m~\\anaconda3\\envs\\ADM-HW2\\Lib\\site-packages\\pandas\\core\\internals\\managers.py:2269\u001B[0m, in \u001B[0;36m_consolidate\u001B[1;34m(blocks)\u001B[0m\n\u001B[0;32m   2267\u001B[0m new_blocks: \u001B[38;5;28mlist\u001B[39m[Block] \u001B[38;5;241m=\u001B[39m []\n\u001B[0;32m   2268\u001B[0m \u001B[38;5;28;01mfor\u001B[39;00m (_can_consolidate, dtype), group_blocks \u001B[38;5;129;01min\u001B[39;00m grouper:\n\u001B[1;32m-> 2269\u001B[0m     merged_blocks, _ \u001B[38;5;241m=\u001B[39m \u001B[43m_merge_blocks\u001B[49m\u001B[43m(\u001B[49m\n\u001B[0;32m   2270\u001B[0m \u001B[43m        \u001B[49m\u001B[38;5;28;43mlist\u001B[39;49m\u001B[43m(\u001B[49m\u001B[43mgroup_blocks\u001B[49m\u001B[43m)\u001B[49m\u001B[43m,\u001B[49m\u001B[43m \u001B[49m\u001B[43mdtype\u001B[49m\u001B[38;5;241;43m=\u001B[39;49m\u001B[43mdtype\u001B[49m\u001B[43m,\u001B[49m\u001B[43m \u001B[49m\u001B[43mcan_consolidate\u001B[49m\u001B[38;5;241;43m=\u001B[39;49m\u001B[43m_can_consolidate\u001B[49m\n\u001B[0;32m   2271\u001B[0m \u001B[43m    \u001B[49m\u001B[43m)\u001B[49m\n\u001B[0;32m   2272\u001B[0m     new_blocks \u001B[38;5;241m=\u001B[39m extend_blocks(merged_blocks, new_blocks)\n\u001B[0;32m   2273\u001B[0m \u001B[38;5;28;01mreturn\u001B[39;00m \u001B[38;5;28mtuple\u001B[39m(new_blocks)\n",
      "File \u001B[1;32m~\\anaconda3\\envs\\ADM-HW2\\Lib\\site-packages\\pandas\\core\\internals\\managers.py:2301\u001B[0m, in \u001B[0;36m_merge_blocks\u001B[1;34m(blocks, dtype, can_consolidate)\u001B[0m\n\u001B[0;32m   2298\u001B[0m     new_values \u001B[38;5;241m=\u001B[39m bvals2[\u001B[38;5;241m0\u001B[39m]\u001B[38;5;241m.\u001B[39m_concat_same_type(bvals2, axis\u001B[38;5;241m=\u001B[39m\u001B[38;5;241m0\u001B[39m)\n\u001B[0;32m   2300\u001B[0m argsort \u001B[38;5;241m=\u001B[39m np\u001B[38;5;241m.\u001B[39margsort(new_mgr_locs)\n\u001B[1;32m-> 2301\u001B[0m new_values \u001B[38;5;241m=\u001B[39m \u001B[43mnew_values\u001B[49m\u001B[43m[\u001B[49m\u001B[43margsort\u001B[49m\u001B[43m]\u001B[49m\n\u001B[0;32m   2302\u001B[0m new_mgr_locs \u001B[38;5;241m=\u001B[39m new_mgr_locs[argsort]\n\u001B[0;32m   2304\u001B[0m bp \u001B[38;5;241m=\u001B[39m BlockPlacement(new_mgr_locs)\n",
      "\u001B[1;31mMemoryError\u001B[0m: Unable to allocate 830. MiB for an array with shape (5, 21747371) and data type float64"
     ]
    }
   ],
   "execution_count": 12
  },
  {
   "metadata": {
    "ExecuteTime": {
     "end_time": "2024-10-30T17:59:23.287127Z",
     "start_time": "2024-10-30T17:59:22.969460Z"
    }
   },
   "cell_type": "code",
   "source": [
    "data = pd.read_csv(\"data/steam_reviews.csv\", nrows=100000)\n",
    "data"
   ],
   "id": "38963d20252438df",
   "outputs": [
    {
     "data": {
      "text/plain": [
       "      Unnamed: 0  app_id                  app_name  review_id  language  \\\n",
       "0              0  292030  The Witcher 3: Wild Hunt   85185598  schinese   \n",
       "1              1  292030  The Witcher 3: Wild Hunt   85185250  schinese   \n",
       "2              2  292030  The Witcher 3: Wild Hunt   85185111  schinese   \n",
       "3              3  292030  The Witcher 3: Wild Hunt   85184605   english   \n",
       "4              4  292030  The Witcher 3: Wild Hunt   85184287  schinese   \n",
       "...          ...     ...                       ...        ...       ...   \n",
       "9995        9995  292030  The Witcher 3: Wild Hunt   83623769   english   \n",
       "9996        9996  292030  The Witcher 3: Wild Hunt   83623661  schinese   \n",
       "9997        9997  292030  The Witcher 3: Wild Hunt   83623580   koreana   \n",
       "9998        9998  292030  The Witcher 3: Wild Hunt   83623547      thai   \n",
       "9999        9999  292030  The Witcher 3: Wild Hunt   83623430   english   \n",
       "\n",
       "                                                 review  timestamp_created  \\\n",
       "0                               不玩此生遗憾，RPG游戏里的天花板，太吸引人了         1611381629   \n",
       "1                                    拔DIAO无情打桩机--杰洛特!!!         1611381030   \n",
       "2                                                 巫师3NB         1611380800   \n",
       "3     One of the best RPG's of all time, worthy of a...         1611379970   \n",
       "4                                                    大作         1611379427   \n",
       "...                                                 ...                ...   \n",
       "9995  so far its my favorite RPG, i'd recommend inst...         1609389337   \n",
       "9996  男爵：我的妻子和女儿失踪了，我每天晚上睡不着觉。\\n杰洛特：那来一局昆特牌吧。\\n男爵：来来...         1609389203   \n",
       "9997  本人이. 생각하는. 이게임의. 본 히로인은. 트리스라고,, 생각합니다.\\n공자께서,...         1609389120   \n",
       "9998  How about a round of Gwent ?\\n\\nจุดเด่น\\n● กรา...         1609389081   \n",
       "9999                                                  .         1609388966   \n",
       "\n",
       "      timestamp_updated  recommended  votes_helpful  votes_funny  \\\n",
       "0            1611381629         True              0            0   \n",
       "1            1611381030         True              0            0   \n",
       "2            1611380800         True              0            0   \n",
       "3            1611379970         True              0            0   \n",
       "4            1611379427         True              0            0   \n",
       "...                 ...          ...            ...          ...   \n",
       "9995         1609389337         True              0            0   \n",
       "9996         1609389203         True              1            0   \n",
       "9997         1609389120         True              1            0   \n",
       "9998         1609403822         True              0            0   \n",
       "9999         1609388966         True              0            0   \n",
       "\n",
       "      weighted_vote_score  comment_count  steam_purchase  received_for_free  \\\n",
       "0                   0.000              0            True              False   \n",
       "1                   0.000              0            True              False   \n",
       "2                   0.000              0            True              False   \n",
       "3                   0.000              0            True              False   \n",
       "4                   0.000              0            True              False   \n",
       "...                   ...            ...             ...                ...   \n",
       "9995                0.000              0            True              False   \n",
       "9996                0.524              0            True              False   \n",
       "9997                0.500              0            True              False   \n",
       "9998                0.000              0            True              False   \n",
       "9999                0.000              0            True              False   \n",
       "\n",
       "      written_during_early_access     author.steamid  author.num_games_owned  \\\n",
       "0                           False  76561199095369542                       6   \n",
       "1                           False  76561198949504115                      30   \n",
       "2                           False  76561199090098988                       5   \n",
       "3                           False  76561199054755373                       5   \n",
       "4                           False  76561199028326951                       7   \n",
       "...                           ...                ...                     ...   \n",
       "9995                        False  76561198280791409                      73   \n",
       "9996                        False  76561198433301835                      61   \n",
       "9997                        False  76561198074638991                      37   \n",
       "9998                        False  76561199084164126                      10   \n",
       "9999                        False  76561198012769517                     122   \n",
       "\n",
       "      author.num_reviews  author.playtime_forever  \\\n",
       "0                      2                 1909.000   \n",
       "1                     10                 2764.000   \n",
       "2                      1                 1061.000   \n",
       "3                      3                 5587.000   \n",
       "4                      4                  217.000   \n",
       "...                  ...                      ...   \n",
       "9995                  36                 1790.000   \n",
       "9996                   1                 6237.000   \n",
       "9997                  13                 2940.000   \n",
       "9998                   3                30720.000   \n",
       "9999                   3                  385.000   \n",
       "\n",
       "      author.playtime_last_two_weeks  author.playtime_at_review  \\\n",
       "0                           1448.000                   1909.000   \n",
       "1                           2743.000                   2674.000   \n",
       "2                           1061.000                   1060.000   \n",
       "3                           3200.000                   5524.000   \n",
       "4                             42.000                    217.000   \n",
       "...                              ...                        ...   \n",
       "9995                         937.000                    238.000   \n",
       "9996                        2515.000                   2546.000   \n",
       "9997                           0.000                   2940.000   \n",
       "9998                        8671.000                  11618.000   \n",
       "9999                           0.000                    366.000   \n",
       "\n",
       "      author.last_played  \n",
       "0         1611343383.000  \n",
       "1         1611386307.000  \n",
       "2         1611383777.000  \n",
       "3         1611383744.000  \n",
       "4         1610788249.000  \n",
       "...                  ...  \n",
       "9995      1611113140.000  \n",
       "9996      1611328665.000  \n",
       "9997      1549951910.000  \n",
       "9998      1610801507.000  \n",
       "9999      1609542157.000  \n",
       "\n",
       "[10000 rows x 23 columns]"
      ],
      "text/html": [
       "<div>\n",
       "<style scoped>\n",
       "    .dataframe tbody tr th:only-of-type {\n",
       "        vertical-align: middle;\n",
       "    }\n",
       "\n",
       "    .dataframe tbody tr th {\n",
       "        vertical-align: top;\n",
       "    }\n",
       "\n",
       "    .dataframe thead th {\n",
       "        text-align: right;\n",
       "    }\n",
       "</style>\n",
       "<table border=\"1\" class=\"dataframe\">\n",
       "  <thead>\n",
       "    <tr style=\"text-align: right;\">\n",
       "      <th></th>\n",
       "      <th>Unnamed: 0</th>\n",
       "      <th>app_id</th>\n",
       "      <th>app_name</th>\n",
       "      <th>review_id</th>\n",
       "      <th>language</th>\n",
       "      <th>review</th>\n",
       "      <th>timestamp_created</th>\n",
       "      <th>timestamp_updated</th>\n",
       "      <th>recommended</th>\n",
       "      <th>votes_helpful</th>\n",
       "      <th>votes_funny</th>\n",
       "      <th>weighted_vote_score</th>\n",
       "      <th>comment_count</th>\n",
       "      <th>steam_purchase</th>\n",
       "      <th>received_for_free</th>\n",
       "      <th>written_during_early_access</th>\n",
       "      <th>author.steamid</th>\n",
       "      <th>author.num_games_owned</th>\n",
       "      <th>author.num_reviews</th>\n",
       "      <th>author.playtime_forever</th>\n",
       "      <th>author.playtime_last_two_weeks</th>\n",
       "      <th>author.playtime_at_review</th>\n",
       "      <th>author.last_played</th>\n",
       "    </tr>\n",
       "  </thead>\n",
       "  <tbody>\n",
       "    <tr>\n",
       "      <th>0</th>\n",
       "      <td>0</td>\n",
       "      <td>292030</td>\n",
       "      <td>The Witcher 3: Wild Hunt</td>\n",
       "      <td>85185598</td>\n",
       "      <td>schinese</td>\n",
       "      <td>不玩此生遗憾，RPG游戏里的天花板，太吸引人了</td>\n",
       "      <td>1611381629</td>\n",
       "      <td>1611381629</td>\n",
       "      <td>True</td>\n",
       "      <td>0</td>\n",
       "      <td>0</td>\n",
       "      <td>0.000</td>\n",
       "      <td>0</td>\n",
       "      <td>True</td>\n",
       "      <td>False</td>\n",
       "      <td>False</td>\n",
       "      <td>76561199095369542</td>\n",
       "      <td>6</td>\n",
       "      <td>2</td>\n",
       "      <td>1909.000</td>\n",
       "      <td>1448.000</td>\n",
       "      <td>1909.000</td>\n",
       "      <td>1611343383.000</td>\n",
       "    </tr>\n",
       "    <tr>\n",
       "      <th>1</th>\n",
       "      <td>1</td>\n",
       "      <td>292030</td>\n",
       "      <td>The Witcher 3: Wild Hunt</td>\n",
       "      <td>85185250</td>\n",
       "      <td>schinese</td>\n",
       "      <td>拔DIAO无情打桩机--杰洛特!!!</td>\n",
       "      <td>1611381030</td>\n",
       "      <td>1611381030</td>\n",
       "      <td>True</td>\n",
       "      <td>0</td>\n",
       "      <td>0</td>\n",
       "      <td>0.000</td>\n",
       "      <td>0</td>\n",
       "      <td>True</td>\n",
       "      <td>False</td>\n",
       "      <td>False</td>\n",
       "      <td>76561198949504115</td>\n",
       "      <td>30</td>\n",
       "      <td>10</td>\n",
       "      <td>2764.000</td>\n",
       "      <td>2743.000</td>\n",
       "      <td>2674.000</td>\n",
       "      <td>1611386307.000</td>\n",
       "    </tr>\n",
       "    <tr>\n",
       "      <th>2</th>\n",
       "      <td>2</td>\n",
       "      <td>292030</td>\n",
       "      <td>The Witcher 3: Wild Hunt</td>\n",
       "      <td>85185111</td>\n",
       "      <td>schinese</td>\n",
       "      <td>巫师3NB</td>\n",
       "      <td>1611380800</td>\n",
       "      <td>1611380800</td>\n",
       "      <td>True</td>\n",
       "      <td>0</td>\n",
       "      <td>0</td>\n",
       "      <td>0.000</td>\n",
       "      <td>0</td>\n",
       "      <td>True</td>\n",
       "      <td>False</td>\n",
       "      <td>False</td>\n",
       "      <td>76561199090098988</td>\n",
       "      <td>5</td>\n",
       "      <td>1</td>\n",
       "      <td>1061.000</td>\n",
       "      <td>1061.000</td>\n",
       "      <td>1060.000</td>\n",
       "      <td>1611383777.000</td>\n",
       "    </tr>\n",
       "    <tr>\n",
       "      <th>3</th>\n",
       "      <td>3</td>\n",
       "      <td>292030</td>\n",
       "      <td>The Witcher 3: Wild Hunt</td>\n",
       "      <td>85184605</td>\n",
       "      <td>english</td>\n",
       "      <td>One of the best RPG's of all time, worthy of a...</td>\n",
       "      <td>1611379970</td>\n",
       "      <td>1611379970</td>\n",
       "      <td>True</td>\n",
       "      <td>0</td>\n",
       "      <td>0</td>\n",
       "      <td>0.000</td>\n",
       "      <td>0</td>\n",
       "      <td>True</td>\n",
       "      <td>False</td>\n",
       "      <td>False</td>\n",
       "      <td>76561199054755373</td>\n",
       "      <td>5</td>\n",
       "      <td>3</td>\n",
       "      <td>5587.000</td>\n",
       "      <td>3200.000</td>\n",
       "      <td>5524.000</td>\n",
       "      <td>1611383744.000</td>\n",
       "    </tr>\n",
       "    <tr>\n",
       "      <th>4</th>\n",
       "      <td>4</td>\n",
       "      <td>292030</td>\n",
       "      <td>The Witcher 3: Wild Hunt</td>\n",
       "      <td>85184287</td>\n",
       "      <td>schinese</td>\n",
       "      <td>大作</td>\n",
       "      <td>1611379427</td>\n",
       "      <td>1611379427</td>\n",
       "      <td>True</td>\n",
       "      <td>0</td>\n",
       "      <td>0</td>\n",
       "      <td>0.000</td>\n",
       "      <td>0</td>\n",
       "      <td>True</td>\n",
       "      <td>False</td>\n",
       "      <td>False</td>\n",
       "      <td>76561199028326951</td>\n",
       "      <td>7</td>\n",
       "      <td>4</td>\n",
       "      <td>217.000</td>\n",
       "      <td>42.000</td>\n",
       "      <td>217.000</td>\n",
       "      <td>1610788249.000</td>\n",
       "    </tr>\n",
       "    <tr>\n",
       "      <th>...</th>\n",
       "      <td>...</td>\n",
       "      <td>...</td>\n",
       "      <td>...</td>\n",
       "      <td>...</td>\n",
       "      <td>...</td>\n",
       "      <td>...</td>\n",
       "      <td>...</td>\n",
       "      <td>...</td>\n",
       "      <td>...</td>\n",
       "      <td>...</td>\n",
       "      <td>...</td>\n",
       "      <td>...</td>\n",
       "      <td>...</td>\n",
       "      <td>...</td>\n",
       "      <td>...</td>\n",
       "      <td>...</td>\n",
       "      <td>...</td>\n",
       "      <td>...</td>\n",
       "      <td>...</td>\n",
       "      <td>...</td>\n",
       "      <td>...</td>\n",
       "      <td>...</td>\n",
       "      <td>...</td>\n",
       "    </tr>\n",
       "    <tr>\n",
       "      <th>9995</th>\n",
       "      <td>9995</td>\n",
       "      <td>292030</td>\n",
       "      <td>The Witcher 3: Wild Hunt</td>\n",
       "      <td>83623769</td>\n",
       "      <td>english</td>\n",
       "      <td>so far its my favorite RPG, i'd recommend inst...</td>\n",
       "      <td>1609389337</td>\n",
       "      <td>1609389337</td>\n",
       "      <td>True</td>\n",
       "      <td>0</td>\n",
       "      <td>0</td>\n",
       "      <td>0.000</td>\n",
       "      <td>0</td>\n",
       "      <td>True</td>\n",
       "      <td>False</td>\n",
       "      <td>False</td>\n",
       "      <td>76561198280791409</td>\n",
       "      <td>73</td>\n",
       "      <td>36</td>\n",
       "      <td>1790.000</td>\n",
       "      <td>937.000</td>\n",
       "      <td>238.000</td>\n",
       "      <td>1611113140.000</td>\n",
       "    </tr>\n",
       "    <tr>\n",
       "      <th>9996</th>\n",
       "      <td>9996</td>\n",
       "      <td>292030</td>\n",
       "      <td>The Witcher 3: Wild Hunt</td>\n",
       "      <td>83623661</td>\n",
       "      <td>schinese</td>\n",
       "      <td>男爵：我的妻子和女儿失踪了，我每天晚上睡不着觉。\\n杰洛特：那来一局昆特牌吧。\\n男爵：来来...</td>\n",
       "      <td>1609389203</td>\n",
       "      <td>1609389203</td>\n",
       "      <td>True</td>\n",
       "      <td>1</td>\n",
       "      <td>0</td>\n",
       "      <td>0.524</td>\n",
       "      <td>0</td>\n",
       "      <td>True</td>\n",
       "      <td>False</td>\n",
       "      <td>False</td>\n",
       "      <td>76561198433301835</td>\n",
       "      <td>61</td>\n",
       "      <td>1</td>\n",
       "      <td>6237.000</td>\n",
       "      <td>2515.000</td>\n",
       "      <td>2546.000</td>\n",
       "      <td>1611328665.000</td>\n",
       "    </tr>\n",
       "    <tr>\n",
       "      <th>9997</th>\n",
       "      <td>9997</td>\n",
       "      <td>292030</td>\n",
       "      <td>The Witcher 3: Wild Hunt</td>\n",
       "      <td>83623580</td>\n",
       "      <td>koreana</td>\n",
       "      <td>本人이. 생각하는. 이게임의. 본 히로인은. 트리스라고,, 생각합니다.\\n공자께서,...</td>\n",
       "      <td>1609389120</td>\n",
       "      <td>1609389120</td>\n",
       "      <td>True</td>\n",
       "      <td>1</td>\n",
       "      <td>0</td>\n",
       "      <td>0.500</td>\n",
       "      <td>0</td>\n",
       "      <td>True</td>\n",
       "      <td>False</td>\n",
       "      <td>False</td>\n",
       "      <td>76561198074638991</td>\n",
       "      <td>37</td>\n",
       "      <td>13</td>\n",
       "      <td>2940.000</td>\n",
       "      <td>0.000</td>\n",
       "      <td>2940.000</td>\n",
       "      <td>1549951910.000</td>\n",
       "    </tr>\n",
       "    <tr>\n",
       "      <th>9998</th>\n",
       "      <td>9998</td>\n",
       "      <td>292030</td>\n",
       "      <td>The Witcher 3: Wild Hunt</td>\n",
       "      <td>83623547</td>\n",
       "      <td>thai</td>\n",
       "      <td>How about a round of Gwent ?\\n\\nจุดเด่น\\n● กรา...</td>\n",
       "      <td>1609389081</td>\n",
       "      <td>1609403822</td>\n",
       "      <td>True</td>\n",
       "      <td>0</td>\n",
       "      <td>0</td>\n",
       "      <td>0.000</td>\n",
       "      <td>0</td>\n",
       "      <td>True</td>\n",
       "      <td>False</td>\n",
       "      <td>False</td>\n",
       "      <td>76561199084164126</td>\n",
       "      <td>10</td>\n",
       "      <td>3</td>\n",
       "      <td>30720.000</td>\n",
       "      <td>8671.000</td>\n",
       "      <td>11618.000</td>\n",
       "      <td>1610801507.000</td>\n",
       "    </tr>\n",
       "    <tr>\n",
       "      <th>9999</th>\n",
       "      <td>9999</td>\n",
       "      <td>292030</td>\n",
       "      <td>The Witcher 3: Wild Hunt</td>\n",
       "      <td>83623430</td>\n",
       "      <td>english</td>\n",
       "      <td>.</td>\n",
       "      <td>1609388966</td>\n",
       "      <td>1609388966</td>\n",
       "      <td>True</td>\n",
       "      <td>0</td>\n",
       "      <td>0</td>\n",
       "      <td>0.000</td>\n",
       "      <td>0</td>\n",
       "      <td>True</td>\n",
       "      <td>False</td>\n",
       "      <td>False</td>\n",
       "      <td>76561198012769517</td>\n",
       "      <td>122</td>\n",
       "      <td>3</td>\n",
       "      <td>385.000</td>\n",
       "      <td>0.000</td>\n",
       "      <td>366.000</td>\n",
       "      <td>1609542157.000</td>\n",
       "    </tr>\n",
       "  </tbody>\n",
       "</table>\n",
       "<p>10000 rows × 23 columns</p>\n",
       "</div>"
      ]
     },
     "execution_count": 13,
     "metadata": {},
     "output_type": "execute_result"
    }
   ],
   "execution_count": 13
  },
  {
   "cell_type": "code",
   "source": "review_time  = pd.read_csv(csv_file_path, usecols=[\"review_id\", \"timestamp_created\", \"timestamp_updated\"], nrows=1000000)",
   "metadata": {
    "id": "AhEDB_aLMrmD",
    "ExecuteTime": {
     "end_time": "2024-10-30T18:05:37.122976Z",
     "start_time": "2024-10-30T18:05:33.184543Z"
    }
   },
   "id": "AhEDB_aLMrmD",
   "outputs": [],
   "execution_count": 21
  },
  {
   "cell_type": "code",
   "source": [
    "review_time['timestamp_created'] = pd.to_datetime(review_time['timestamp_created'], unit='s')\n",
    "review_time['timestamp_updated'] = pd.to_datetime(review_time['timestamp_updated'], unit='s')"
   ],
   "metadata": {
    "id": "F5JJtklfMyey",
    "ExecuteTime": {
     "end_time": "2024-10-30T18:05:40.234915Z",
     "start_time": "2024-10-30T18:05:39.998477Z"
    }
   },
   "id": "F5JJtklfMyey",
   "outputs": [],
   "execution_count": 22
  },
  {
   "cell_type": "code",
   "source": [
    "review_time"
   ],
   "metadata": {
    "colab": {
     "base_uri": "https://localhost:8080/",
     "height": 423
    },
    "id": "LwuDw34GmZ9d",
    "outputId": "f5ff8f3c-8982-4c96-99eb-0c322faba8bb",
    "ExecuteTime": {
     "end_time": "2024-10-30T18:05:41.119831Z",
     "start_time": "2024-10-30T18:05:41.101380Z"
    }
   },
   "id": "LwuDw34GmZ9d",
   "outputs": [
    {
     "data": {
      "text/plain": [
       "        review_id   timestamp_created   timestamp_updated\n",
       "0        85185598 2021-01-23 06:00:29 2021-01-23 06:00:29\n",
       "1        85185250 2021-01-23 05:50:30 2021-01-23 05:50:30\n",
       "2        85185111 2021-01-23 05:46:40 2021-01-23 05:46:40\n",
       "3        85184605 2021-01-23 05:32:50 2021-01-23 05:32:50\n",
       "4        85184287 2021-01-23 05:23:47 2021-01-23 05:23:47\n",
       "...           ...                 ...                 ...\n",
       "999995   71813587 2020-07-01 15:22:55 2020-07-01 15:22:55\n",
       "999996   71813556 2020-07-01 15:22:16 2020-07-01 15:22:16\n",
       "999997   71813511 2020-07-01 15:21:39 2020-07-01 15:21:39\n",
       "999998   71813331 2020-07-01 15:19:10 2020-07-01 15:19:10\n",
       "999999   71813284 2020-07-01 15:18:35 2020-07-01 15:18:35\n",
       "\n",
       "[1000000 rows x 3 columns]"
      ],
      "text/html": [
       "<div>\n",
       "<style scoped>\n",
       "    .dataframe tbody tr th:only-of-type {\n",
       "        vertical-align: middle;\n",
       "    }\n",
       "\n",
       "    .dataframe tbody tr th {\n",
       "        vertical-align: top;\n",
       "    }\n",
       "\n",
       "    .dataframe thead th {\n",
       "        text-align: right;\n",
       "    }\n",
       "</style>\n",
       "<table border=\"1\" class=\"dataframe\">\n",
       "  <thead>\n",
       "    <tr style=\"text-align: right;\">\n",
       "      <th></th>\n",
       "      <th>review_id</th>\n",
       "      <th>timestamp_created</th>\n",
       "      <th>timestamp_updated</th>\n",
       "    </tr>\n",
       "  </thead>\n",
       "  <tbody>\n",
       "    <tr>\n",
       "      <th>0</th>\n",
       "      <td>85185598</td>\n",
       "      <td>2021-01-23 06:00:29</td>\n",
       "      <td>2021-01-23 06:00:29</td>\n",
       "    </tr>\n",
       "    <tr>\n",
       "      <th>1</th>\n",
       "      <td>85185250</td>\n",
       "      <td>2021-01-23 05:50:30</td>\n",
       "      <td>2021-01-23 05:50:30</td>\n",
       "    </tr>\n",
       "    <tr>\n",
       "      <th>2</th>\n",
       "      <td>85185111</td>\n",
       "      <td>2021-01-23 05:46:40</td>\n",
       "      <td>2021-01-23 05:46:40</td>\n",
       "    </tr>\n",
       "    <tr>\n",
       "      <th>3</th>\n",
       "      <td>85184605</td>\n",
       "      <td>2021-01-23 05:32:50</td>\n",
       "      <td>2021-01-23 05:32:50</td>\n",
       "    </tr>\n",
       "    <tr>\n",
       "      <th>4</th>\n",
       "      <td>85184287</td>\n",
       "      <td>2021-01-23 05:23:47</td>\n",
       "      <td>2021-01-23 05:23:47</td>\n",
       "    </tr>\n",
       "    <tr>\n",
       "      <th>...</th>\n",
       "      <td>...</td>\n",
       "      <td>...</td>\n",
       "      <td>...</td>\n",
       "    </tr>\n",
       "    <tr>\n",
       "      <th>999995</th>\n",
       "      <td>71813587</td>\n",
       "      <td>2020-07-01 15:22:55</td>\n",
       "      <td>2020-07-01 15:22:55</td>\n",
       "    </tr>\n",
       "    <tr>\n",
       "      <th>999996</th>\n",
       "      <td>71813556</td>\n",
       "      <td>2020-07-01 15:22:16</td>\n",
       "      <td>2020-07-01 15:22:16</td>\n",
       "    </tr>\n",
       "    <tr>\n",
       "      <th>999997</th>\n",
       "      <td>71813511</td>\n",
       "      <td>2020-07-01 15:21:39</td>\n",
       "      <td>2020-07-01 15:21:39</td>\n",
       "    </tr>\n",
       "    <tr>\n",
       "      <th>999998</th>\n",
       "      <td>71813331</td>\n",
       "      <td>2020-07-01 15:19:10</td>\n",
       "      <td>2020-07-01 15:19:10</td>\n",
       "    </tr>\n",
       "    <tr>\n",
       "      <th>999999</th>\n",
       "      <td>71813284</td>\n",
       "      <td>2020-07-01 15:18:35</td>\n",
       "      <td>2020-07-01 15:18:35</td>\n",
       "    </tr>\n",
       "  </tbody>\n",
       "</table>\n",
       "<p>1000000 rows × 3 columns</p>\n",
       "</div>"
      ]
     },
     "execution_count": 23,
     "metadata": {},
     "output_type": "execute_result"
    }
   ],
   "execution_count": 23
  },
  {
   "cell_type": "code",
   "source": [
    "month_review = review_time[['review_id', 'timestamp_created', 'timestamp_updated']].copy()\n",
    "\n",
    "month_review['month_created'] = month_review['timestamp_created'].dt.month\n",
    "month_review['month_updated'] = month_review['timestamp_updated'].dt.month\n"
   ],
   "metadata": {
    "id": "z-N_IU4ek8-b",
    "ExecuteTime": {
     "end_time": "2024-10-30T18:05:43.483462Z",
     "start_time": "2024-10-30T18:05:43.367586Z"
    }
   },
   "id": "z-N_IU4ek8-b",
   "outputs": [],
   "execution_count": 24
  },
  {
   "cell_type": "code",
   "source": [
    "month_review"
   ],
   "metadata": {
    "colab": {
     "base_uri": "https://localhost:8080/",
     "height": 423
    },
    "id": "MpzbJLLxk8gG",
    "outputId": "dc45fab0-9eef-4c28-8fd5-da2e2c1ac2a6",
    "ExecuteTime": {
     "end_time": "2024-10-30T18:05:44.088764Z",
     "start_time": "2024-10-30T18:05:44.074072Z"
    }
   },
   "id": "MpzbJLLxk8gG",
   "outputs": [
    {
     "data": {
      "text/plain": [
       "        review_id   timestamp_created   timestamp_updated  month_created  \\\n",
       "0        85185598 2021-01-23 06:00:29 2021-01-23 06:00:29              1   \n",
       "1        85185250 2021-01-23 05:50:30 2021-01-23 05:50:30              1   \n",
       "2        85185111 2021-01-23 05:46:40 2021-01-23 05:46:40              1   \n",
       "3        85184605 2021-01-23 05:32:50 2021-01-23 05:32:50              1   \n",
       "4        85184287 2021-01-23 05:23:47 2021-01-23 05:23:47              1   \n",
       "...           ...                 ...                 ...            ...   \n",
       "999995   71813587 2020-07-01 15:22:55 2020-07-01 15:22:55              7   \n",
       "999996   71813556 2020-07-01 15:22:16 2020-07-01 15:22:16              7   \n",
       "999997   71813511 2020-07-01 15:21:39 2020-07-01 15:21:39              7   \n",
       "999998   71813331 2020-07-01 15:19:10 2020-07-01 15:19:10              7   \n",
       "999999   71813284 2020-07-01 15:18:35 2020-07-01 15:18:35              7   \n",
       "\n",
       "        month_updated  \n",
       "0                   1  \n",
       "1                   1  \n",
       "2                   1  \n",
       "3                   1  \n",
       "4                   1  \n",
       "...               ...  \n",
       "999995              7  \n",
       "999996              7  \n",
       "999997              7  \n",
       "999998              7  \n",
       "999999              7  \n",
       "\n",
       "[1000000 rows x 5 columns]"
      ],
      "text/html": [
       "<div>\n",
       "<style scoped>\n",
       "    .dataframe tbody tr th:only-of-type {\n",
       "        vertical-align: middle;\n",
       "    }\n",
       "\n",
       "    .dataframe tbody tr th {\n",
       "        vertical-align: top;\n",
       "    }\n",
       "\n",
       "    .dataframe thead th {\n",
       "        text-align: right;\n",
       "    }\n",
       "</style>\n",
       "<table border=\"1\" class=\"dataframe\">\n",
       "  <thead>\n",
       "    <tr style=\"text-align: right;\">\n",
       "      <th></th>\n",
       "      <th>review_id</th>\n",
       "      <th>timestamp_created</th>\n",
       "      <th>timestamp_updated</th>\n",
       "      <th>month_created</th>\n",
       "      <th>month_updated</th>\n",
       "    </tr>\n",
       "  </thead>\n",
       "  <tbody>\n",
       "    <tr>\n",
       "      <th>0</th>\n",
       "      <td>85185598</td>\n",
       "      <td>2021-01-23 06:00:29</td>\n",
       "      <td>2021-01-23 06:00:29</td>\n",
       "      <td>1</td>\n",
       "      <td>1</td>\n",
       "    </tr>\n",
       "    <tr>\n",
       "      <th>1</th>\n",
       "      <td>85185250</td>\n",
       "      <td>2021-01-23 05:50:30</td>\n",
       "      <td>2021-01-23 05:50:30</td>\n",
       "      <td>1</td>\n",
       "      <td>1</td>\n",
       "    </tr>\n",
       "    <tr>\n",
       "      <th>2</th>\n",
       "      <td>85185111</td>\n",
       "      <td>2021-01-23 05:46:40</td>\n",
       "      <td>2021-01-23 05:46:40</td>\n",
       "      <td>1</td>\n",
       "      <td>1</td>\n",
       "    </tr>\n",
       "    <tr>\n",
       "      <th>3</th>\n",
       "      <td>85184605</td>\n",
       "      <td>2021-01-23 05:32:50</td>\n",
       "      <td>2021-01-23 05:32:50</td>\n",
       "      <td>1</td>\n",
       "      <td>1</td>\n",
       "    </tr>\n",
       "    <tr>\n",
       "      <th>4</th>\n",
       "      <td>85184287</td>\n",
       "      <td>2021-01-23 05:23:47</td>\n",
       "      <td>2021-01-23 05:23:47</td>\n",
       "      <td>1</td>\n",
       "      <td>1</td>\n",
       "    </tr>\n",
       "    <tr>\n",
       "      <th>...</th>\n",
       "      <td>...</td>\n",
       "      <td>...</td>\n",
       "      <td>...</td>\n",
       "      <td>...</td>\n",
       "      <td>...</td>\n",
       "    </tr>\n",
       "    <tr>\n",
       "      <th>999995</th>\n",
       "      <td>71813587</td>\n",
       "      <td>2020-07-01 15:22:55</td>\n",
       "      <td>2020-07-01 15:22:55</td>\n",
       "      <td>7</td>\n",
       "      <td>7</td>\n",
       "    </tr>\n",
       "    <tr>\n",
       "      <th>999996</th>\n",
       "      <td>71813556</td>\n",
       "      <td>2020-07-01 15:22:16</td>\n",
       "      <td>2020-07-01 15:22:16</td>\n",
       "      <td>7</td>\n",
       "      <td>7</td>\n",
       "    </tr>\n",
       "    <tr>\n",
       "      <th>999997</th>\n",
       "      <td>71813511</td>\n",
       "      <td>2020-07-01 15:21:39</td>\n",
       "      <td>2020-07-01 15:21:39</td>\n",
       "      <td>7</td>\n",
       "      <td>7</td>\n",
       "    </tr>\n",
       "    <tr>\n",
       "      <th>999998</th>\n",
       "      <td>71813331</td>\n",
       "      <td>2020-07-01 15:19:10</td>\n",
       "      <td>2020-07-01 15:19:10</td>\n",
       "      <td>7</td>\n",
       "      <td>7</td>\n",
       "    </tr>\n",
       "    <tr>\n",
       "      <th>999999</th>\n",
       "      <td>71813284</td>\n",
       "      <td>2020-07-01 15:18:35</td>\n",
       "      <td>2020-07-01 15:18:35</td>\n",
       "      <td>7</td>\n",
       "      <td>7</td>\n",
       "    </tr>\n",
       "  </tbody>\n",
       "</table>\n",
       "<p>1000000 rows × 5 columns</p>\n",
       "</div>"
      ]
     },
     "execution_count": 25,
     "metadata": {},
     "output_type": "execute_result"
    }
   ],
   "execution_count": 25
  },
  {
   "cell_type": "code",
   "source": [
    "month_review_created_counts = month_review.groupby('month_created').size().reset_index(name='review_count')\n",
    "month_review_updated_counts = month_review.groupby('month_updated').size().reset_index(name='review_count')\n",
    "\n",
    "month_review_updated_counts"
   ],
   "metadata": {
    "colab": {
     "base_uri": "https://localhost:8080/",
     "height": 425
    },
    "id": "WETDn9sWM35V",
    "outputId": "43b80422-644c-4a69-c7a1-b80c4bc14b0d",
    "ExecuteTime": {
     "end_time": "2024-10-30T18:05:45.925315Z",
     "start_time": "2024-10-30T18:05:45.862805Z"
    }
   },
   "id": "WETDn9sWM35V",
   "outputs": [
    {
     "data": {
      "text/plain": [
       "    month_updated  review_count\n",
       "0               1        110382\n",
       "1               2         51879\n",
       "2               3         48402\n",
       "3               4         51475\n",
       "4               5         52337\n",
       "5               6         83273\n",
       "6               7        101336\n",
       "7               8         56332\n",
       "8               9         50352\n",
       "9              10         51208\n",
       "10             11        206167\n",
       "11             12        136857"
      ],
      "text/html": [
       "<div>\n",
       "<style scoped>\n",
       "    .dataframe tbody tr th:only-of-type {\n",
       "        vertical-align: middle;\n",
       "    }\n",
       "\n",
       "    .dataframe tbody tr th {\n",
       "        vertical-align: top;\n",
       "    }\n",
       "\n",
       "    .dataframe thead th {\n",
       "        text-align: right;\n",
       "    }\n",
       "</style>\n",
       "<table border=\"1\" class=\"dataframe\">\n",
       "  <thead>\n",
       "    <tr style=\"text-align: right;\">\n",
       "      <th></th>\n",
       "      <th>month_updated</th>\n",
       "      <th>review_count</th>\n",
       "    </tr>\n",
       "  </thead>\n",
       "  <tbody>\n",
       "    <tr>\n",
       "      <th>0</th>\n",
       "      <td>1</td>\n",
       "      <td>110382</td>\n",
       "    </tr>\n",
       "    <tr>\n",
       "      <th>1</th>\n",
       "      <td>2</td>\n",
       "      <td>51879</td>\n",
       "    </tr>\n",
       "    <tr>\n",
       "      <th>2</th>\n",
       "      <td>3</td>\n",
       "      <td>48402</td>\n",
       "    </tr>\n",
       "    <tr>\n",
       "      <th>3</th>\n",
       "      <td>4</td>\n",
       "      <td>51475</td>\n",
       "    </tr>\n",
       "    <tr>\n",
       "      <th>4</th>\n",
       "      <td>5</td>\n",
       "      <td>52337</td>\n",
       "    </tr>\n",
       "    <tr>\n",
       "      <th>5</th>\n",
       "      <td>6</td>\n",
       "      <td>83273</td>\n",
       "    </tr>\n",
       "    <tr>\n",
       "      <th>6</th>\n",
       "      <td>7</td>\n",
       "      <td>101336</td>\n",
       "    </tr>\n",
       "    <tr>\n",
       "      <th>7</th>\n",
       "      <td>8</td>\n",
       "      <td>56332</td>\n",
       "    </tr>\n",
       "    <tr>\n",
       "      <th>8</th>\n",
       "      <td>9</td>\n",
       "      <td>50352</td>\n",
       "    </tr>\n",
       "    <tr>\n",
       "      <th>9</th>\n",
       "      <td>10</td>\n",
       "      <td>51208</td>\n",
       "    </tr>\n",
       "    <tr>\n",
       "      <th>10</th>\n",
       "      <td>11</td>\n",
       "      <td>206167</td>\n",
       "    </tr>\n",
       "    <tr>\n",
       "      <th>11</th>\n",
       "      <td>12</td>\n",
       "      <td>136857</td>\n",
       "    </tr>\n",
       "  </tbody>\n",
       "</table>\n",
       "</div>"
      ]
     },
     "execution_count": 26,
     "metadata": {},
     "output_type": "execute_result"
    }
   ],
   "execution_count": 26
  },
  {
   "cell_type": "code",
   "source": [
    "import plotly.graph_objects as go\n",
    "\n",
    "fig = go.Figure()\n",
    "\n",
    "fig.add_trace(go.Scatter(\n",
    "    x=month_review_created_counts['month_created'],\n",
    "    y=month_review_created_counts['review_count'],\n",
    "    mode='lines+markers',\n",
    "    name='Reviews Created'\n",
    "))\n",
    "\n",
    "fig.add_trace(go.Scatter(\n",
    "    x=month_review_updated_counts['month_updated'],\n",
    "    y=month_review_updated_counts['review_count'],\n",
    "    mode='lines+markers',\n",
    "    name='Reviews Updated'\n",
    "))\n",
    "\n",
    "fig.update_layout(\n",
    "    title=\"Number of Reviews Created and Updated Each Month\",\n",
    "    xaxis_title=\"Month\",\n",
    "    yaxis_title=\"Review Count\"\n",
    ")\n",
    "fig.update_yaxes(tickformat=\",.0f\")\n",
    "\n",
    "fig.show()\n"
   ],
   "metadata": {
    "colab": {
     "base_uri": "https://localhost:8080/",
     "height": 542
    },
    "id": "qNGCk8a8M9Z7",
    "outputId": "23c6dce0-ce43-49d1-fd38-dde0bab1638f",
    "ExecuteTime": {
     "end_time": "2024-10-30T18:05:47.042919Z",
     "start_time": "2024-10-30T18:05:47.018027Z"
    }
   },
   "id": "qNGCk8a8M9Z7",
   "outputs": [
    {
     "data": {
      "application/vnd.plotly.v1+json": {
       "data": [
        {
         "mode": "lines+markers",
         "name": "Reviews Created",
         "x": [
          1,
          2,
          3,
          4,
          5,
          6,
          7,
          8,
          9,
          10,
          11,
          12
         ],
         "y": [
          110238,
          53312,
          48954,
          52277,
          54505,
          86101,
          104131,
          57367,
          51332,
          52231,
          193607,
          135945
         ],
         "type": "scatter"
        },
        {
         "mode": "lines+markers",
         "name": "Reviews Updated",
         "x": [
          1,
          2,
          3,
          4,
          5,
          6,
          7,
          8,
          9,
          10,
          11,
          12
         ],
         "y": [
          110382,
          51879,
          48402,
          51475,
          52337,
          83273,
          101336,
          56332,
          50352,
          51208,
          206167,
          136857
         ],
         "type": "scatter"
        }
       ],
       "layout": {
        "template": {
         "data": {
          "histogram2dcontour": [
           {
            "type": "histogram2dcontour",
            "colorbar": {
             "outlinewidth": 0,
             "ticks": ""
            },
            "colorscale": [
             [
              0.0,
              "#0d0887"
             ],
             [
              0.1111111111111111,
              "#46039f"
             ],
             [
              0.2222222222222222,
              "#7201a8"
             ],
             [
              0.3333333333333333,
              "#9c179e"
             ],
             [
              0.4444444444444444,
              "#bd3786"
             ],
             [
              0.5555555555555556,
              "#d8576b"
             ],
             [
              0.6666666666666666,
              "#ed7953"
             ],
             [
              0.7777777777777778,
              "#fb9f3a"
             ],
             [
              0.8888888888888888,
              "#fdca26"
             ],
             [
              1.0,
              "#f0f921"
             ]
            ]
           }
          ],
          "choropleth": [
           {
            "type": "choropleth",
            "colorbar": {
             "outlinewidth": 0,
             "ticks": ""
            }
           }
          ],
          "histogram2d": [
           {
            "type": "histogram2d",
            "colorbar": {
             "outlinewidth": 0,
             "ticks": ""
            },
            "colorscale": [
             [
              0.0,
              "#0d0887"
             ],
             [
              0.1111111111111111,
              "#46039f"
             ],
             [
              0.2222222222222222,
              "#7201a8"
             ],
             [
              0.3333333333333333,
              "#9c179e"
             ],
             [
              0.4444444444444444,
              "#bd3786"
             ],
             [
              0.5555555555555556,
              "#d8576b"
             ],
             [
              0.6666666666666666,
              "#ed7953"
             ],
             [
              0.7777777777777778,
              "#fb9f3a"
             ],
             [
              0.8888888888888888,
              "#fdca26"
             ],
             [
              1.0,
              "#f0f921"
             ]
            ]
           }
          ],
          "heatmap": [
           {
            "type": "heatmap",
            "colorbar": {
             "outlinewidth": 0,
             "ticks": ""
            },
            "colorscale": [
             [
              0.0,
              "#0d0887"
             ],
             [
              0.1111111111111111,
              "#46039f"
             ],
             [
              0.2222222222222222,
              "#7201a8"
             ],
             [
              0.3333333333333333,
              "#9c179e"
             ],
             [
              0.4444444444444444,
              "#bd3786"
             ],
             [
              0.5555555555555556,
              "#d8576b"
             ],
             [
              0.6666666666666666,
              "#ed7953"
             ],
             [
              0.7777777777777778,
              "#fb9f3a"
             ],
             [
              0.8888888888888888,
              "#fdca26"
             ],
             [
              1.0,
              "#f0f921"
             ]
            ]
           }
          ],
          "heatmapgl": [
           {
            "type": "heatmapgl",
            "colorbar": {
             "outlinewidth": 0,
             "ticks": ""
            },
            "colorscale": [
             [
              0.0,
              "#0d0887"
             ],
             [
              0.1111111111111111,
              "#46039f"
             ],
             [
              0.2222222222222222,
              "#7201a8"
             ],
             [
              0.3333333333333333,
              "#9c179e"
             ],
             [
              0.4444444444444444,
              "#bd3786"
             ],
             [
              0.5555555555555556,
              "#d8576b"
             ],
             [
              0.6666666666666666,
              "#ed7953"
             ],
             [
              0.7777777777777778,
              "#fb9f3a"
             ],
             [
              0.8888888888888888,
              "#fdca26"
             ],
             [
              1.0,
              "#f0f921"
             ]
            ]
           }
          ],
          "contourcarpet": [
           {
            "type": "contourcarpet",
            "colorbar": {
             "outlinewidth": 0,
             "ticks": ""
            }
           }
          ],
          "contour": [
           {
            "type": "contour",
            "colorbar": {
             "outlinewidth": 0,
             "ticks": ""
            },
            "colorscale": [
             [
              0.0,
              "#0d0887"
             ],
             [
              0.1111111111111111,
              "#46039f"
             ],
             [
              0.2222222222222222,
              "#7201a8"
             ],
             [
              0.3333333333333333,
              "#9c179e"
             ],
             [
              0.4444444444444444,
              "#bd3786"
             ],
             [
              0.5555555555555556,
              "#d8576b"
             ],
             [
              0.6666666666666666,
              "#ed7953"
             ],
             [
              0.7777777777777778,
              "#fb9f3a"
             ],
             [
              0.8888888888888888,
              "#fdca26"
             ],
             [
              1.0,
              "#f0f921"
             ]
            ]
           }
          ],
          "surface": [
           {
            "type": "surface",
            "colorbar": {
             "outlinewidth": 0,
             "ticks": ""
            },
            "colorscale": [
             [
              0.0,
              "#0d0887"
             ],
             [
              0.1111111111111111,
              "#46039f"
             ],
             [
              0.2222222222222222,
              "#7201a8"
             ],
             [
              0.3333333333333333,
              "#9c179e"
             ],
             [
              0.4444444444444444,
              "#bd3786"
             ],
             [
              0.5555555555555556,
              "#d8576b"
             ],
             [
              0.6666666666666666,
              "#ed7953"
             ],
             [
              0.7777777777777778,
              "#fb9f3a"
             ],
             [
              0.8888888888888888,
              "#fdca26"
             ],
             [
              1.0,
              "#f0f921"
             ]
            ]
           }
          ],
          "mesh3d": [
           {
            "type": "mesh3d",
            "colorbar": {
             "outlinewidth": 0,
             "ticks": ""
            }
           }
          ],
          "scatter": [
           {
            "fillpattern": {
             "fillmode": "overlay",
             "size": 10,
             "solidity": 0.2
            },
            "type": "scatter"
           }
          ],
          "parcoords": [
           {
            "type": "parcoords",
            "line": {
             "colorbar": {
              "outlinewidth": 0,
              "ticks": ""
             }
            }
           }
          ],
          "scatterpolargl": [
           {
            "type": "scatterpolargl",
            "marker": {
             "colorbar": {
              "outlinewidth": 0,
              "ticks": ""
             }
            }
           }
          ],
          "bar": [
           {
            "error_x": {
             "color": "#2a3f5f"
            },
            "error_y": {
             "color": "#2a3f5f"
            },
            "marker": {
             "line": {
              "color": "#E5ECF6",
              "width": 0.5
             },
             "pattern": {
              "fillmode": "overlay",
              "size": 10,
              "solidity": 0.2
             }
            },
            "type": "bar"
           }
          ],
          "scattergeo": [
           {
            "type": "scattergeo",
            "marker": {
             "colorbar": {
              "outlinewidth": 0,
              "ticks": ""
             }
            }
           }
          ],
          "scatterpolar": [
           {
            "type": "scatterpolar",
            "marker": {
             "colorbar": {
              "outlinewidth": 0,
              "ticks": ""
             }
            }
           }
          ],
          "histogram": [
           {
            "marker": {
             "pattern": {
              "fillmode": "overlay",
              "size": 10,
              "solidity": 0.2
             }
            },
            "type": "histogram"
           }
          ],
          "scattergl": [
           {
            "type": "scattergl",
            "marker": {
             "colorbar": {
              "outlinewidth": 0,
              "ticks": ""
             }
            }
           }
          ],
          "scatter3d": [
           {
            "type": "scatter3d",
            "line": {
             "colorbar": {
              "outlinewidth": 0,
              "ticks": ""
             }
            },
            "marker": {
             "colorbar": {
              "outlinewidth": 0,
              "ticks": ""
             }
            }
           }
          ],
          "scattermapbox": [
           {
            "type": "scattermapbox",
            "marker": {
             "colorbar": {
              "outlinewidth": 0,
              "ticks": ""
             }
            }
           }
          ],
          "scatterternary": [
           {
            "type": "scatterternary",
            "marker": {
             "colorbar": {
              "outlinewidth": 0,
              "ticks": ""
             }
            }
           }
          ],
          "scattercarpet": [
           {
            "type": "scattercarpet",
            "marker": {
             "colorbar": {
              "outlinewidth": 0,
              "ticks": ""
             }
            }
           }
          ],
          "carpet": [
           {
            "aaxis": {
             "endlinecolor": "#2a3f5f",
             "gridcolor": "white",
             "linecolor": "white",
             "minorgridcolor": "white",
             "startlinecolor": "#2a3f5f"
            },
            "baxis": {
             "endlinecolor": "#2a3f5f",
             "gridcolor": "white",
             "linecolor": "white",
             "minorgridcolor": "white",
             "startlinecolor": "#2a3f5f"
            },
            "type": "carpet"
           }
          ],
          "table": [
           {
            "cells": {
             "fill": {
              "color": "#EBF0F8"
             },
             "line": {
              "color": "white"
             }
            },
            "header": {
             "fill": {
              "color": "#C8D4E3"
             },
             "line": {
              "color": "white"
             }
            },
            "type": "table"
           }
          ],
          "barpolar": [
           {
            "marker": {
             "line": {
              "color": "#E5ECF6",
              "width": 0.5
             },
             "pattern": {
              "fillmode": "overlay",
              "size": 10,
              "solidity": 0.2
             }
            },
            "type": "barpolar"
           }
          ],
          "pie": [
           {
            "automargin": true,
            "type": "pie"
           }
          ]
         },
         "layout": {
          "autotypenumbers": "strict",
          "colorway": [
           "#636efa",
           "#EF553B",
           "#00cc96",
           "#ab63fa",
           "#FFA15A",
           "#19d3f3",
           "#FF6692",
           "#B6E880",
           "#FF97FF",
           "#FECB52"
          ],
          "font": {
           "color": "#2a3f5f"
          },
          "hovermode": "closest",
          "hoverlabel": {
           "align": "left"
          },
          "paper_bgcolor": "white",
          "plot_bgcolor": "#E5ECF6",
          "polar": {
           "bgcolor": "#E5ECF6",
           "angularaxis": {
            "gridcolor": "white",
            "linecolor": "white",
            "ticks": ""
           },
           "radialaxis": {
            "gridcolor": "white",
            "linecolor": "white",
            "ticks": ""
           }
          },
          "ternary": {
           "bgcolor": "#E5ECF6",
           "aaxis": {
            "gridcolor": "white",
            "linecolor": "white",
            "ticks": ""
           },
           "baxis": {
            "gridcolor": "white",
            "linecolor": "white",
            "ticks": ""
           },
           "caxis": {
            "gridcolor": "white",
            "linecolor": "white",
            "ticks": ""
           }
          },
          "coloraxis": {
           "colorbar": {
            "outlinewidth": 0,
            "ticks": ""
           }
          },
          "colorscale": {
           "sequential": [
            [
             0.0,
             "#0d0887"
            ],
            [
             0.1111111111111111,
             "#46039f"
            ],
            [
             0.2222222222222222,
             "#7201a8"
            ],
            [
             0.3333333333333333,
             "#9c179e"
            ],
            [
             0.4444444444444444,
             "#bd3786"
            ],
            [
             0.5555555555555556,
             "#d8576b"
            ],
            [
             0.6666666666666666,
             "#ed7953"
            ],
            [
             0.7777777777777778,
             "#fb9f3a"
            ],
            [
             0.8888888888888888,
             "#fdca26"
            ],
            [
             1.0,
             "#f0f921"
            ]
           ],
           "sequentialminus": [
            [
             0.0,
             "#0d0887"
            ],
            [
             0.1111111111111111,
             "#46039f"
            ],
            [
             0.2222222222222222,
             "#7201a8"
            ],
            [
             0.3333333333333333,
             "#9c179e"
            ],
            [
             0.4444444444444444,
             "#bd3786"
            ],
            [
             0.5555555555555556,
             "#d8576b"
            ],
            [
             0.6666666666666666,
             "#ed7953"
            ],
            [
             0.7777777777777778,
             "#fb9f3a"
            ],
            [
             0.8888888888888888,
             "#fdca26"
            ],
            [
             1.0,
             "#f0f921"
            ]
           ],
           "diverging": [
            [
             0,
             "#8e0152"
            ],
            [
             0.1,
             "#c51b7d"
            ],
            [
             0.2,
             "#de77ae"
            ],
            [
             0.3,
             "#f1b6da"
            ],
            [
             0.4,
             "#fde0ef"
            ],
            [
             0.5,
             "#f7f7f7"
            ],
            [
             0.6,
             "#e6f5d0"
            ],
            [
             0.7,
             "#b8e186"
            ],
            [
             0.8,
             "#7fbc41"
            ],
            [
             0.9,
             "#4d9221"
            ],
            [
             1,
             "#276419"
            ]
           ]
          },
          "xaxis": {
           "gridcolor": "white",
           "linecolor": "white",
           "ticks": "",
           "title": {
            "standoff": 15
           },
           "zerolinecolor": "white",
           "automargin": true,
           "zerolinewidth": 2
          },
          "yaxis": {
           "gridcolor": "white",
           "linecolor": "white",
           "ticks": "",
           "title": {
            "standoff": 15
           },
           "zerolinecolor": "white",
           "automargin": true,
           "zerolinewidth": 2
          },
          "scene": {
           "xaxis": {
            "backgroundcolor": "#E5ECF6",
            "gridcolor": "white",
            "linecolor": "white",
            "showbackground": true,
            "ticks": "",
            "zerolinecolor": "white",
            "gridwidth": 2
           },
           "yaxis": {
            "backgroundcolor": "#E5ECF6",
            "gridcolor": "white",
            "linecolor": "white",
            "showbackground": true,
            "ticks": "",
            "zerolinecolor": "white",
            "gridwidth": 2
           },
           "zaxis": {
            "backgroundcolor": "#E5ECF6",
            "gridcolor": "white",
            "linecolor": "white",
            "showbackground": true,
            "ticks": "",
            "zerolinecolor": "white",
            "gridwidth": 2
           }
          },
          "shapedefaults": {
           "line": {
            "color": "#2a3f5f"
           }
          },
          "annotationdefaults": {
           "arrowcolor": "#2a3f5f",
           "arrowhead": 0,
           "arrowwidth": 1
          },
          "geo": {
           "bgcolor": "white",
           "landcolor": "#E5ECF6",
           "subunitcolor": "white",
           "showland": true,
           "showlakes": true,
           "lakecolor": "white"
          },
          "title": {
           "x": 0.05
          },
          "mapbox": {
           "style": "light"
          }
         }
        },
        "title": {
         "text": "Number of Reviews Created and Updated Each Month"
        },
        "xaxis": {
         "title": {
          "text": "Month"
         }
        },
        "yaxis": {
         "title": {
          "text": "Review Count"
         },
         "tickformat": ",.0f"
        }
       },
       "config": {
        "plotlyServerURL": "https://plot.ly"
       }
      },
      "text/html": [
       "<div>                            <div id=\"d62230fb-8db8-4a2b-acdd-1b5ea73fc75b\" class=\"plotly-graph-div\" style=\"height:525px; width:100%;\"></div>            <script type=\"text/javascript\">                require([\"plotly\"], function(Plotly) {                    window.PLOTLYENV=window.PLOTLYENV || {};                                    if (document.getElementById(\"d62230fb-8db8-4a2b-acdd-1b5ea73fc75b\")) {                    Plotly.newPlot(                        \"d62230fb-8db8-4a2b-acdd-1b5ea73fc75b\",                        [{\"mode\":\"lines+markers\",\"name\":\"Reviews Created\",\"x\":[1,2,3,4,5,6,7,8,9,10,11,12],\"y\":[110238,53312,48954,52277,54505,86101,104131,57367,51332,52231,193607,135945],\"type\":\"scatter\"},{\"mode\":\"lines+markers\",\"name\":\"Reviews Updated\",\"x\":[1,2,3,4,5,6,7,8,9,10,11,12],\"y\":[110382,51879,48402,51475,52337,83273,101336,56332,50352,51208,206167,136857],\"type\":\"scatter\"}],                        {\"template\":{\"data\":{\"histogram2dcontour\":[{\"type\":\"histogram2dcontour\",\"colorbar\":{\"outlinewidth\":0,\"ticks\":\"\"},\"colorscale\":[[0.0,\"#0d0887\"],[0.1111111111111111,\"#46039f\"],[0.2222222222222222,\"#7201a8\"],[0.3333333333333333,\"#9c179e\"],[0.4444444444444444,\"#bd3786\"],[0.5555555555555556,\"#d8576b\"],[0.6666666666666666,\"#ed7953\"],[0.7777777777777778,\"#fb9f3a\"],[0.8888888888888888,\"#fdca26\"],[1.0,\"#f0f921\"]]}],\"choropleth\":[{\"type\":\"choropleth\",\"colorbar\":{\"outlinewidth\":0,\"ticks\":\"\"}}],\"histogram2d\":[{\"type\":\"histogram2d\",\"colorbar\":{\"outlinewidth\":0,\"ticks\":\"\"},\"colorscale\":[[0.0,\"#0d0887\"],[0.1111111111111111,\"#46039f\"],[0.2222222222222222,\"#7201a8\"],[0.3333333333333333,\"#9c179e\"],[0.4444444444444444,\"#bd3786\"],[0.5555555555555556,\"#d8576b\"],[0.6666666666666666,\"#ed7953\"],[0.7777777777777778,\"#fb9f3a\"],[0.8888888888888888,\"#fdca26\"],[1.0,\"#f0f921\"]]}],\"heatmap\":[{\"type\":\"heatmap\",\"colorbar\":{\"outlinewidth\":0,\"ticks\":\"\"},\"colorscale\":[[0.0,\"#0d0887\"],[0.1111111111111111,\"#46039f\"],[0.2222222222222222,\"#7201a8\"],[0.3333333333333333,\"#9c179e\"],[0.4444444444444444,\"#bd3786\"],[0.5555555555555556,\"#d8576b\"],[0.6666666666666666,\"#ed7953\"],[0.7777777777777778,\"#fb9f3a\"],[0.8888888888888888,\"#fdca26\"],[1.0,\"#f0f921\"]]}],\"heatmapgl\":[{\"type\":\"heatmapgl\",\"colorbar\":{\"outlinewidth\":0,\"ticks\":\"\"},\"colorscale\":[[0.0,\"#0d0887\"],[0.1111111111111111,\"#46039f\"],[0.2222222222222222,\"#7201a8\"],[0.3333333333333333,\"#9c179e\"],[0.4444444444444444,\"#bd3786\"],[0.5555555555555556,\"#d8576b\"],[0.6666666666666666,\"#ed7953\"],[0.7777777777777778,\"#fb9f3a\"],[0.8888888888888888,\"#fdca26\"],[1.0,\"#f0f921\"]]}],\"contourcarpet\":[{\"type\":\"contourcarpet\",\"colorbar\":{\"outlinewidth\":0,\"ticks\":\"\"}}],\"contour\":[{\"type\":\"contour\",\"colorbar\":{\"outlinewidth\":0,\"ticks\":\"\"},\"colorscale\":[[0.0,\"#0d0887\"],[0.1111111111111111,\"#46039f\"],[0.2222222222222222,\"#7201a8\"],[0.3333333333333333,\"#9c179e\"],[0.4444444444444444,\"#bd3786\"],[0.5555555555555556,\"#d8576b\"],[0.6666666666666666,\"#ed7953\"],[0.7777777777777778,\"#fb9f3a\"],[0.8888888888888888,\"#fdca26\"],[1.0,\"#f0f921\"]]}],\"surface\":[{\"type\":\"surface\",\"colorbar\":{\"outlinewidth\":0,\"ticks\":\"\"},\"colorscale\":[[0.0,\"#0d0887\"],[0.1111111111111111,\"#46039f\"],[0.2222222222222222,\"#7201a8\"],[0.3333333333333333,\"#9c179e\"],[0.4444444444444444,\"#bd3786\"],[0.5555555555555556,\"#d8576b\"],[0.6666666666666666,\"#ed7953\"],[0.7777777777777778,\"#fb9f3a\"],[0.8888888888888888,\"#fdca26\"],[1.0,\"#f0f921\"]]}],\"mesh3d\":[{\"type\":\"mesh3d\",\"colorbar\":{\"outlinewidth\":0,\"ticks\":\"\"}}],\"scatter\":[{\"fillpattern\":{\"fillmode\":\"overlay\",\"size\":10,\"solidity\":0.2},\"type\":\"scatter\"}],\"parcoords\":[{\"type\":\"parcoords\",\"line\":{\"colorbar\":{\"outlinewidth\":0,\"ticks\":\"\"}}}],\"scatterpolargl\":[{\"type\":\"scatterpolargl\",\"marker\":{\"colorbar\":{\"outlinewidth\":0,\"ticks\":\"\"}}}],\"bar\":[{\"error_x\":{\"color\":\"#2a3f5f\"},\"error_y\":{\"color\":\"#2a3f5f\"},\"marker\":{\"line\":{\"color\":\"#E5ECF6\",\"width\":0.5},\"pattern\":{\"fillmode\":\"overlay\",\"size\":10,\"solidity\":0.2}},\"type\":\"bar\"}],\"scattergeo\":[{\"type\":\"scattergeo\",\"marker\":{\"colorbar\":{\"outlinewidth\":0,\"ticks\":\"\"}}}],\"scatterpolar\":[{\"type\":\"scatterpolar\",\"marker\":{\"colorbar\":{\"outlinewidth\":0,\"ticks\":\"\"}}}],\"histogram\":[{\"marker\":{\"pattern\":{\"fillmode\":\"overlay\",\"size\":10,\"solidity\":0.2}},\"type\":\"histogram\"}],\"scattergl\":[{\"type\":\"scattergl\",\"marker\":{\"colorbar\":{\"outlinewidth\":0,\"ticks\":\"\"}}}],\"scatter3d\":[{\"type\":\"scatter3d\",\"line\":{\"colorbar\":{\"outlinewidth\":0,\"ticks\":\"\"}},\"marker\":{\"colorbar\":{\"outlinewidth\":0,\"ticks\":\"\"}}}],\"scattermapbox\":[{\"type\":\"scattermapbox\",\"marker\":{\"colorbar\":{\"outlinewidth\":0,\"ticks\":\"\"}}}],\"scatterternary\":[{\"type\":\"scatterternary\",\"marker\":{\"colorbar\":{\"outlinewidth\":0,\"ticks\":\"\"}}}],\"scattercarpet\":[{\"type\":\"scattercarpet\",\"marker\":{\"colorbar\":{\"outlinewidth\":0,\"ticks\":\"\"}}}],\"carpet\":[{\"aaxis\":{\"endlinecolor\":\"#2a3f5f\",\"gridcolor\":\"white\",\"linecolor\":\"white\",\"minorgridcolor\":\"white\",\"startlinecolor\":\"#2a3f5f\"},\"baxis\":{\"endlinecolor\":\"#2a3f5f\",\"gridcolor\":\"white\",\"linecolor\":\"white\",\"minorgridcolor\":\"white\",\"startlinecolor\":\"#2a3f5f\"},\"type\":\"carpet\"}],\"table\":[{\"cells\":{\"fill\":{\"color\":\"#EBF0F8\"},\"line\":{\"color\":\"white\"}},\"header\":{\"fill\":{\"color\":\"#C8D4E3\"},\"line\":{\"color\":\"white\"}},\"type\":\"table\"}],\"barpolar\":[{\"marker\":{\"line\":{\"color\":\"#E5ECF6\",\"width\":0.5},\"pattern\":{\"fillmode\":\"overlay\",\"size\":10,\"solidity\":0.2}},\"type\":\"barpolar\"}],\"pie\":[{\"automargin\":true,\"type\":\"pie\"}]},\"layout\":{\"autotypenumbers\":\"strict\",\"colorway\":[\"#636efa\",\"#EF553B\",\"#00cc96\",\"#ab63fa\",\"#FFA15A\",\"#19d3f3\",\"#FF6692\",\"#B6E880\",\"#FF97FF\",\"#FECB52\"],\"font\":{\"color\":\"#2a3f5f\"},\"hovermode\":\"closest\",\"hoverlabel\":{\"align\":\"left\"},\"paper_bgcolor\":\"white\",\"plot_bgcolor\":\"#E5ECF6\",\"polar\":{\"bgcolor\":\"#E5ECF6\",\"angularaxis\":{\"gridcolor\":\"white\",\"linecolor\":\"white\",\"ticks\":\"\"},\"radialaxis\":{\"gridcolor\":\"white\",\"linecolor\":\"white\",\"ticks\":\"\"}},\"ternary\":{\"bgcolor\":\"#E5ECF6\",\"aaxis\":{\"gridcolor\":\"white\",\"linecolor\":\"white\",\"ticks\":\"\"},\"baxis\":{\"gridcolor\":\"white\",\"linecolor\":\"white\",\"ticks\":\"\"},\"caxis\":{\"gridcolor\":\"white\",\"linecolor\":\"white\",\"ticks\":\"\"}},\"coloraxis\":{\"colorbar\":{\"outlinewidth\":0,\"ticks\":\"\"}},\"colorscale\":{\"sequential\":[[0.0,\"#0d0887\"],[0.1111111111111111,\"#46039f\"],[0.2222222222222222,\"#7201a8\"],[0.3333333333333333,\"#9c179e\"],[0.4444444444444444,\"#bd3786\"],[0.5555555555555556,\"#d8576b\"],[0.6666666666666666,\"#ed7953\"],[0.7777777777777778,\"#fb9f3a\"],[0.8888888888888888,\"#fdca26\"],[1.0,\"#f0f921\"]],\"sequentialminus\":[[0.0,\"#0d0887\"],[0.1111111111111111,\"#46039f\"],[0.2222222222222222,\"#7201a8\"],[0.3333333333333333,\"#9c179e\"],[0.4444444444444444,\"#bd3786\"],[0.5555555555555556,\"#d8576b\"],[0.6666666666666666,\"#ed7953\"],[0.7777777777777778,\"#fb9f3a\"],[0.8888888888888888,\"#fdca26\"],[1.0,\"#f0f921\"]],\"diverging\":[[0,\"#8e0152\"],[0.1,\"#c51b7d\"],[0.2,\"#de77ae\"],[0.3,\"#f1b6da\"],[0.4,\"#fde0ef\"],[0.5,\"#f7f7f7\"],[0.6,\"#e6f5d0\"],[0.7,\"#b8e186\"],[0.8,\"#7fbc41\"],[0.9,\"#4d9221\"],[1,\"#276419\"]]},\"xaxis\":{\"gridcolor\":\"white\",\"linecolor\":\"white\",\"ticks\":\"\",\"title\":{\"standoff\":15},\"zerolinecolor\":\"white\",\"automargin\":true,\"zerolinewidth\":2},\"yaxis\":{\"gridcolor\":\"white\",\"linecolor\":\"white\",\"ticks\":\"\",\"title\":{\"standoff\":15},\"zerolinecolor\":\"white\",\"automargin\":true,\"zerolinewidth\":2},\"scene\":{\"xaxis\":{\"backgroundcolor\":\"#E5ECF6\",\"gridcolor\":\"white\",\"linecolor\":\"white\",\"showbackground\":true,\"ticks\":\"\",\"zerolinecolor\":\"white\",\"gridwidth\":2},\"yaxis\":{\"backgroundcolor\":\"#E5ECF6\",\"gridcolor\":\"white\",\"linecolor\":\"white\",\"showbackground\":true,\"ticks\":\"\",\"zerolinecolor\":\"white\",\"gridwidth\":2},\"zaxis\":{\"backgroundcolor\":\"#E5ECF6\",\"gridcolor\":\"white\",\"linecolor\":\"white\",\"showbackground\":true,\"ticks\":\"\",\"zerolinecolor\":\"white\",\"gridwidth\":2}},\"shapedefaults\":{\"line\":{\"color\":\"#2a3f5f\"}},\"annotationdefaults\":{\"arrowcolor\":\"#2a3f5f\",\"arrowhead\":0,\"arrowwidth\":1},\"geo\":{\"bgcolor\":\"white\",\"landcolor\":\"#E5ECF6\",\"subunitcolor\":\"white\",\"showland\":true,\"showlakes\":true,\"lakecolor\":\"white\"},\"title\":{\"x\":0.05},\"mapbox\":{\"style\":\"light\"}}},\"title\":{\"text\":\"Number of Reviews Created and Updated Each Month\"},\"xaxis\":{\"title\":{\"text\":\"Month\"}},\"yaxis\":{\"title\":{\"text\":\"Review Count\"},\"tickformat\":\",.0f\"}},                        {\"responsive\": true}                    ).then(function(){\n",
       "                            \n",
       "var gd = document.getElementById('d62230fb-8db8-4a2b-acdd-1b5ea73fc75b');\n",
       "var x = new MutationObserver(function (mutations, observer) {{\n",
       "        var display = window.getComputedStyle(gd).display;\n",
       "        if (!display || display === 'none') {{\n",
       "            console.log([gd, 'removed!']);\n",
       "            Plotly.purge(gd);\n",
       "            observer.disconnect();\n",
       "        }}\n",
       "}});\n",
       "\n",
       "// Listen for the removal of the full notebook cells\n",
       "var notebookContainer = gd.closest('#notebook-container');\n",
       "if (notebookContainer) {{\n",
       "    x.observe(notebookContainer, {childList: true});\n",
       "}}\n",
       "\n",
       "// Listen for the clearing of the current output cell\n",
       "var outputEl = gd.closest('.output');\n",
       "if (outputEl) {{\n",
       "    x.observe(outputEl, {childList: true});\n",
       "}}\n",
       "\n",
       "                        })                };                });            </script>        </div>"
      ]
     },
     "metadata": {},
     "output_type": "display_data"
    }
   ],
   "execution_count": 27
  },
  {
   "cell_type": "markdown",
   "source": [
    "As we can see, the number of reviews created and the number of updated reviews per month should be almost the same, since users write one review and do not update it, or update it, but within a month.\n",
    "The peak season turned out to be November, due to most holidays.\n"
   ],
   "metadata": {
    "id": "8js7tmROoMRG"
   },
   "id": "8js7tmROoMRG"
  },
  {
   "cell_type": "markdown",
   "source": [
    "# 3.2 Identify any seasonal patterns or trends in review activity. Explain any seasonal impact you notice.\n",
    "\n",
    "\n"
   ],
   "metadata": {
    "id": "NpK20vFLg36l"
   },
   "id": "NpK20vFLg36l"
  },
  {
   "cell_type": "code",
   "source": [
    "month_review_created_counts = month_review_created_counts.sort_values(by=\"review_count\", ascending=False)\n",
    "month_review_created_counts"
   ],
   "metadata": {
    "colab": {
     "base_uri": "https://localhost:8080/",
     "height": 425
    },
    "id": "x6mEJwesnW2O",
    "outputId": "f746e879-a6c3-4f17-cda9-5512af15489c",
    "ExecuteTime": {
     "end_time": "2024-10-30T18:05:51.024249Z",
     "start_time": "2024-10-30T18:05:51.005680Z"
    }
   },
   "id": "x6mEJwesnW2O",
   "outputs": [
    {
     "data": {
      "text/plain": [
       "    month_created  review_count\n",
       "10             11        193607\n",
       "11             12        135945\n",
       "0               1        110238\n",
       "6               7        104131\n",
       "5               6         86101\n",
       "7               8         57367\n",
       "4               5         54505\n",
       "1               2         53312\n",
       "3               4         52277\n",
       "9              10         52231\n",
       "8               9         51332\n",
       "2               3         48954"
      ],
      "text/html": [
       "<div>\n",
       "<style scoped>\n",
       "    .dataframe tbody tr th:only-of-type {\n",
       "        vertical-align: middle;\n",
       "    }\n",
       "\n",
       "    .dataframe tbody tr th {\n",
       "        vertical-align: top;\n",
       "    }\n",
       "\n",
       "    .dataframe thead th {\n",
       "        text-align: right;\n",
       "    }\n",
       "</style>\n",
       "<table border=\"1\" class=\"dataframe\">\n",
       "  <thead>\n",
       "    <tr style=\"text-align: right;\">\n",
       "      <th></th>\n",
       "      <th>month_created</th>\n",
       "      <th>review_count</th>\n",
       "    </tr>\n",
       "  </thead>\n",
       "  <tbody>\n",
       "    <tr>\n",
       "      <th>10</th>\n",
       "      <td>11</td>\n",
       "      <td>193607</td>\n",
       "    </tr>\n",
       "    <tr>\n",
       "      <th>11</th>\n",
       "      <td>12</td>\n",
       "      <td>135945</td>\n",
       "    </tr>\n",
       "    <tr>\n",
       "      <th>0</th>\n",
       "      <td>1</td>\n",
       "      <td>110238</td>\n",
       "    </tr>\n",
       "    <tr>\n",
       "      <th>6</th>\n",
       "      <td>7</td>\n",
       "      <td>104131</td>\n",
       "    </tr>\n",
       "    <tr>\n",
       "      <th>5</th>\n",
       "      <td>6</td>\n",
       "      <td>86101</td>\n",
       "    </tr>\n",
       "    <tr>\n",
       "      <th>7</th>\n",
       "      <td>8</td>\n",
       "      <td>57367</td>\n",
       "    </tr>\n",
       "    <tr>\n",
       "      <th>4</th>\n",
       "      <td>5</td>\n",
       "      <td>54505</td>\n",
       "    </tr>\n",
       "    <tr>\n",
       "      <th>1</th>\n",
       "      <td>2</td>\n",
       "      <td>53312</td>\n",
       "    </tr>\n",
       "    <tr>\n",
       "      <th>3</th>\n",
       "      <td>4</td>\n",
       "      <td>52277</td>\n",
       "    </tr>\n",
       "    <tr>\n",
       "      <th>9</th>\n",
       "      <td>10</td>\n",
       "      <td>52231</td>\n",
       "    </tr>\n",
       "    <tr>\n",
       "      <th>8</th>\n",
       "      <td>9</td>\n",
       "      <td>51332</td>\n",
       "    </tr>\n",
       "    <tr>\n",
       "      <th>2</th>\n",
       "      <td>3</td>\n",
       "      <td>48954</td>\n",
       "    </tr>\n",
       "  </tbody>\n",
       "</table>\n",
       "</div>"
      ]
     },
     "execution_count": 28,
     "metadata": {},
     "output_type": "execute_result"
    }
   ],
   "execution_count": 28
  },
  {
   "cell_type": "markdown",
   "source": [
    "The most reviews are left in November top 1, December top 2, and January top 3.\n",
    "Least in May, August, and least in September.\n",
    "\n",
    "This is logical since in November there are big promotions like Black Friday, then in December there is a new year. And reviews are left not immediately after the purchase, but even after it has been completed.\n",
    "\n",
    "In other months, the number of reviews created is lower, due to logical factors such as starting school/university\n"
   ],
   "metadata": {
    "id": "8BbtobHOprIH"
   },
   "id": "8BbtobHOprIH"
  },
  {
   "cell_type": "markdown",
   "source": [
    "# 3.3 Determine if certain times of the year have higher engagement rates. Describe noticeable peaks in user activity.\n",
    "\n",
    "\n",
    "\n"
   ],
   "metadata": {
    "id": "H4EtkDM6iMRP"
   },
   "id": "H4EtkDM6iMRP"
  },
  {
   "cell_type": "code",
   "source": [
    "month_review['date'] = month_review['timestamp_created'].dt.date\n",
    "daily_review_counts = month_review.groupby('date').size().reset_index(name='review_count')"
   ],
   "metadata": {
    "id": "pC1yF3tduOzP",
    "ExecuteTime": {
     "end_time": "2024-10-30T18:05:52.545185Z",
     "start_time": "2024-10-30T18:05:52.116571Z"
    }
   },
   "id": "pC1yF3tduOzP",
   "outputs": [],
   "execution_count": 29
  },
  {
   "cell_type": "code",
   "source": [
    "month_review"
   ],
   "metadata": {
    "colab": {
     "base_uri": "https://localhost:8080/",
     "height": 423
    },
    "id": "oTSdOfu0143B",
    "outputId": "cf4f85db-7125-4805-9f13-3e28aed2948a",
    "ExecuteTime": {
     "end_time": "2024-10-30T18:05:52.601584Z",
     "start_time": "2024-10-30T18:05:52.585903Z"
    }
   },
   "id": "oTSdOfu0143B",
   "outputs": [
    {
     "data": {
      "text/plain": [
       "        review_id   timestamp_created   timestamp_updated  month_created  \\\n",
       "0        85185598 2021-01-23 06:00:29 2021-01-23 06:00:29              1   \n",
       "1        85185250 2021-01-23 05:50:30 2021-01-23 05:50:30              1   \n",
       "2        85185111 2021-01-23 05:46:40 2021-01-23 05:46:40              1   \n",
       "3        85184605 2021-01-23 05:32:50 2021-01-23 05:32:50              1   \n",
       "4        85184287 2021-01-23 05:23:47 2021-01-23 05:23:47              1   \n",
       "...           ...                 ...                 ...            ...   \n",
       "999995   71813587 2020-07-01 15:22:55 2020-07-01 15:22:55              7   \n",
       "999996   71813556 2020-07-01 15:22:16 2020-07-01 15:22:16              7   \n",
       "999997   71813511 2020-07-01 15:21:39 2020-07-01 15:21:39              7   \n",
       "999998   71813331 2020-07-01 15:19:10 2020-07-01 15:19:10              7   \n",
       "999999   71813284 2020-07-01 15:18:35 2020-07-01 15:18:35              7   \n",
       "\n",
       "        month_updated        date  \n",
       "0                   1  2021-01-23  \n",
       "1                   1  2021-01-23  \n",
       "2                   1  2021-01-23  \n",
       "3                   1  2021-01-23  \n",
       "4                   1  2021-01-23  \n",
       "...               ...         ...  \n",
       "999995              7  2020-07-01  \n",
       "999996              7  2020-07-01  \n",
       "999997              7  2020-07-01  \n",
       "999998              7  2020-07-01  \n",
       "999999              7  2020-07-01  \n",
       "\n",
       "[1000000 rows x 6 columns]"
      ],
      "text/html": [
       "<div>\n",
       "<style scoped>\n",
       "    .dataframe tbody tr th:only-of-type {\n",
       "        vertical-align: middle;\n",
       "    }\n",
       "\n",
       "    .dataframe tbody tr th {\n",
       "        vertical-align: top;\n",
       "    }\n",
       "\n",
       "    .dataframe thead th {\n",
       "        text-align: right;\n",
       "    }\n",
       "</style>\n",
       "<table border=\"1\" class=\"dataframe\">\n",
       "  <thead>\n",
       "    <tr style=\"text-align: right;\">\n",
       "      <th></th>\n",
       "      <th>review_id</th>\n",
       "      <th>timestamp_created</th>\n",
       "      <th>timestamp_updated</th>\n",
       "      <th>month_created</th>\n",
       "      <th>month_updated</th>\n",
       "      <th>date</th>\n",
       "    </tr>\n",
       "  </thead>\n",
       "  <tbody>\n",
       "    <tr>\n",
       "      <th>0</th>\n",
       "      <td>85185598</td>\n",
       "      <td>2021-01-23 06:00:29</td>\n",
       "      <td>2021-01-23 06:00:29</td>\n",
       "      <td>1</td>\n",
       "      <td>1</td>\n",
       "      <td>2021-01-23</td>\n",
       "    </tr>\n",
       "    <tr>\n",
       "      <th>1</th>\n",
       "      <td>85185250</td>\n",
       "      <td>2021-01-23 05:50:30</td>\n",
       "      <td>2021-01-23 05:50:30</td>\n",
       "      <td>1</td>\n",
       "      <td>1</td>\n",
       "      <td>2021-01-23</td>\n",
       "    </tr>\n",
       "    <tr>\n",
       "      <th>2</th>\n",
       "      <td>85185111</td>\n",
       "      <td>2021-01-23 05:46:40</td>\n",
       "      <td>2021-01-23 05:46:40</td>\n",
       "      <td>1</td>\n",
       "      <td>1</td>\n",
       "      <td>2021-01-23</td>\n",
       "    </tr>\n",
       "    <tr>\n",
       "      <th>3</th>\n",
       "      <td>85184605</td>\n",
       "      <td>2021-01-23 05:32:50</td>\n",
       "      <td>2021-01-23 05:32:50</td>\n",
       "      <td>1</td>\n",
       "      <td>1</td>\n",
       "      <td>2021-01-23</td>\n",
       "    </tr>\n",
       "    <tr>\n",
       "      <th>4</th>\n",
       "      <td>85184287</td>\n",
       "      <td>2021-01-23 05:23:47</td>\n",
       "      <td>2021-01-23 05:23:47</td>\n",
       "      <td>1</td>\n",
       "      <td>1</td>\n",
       "      <td>2021-01-23</td>\n",
       "    </tr>\n",
       "    <tr>\n",
       "      <th>...</th>\n",
       "      <td>...</td>\n",
       "      <td>...</td>\n",
       "      <td>...</td>\n",
       "      <td>...</td>\n",
       "      <td>...</td>\n",
       "      <td>...</td>\n",
       "    </tr>\n",
       "    <tr>\n",
       "      <th>999995</th>\n",
       "      <td>71813587</td>\n",
       "      <td>2020-07-01 15:22:55</td>\n",
       "      <td>2020-07-01 15:22:55</td>\n",
       "      <td>7</td>\n",
       "      <td>7</td>\n",
       "      <td>2020-07-01</td>\n",
       "    </tr>\n",
       "    <tr>\n",
       "      <th>999996</th>\n",
       "      <td>71813556</td>\n",
       "      <td>2020-07-01 15:22:16</td>\n",
       "      <td>2020-07-01 15:22:16</td>\n",
       "      <td>7</td>\n",
       "      <td>7</td>\n",
       "      <td>2020-07-01</td>\n",
       "    </tr>\n",
       "    <tr>\n",
       "      <th>999997</th>\n",
       "      <td>71813511</td>\n",
       "      <td>2020-07-01 15:21:39</td>\n",
       "      <td>2020-07-01 15:21:39</td>\n",
       "      <td>7</td>\n",
       "      <td>7</td>\n",
       "      <td>2020-07-01</td>\n",
       "    </tr>\n",
       "    <tr>\n",
       "      <th>999998</th>\n",
       "      <td>71813331</td>\n",
       "      <td>2020-07-01 15:19:10</td>\n",
       "      <td>2020-07-01 15:19:10</td>\n",
       "      <td>7</td>\n",
       "      <td>7</td>\n",
       "      <td>2020-07-01</td>\n",
       "    </tr>\n",
       "    <tr>\n",
       "      <th>999999</th>\n",
       "      <td>71813284</td>\n",
       "      <td>2020-07-01 15:18:35</td>\n",
       "      <td>2020-07-01 15:18:35</td>\n",
       "      <td>7</td>\n",
       "      <td>7</td>\n",
       "      <td>2020-07-01</td>\n",
       "    </tr>\n",
       "  </tbody>\n",
       "</table>\n",
       "<p>1000000 rows × 6 columns</p>\n",
       "</div>"
      ]
     },
     "execution_count": 30,
     "metadata": {},
     "output_type": "execute_result"
    }
   ],
   "execution_count": 30
  },
  {
   "cell_type": "code",
   "source": [
    "daily_review_counts.sort_values(by=\"review_count\", ascending=False)"
   ],
   "metadata": {
    "colab": {
     "base_uri": "https://localhost:8080/",
     "height": 423
    },
    "id": "S5i5yqz-uYX9",
    "outputId": "471cb22c-ed20-40e3-bd9a-55670e8591cf",
    "ExecuteTime": {
     "end_time": "2024-10-30T18:05:53.099314Z",
     "start_time": "2024-10-30T18:05:53.082610Z"
    }
   },
   "id": "S5i5yqz-uYX9",
   "outputs": [
    {
     "data": {
      "text/plain": [
       "            date  review_count\n",
       "3140  2019-06-29         12583\n",
       "2193  2016-11-24         11365\n",
       "2921  2018-11-22         10204\n",
       "2557  2017-11-23          9561\n",
       "3141  2019-06-30          6940\n",
       "...          ...           ...\n",
       "66    2011-01-26             2\n",
       "116   2011-03-17             1\n",
       "134   2011-04-05             1\n",
       "137   2011-04-08             1\n",
       "83    2011-02-12             1\n",
       "\n",
       "[3715 rows x 2 columns]"
      ],
      "text/html": [
       "<div>\n",
       "<style scoped>\n",
       "    .dataframe tbody tr th:only-of-type {\n",
       "        vertical-align: middle;\n",
       "    }\n",
       "\n",
       "    .dataframe tbody tr th {\n",
       "        vertical-align: top;\n",
       "    }\n",
       "\n",
       "    .dataframe thead th {\n",
       "        text-align: right;\n",
       "    }\n",
       "</style>\n",
       "<table border=\"1\" class=\"dataframe\">\n",
       "  <thead>\n",
       "    <tr style=\"text-align: right;\">\n",
       "      <th></th>\n",
       "      <th>date</th>\n",
       "      <th>review_count</th>\n",
       "    </tr>\n",
       "  </thead>\n",
       "  <tbody>\n",
       "    <tr>\n",
       "      <th>3140</th>\n",
       "      <td>2019-06-29</td>\n",
       "      <td>12583</td>\n",
       "    </tr>\n",
       "    <tr>\n",
       "      <th>2193</th>\n",
       "      <td>2016-11-24</td>\n",
       "      <td>11365</td>\n",
       "    </tr>\n",
       "    <tr>\n",
       "      <th>2921</th>\n",
       "      <td>2018-11-22</td>\n",
       "      <td>10204</td>\n",
       "    </tr>\n",
       "    <tr>\n",
       "      <th>2557</th>\n",
       "      <td>2017-11-23</td>\n",
       "      <td>9561</td>\n",
       "    </tr>\n",
       "    <tr>\n",
       "      <th>3141</th>\n",
       "      <td>2019-06-30</td>\n",
       "      <td>6940</td>\n",
       "    </tr>\n",
       "    <tr>\n",
       "      <th>...</th>\n",
       "      <td>...</td>\n",
       "      <td>...</td>\n",
       "    </tr>\n",
       "    <tr>\n",
       "      <th>66</th>\n",
       "      <td>2011-01-26</td>\n",
       "      <td>2</td>\n",
       "    </tr>\n",
       "    <tr>\n",
       "      <th>116</th>\n",
       "      <td>2011-03-17</td>\n",
       "      <td>1</td>\n",
       "    </tr>\n",
       "    <tr>\n",
       "      <th>134</th>\n",
       "      <td>2011-04-05</td>\n",
       "      <td>1</td>\n",
       "    </tr>\n",
       "    <tr>\n",
       "      <th>137</th>\n",
       "      <td>2011-04-08</td>\n",
       "      <td>1</td>\n",
       "    </tr>\n",
       "    <tr>\n",
       "      <th>83</th>\n",
       "      <td>2011-02-12</td>\n",
       "      <td>1</td>\n",
       "    </tr>\n",
       "  </tbody>\n",
       "</table>\n",
       "<p>3715 rows × 2 columns</p>\n",
       "</div>"
      ]
     },
     "execution_count": 31,
     "metadata": {},
     "output_type": "execute_result"
    }
   ],
   "execution_count": 31
  },
  {
   "cell_type": "code",
   "source": [
    "daily_review_counts"
   ],
   "metadata": {
    "colab": {
     "base_uri": "https://localhost:8080/",
     "height": 423
    },
    "id": "Tt9xep-vvOIm",
    "outputId": "670cdce7-304d-46b5-d870-694f3ba2f828",
    "ExecuteTime": {
     "end_time": "2024-10-30T18:05:53.479660Z",
     "start_time": "2024-10-30T18:05:53.464429Z"
    }
   },
   "id": "Tt9xep-vvOIm",
   "outputs": [
    {
     "data": {
      "text/plain": [
       "            date  review_count\n",
       "0     2010-11-21            18\n",
       "1     2010-11-22            18\n",
       "2     2010-11-23             4\n",
       "3     2010-11-24             9\n",
       "4     2010-11-25            27\n",
       "...          ...           ...\n",
       "3710  2021-01-19          1137\n",
       "3711  2021-01-20           642\n",
       "3712  2021-01-21           565\n",
       "3713  2021-01-22           570\n",
       "3714  2021-01-23           287\n",
       "\n",
       "[3715 rows x 2 columns]"
      ],
      "text/html": [
       "<div>\n",
       "<style scoped>\n",
       "    .dataframe tbody tr th:only-of-type {\n",
       "        vertical-align: middle;\n",
       "    }\n",
       "\n",
       "    .dataframe tbody tr th {\n",
       "        vertical-align: top;\n",
       "    }\n",
       "\n",
       "    .dataframe thead th {\n",
       "        text-align: right;\n",
       "    }\n",
       "</style>\n",
       "<table border=\"1\" class=\"dataframe\">\n",
       "  <thead>\n",
       "    <tr style=\"text-align: right;\">\n",
       "      <th></th>\n",
       "      <th>date</th>\n",
       "      <th>review_count</th>\n",
       "    </tr>\n",
       "  </thead>\n",
       "  <tbody>\n",
       "    <tr>\n",
       "      <th>0</th>\n",
       "      <td>2010-11-21</td>\n",
       "      <td>18</td>\n",
       "    </tr>\n",
       "    <tr>\n",
       "      <th>1</th>\n",
       "      <td>2010-11-22</td>\n",
       "      <td>18</td>\n",
       "    </tr>\n",
       "    <tr>\n",
       "      <th>2</th>\n",
       "      <td>2010-11-23</td>\n",
       "      <td>4</td>\n",
       "    </tr>\n",
       "    <tr>\n",
       "      <th>3</th>\n",
       "      <td>2010-11-24</td>\n",
       "      <td>9</td>\n",
       "    </tr>\n",
       "    <tr>\n",
       "      <th>4</th>\n",
       "      <td>2010-11-25</td>\n",
       "      <td>27</td>\n",
       "    </tr>\n",
       "    <tr>\n",
       "      <th>...</th>\n",
       "      <td>...</td>\n",
       "      <td>...</td>\n",
       "    </tr>\n",
       "    <tr>\n",
       "      <th>3710</th>\n",
       "      <td>2021-01-19</td>\n",
       "      <td>1137</td>\n",
       "    </tr>\n",
       "    <tr>\n",
       "      <th>3711</th>\n",
       "      <td>2021-01-20</td>\n",
       "      <td>642</td>\n",
       "    </tr>\n",
       "    <tr>\n",
       "      <th>3712</th>\n",
       "      <td>2021-01-21</td>\n",
       "      <td>565</td>\n",
       "    </tr>\n",
       "    <tr>\n",
       "      <th>3713</th>\n",
       "      <td>2021-01-22</td>\n",
       "      <td>570</td>\n",
       "    </tr>\n",
       "    <tr>\n",
       "      <th>3714</th>\n",
       "      <td>2021-01-23</td>\n",
       "      <td>287</td>\n",
       "    </tr>\n",
       "  </tbody>\n",
       "</table>\n",
       "<p>3715 rows × 2 columns</p>\n",
       "</div>"
      ]
     },
     "execution_count": 32,
     "metadata": {},
     "output_type": "execute_result"
    }
   ],
   "execution_count": 32
  },
  {
   "cell_type": "code",
   "source": [
    "date_month_review = month_review[[\"review_id\", \"date\"]].copy()\n",
    "date_month_review['date'] = pd.to_datetime(date_month_review['date'])\n",
    "\n",
    "date_month_review['day'] = date_month_review['date'].dt.day\n",
    "date_month_review['month'] = date_month_review['date'].dt.month"
   ],
   "metadata": {
    "id": "hQr5xDBgvOaX",
    "ExecuteTime": {
     "end_time": "2024-10-30T18:05:54.114040Z",
     "start_time": "2024-10-30T18:05:53.875083Z"
    }
   },
   "id": "hQr5xDBgvOaX",
   "outputs": [],
   "execution_count": 33
  },
  {
   "cell_type": "code",
   "source": [
    "date_review_counts = date_month_review.groupby([\"month\", \"day\"]).size().reset_index(name='review_count')"
   ],
   "metadata": {
    "id": "9JXapCo6vQpo",
    "ExecuteTime": {
     "end_time": "2024-10-30T18:05:54.457497Z",
     "start_time": "2024-10-30T18:05:54.371880Z"
    }
   },
   "id": "9JXapCo6vQpo",
   "outputs": [],
   "execution_count": 34
  },
  {
   "cell_type": "code",
   "source": [
    "date_review_counts"
   ],
   "metadata": {
    "colab": {
     "base_uri": "https://localhost:8080/",
     "height": 423
    },
    "id": "8QntckuYviQ2",
    "outputId": "6f591ccb-4b72-46e0-f977-d6a8572325f1",
    "ExecuteTime": {
     "end_time": "2024-10-30T18:05:54.750713Z",
     "start_time": "2024-10-30T18:05:54.741083Z"
    }
   },
   "id": "8QntckuYviQ2",
   "outputs": [
    {
     "data": {
      "text/plain": [
       "     month  day  review_count\n",
       "0        1    1          6483\n",
       "1        1    2          6763\n",
       "2        1    3          6293\n",
       "3        1    4          6224\n",
       "4        1    5          5822\n",
       "..     ...  ...           ...\n",
       "361     12   27          7969\n",
       "362     12   28          7961\n",
       "363     12   29          7294\n",
       "364     12   30          7229\n",
       "365     12   31          6581\n",
       "\n",
       "[366 rows x 3 columns]"
      ],
      "text/html": [
       "<div>\n",
       "<style scoped>\n",
       "    .dataframe tbody tr th:only-of-type {\n",
       "        vertical-align: middle;\n",
       "    }\n",
       "\n",
       "    .dataframe tbody tr th {\n",
       "        vertical-align: top;\n",
       "    }\n",
       "\n",
       "    .dataframe thead th {\n",
       "        text-align: right;\n",
       "    }\n",
       "</style>\n",
       "<table border=\"1\" class=\"dataframe\">\n",
       "  <thead>\n",
       "    <tr style=\"text-align: right;\">\n",
       "      <th></th>\n",
       "      <th>month</th>\n",
       "      <th>day</th>\n",
       "      <th>review_count</th>\n",
       "    </tr>\n",
       "  </thead>\n",
       "  <tbody>\n",
       "    <tr>\n",
       "      <th>0</th>\n",
       "      <td>1</td>\n",
       "      <td>1</td>\n",
       "      <td>6483</td>\n",
       "    </tr>\n",
       "    <tr>\n",
       "      <th>1</th>\n",
       "      <td>1</td>\n",
       "      <td>2</td>\n",
       "      <td>6763</td>\n",
       "    </tr>\n",
       "    <tr>\n",
       "      <th>2</th>\n",
       "      <td>1</td>\n",
       "      <td>3</td>\n",
       "      <td>6293</td>\n",
       "    </tr>\n",
       "    <tr>\n",
       "      <th>3</th>\n",
       "      <td>1</td>\n",
       "      <td>4</td>\n",
       "      <td>6224</td>\n",
       "    </tr>\n",
       "    <tr>\n",
       "      <th>4</th>\n",
       "      <td>1</td>\n",
       "      <td>5</td>\n",
       "      <td>5822</td>\n",
       "    </tr>\n",
       "    <tr>\n",
       "      <th>...</th>\n",
       "      <td>...</td>\n",
       "      <td>...</td>\n",
       "      <td>...</td>\n",
       "    </tr>\n",
       "    <tr>\n",
       "      <th>361</th>\n",
       "      <td>12</td>\n",
       "      <td>27</td>\n",
       "      <td>7969</td>\n",
       "    </tr>\n",
       "    <tr>\n",
       "      <th>362</th>\n",
       "      <td>12</td>\n",
       "      <td>28</td>\n",
       "      <td>7961</td>\n",
       "    </tr>\n",
       "    <tr>\n",
       "      <th>363</th>\n",
       "      <td>12</td>\n",
       "      <td>29</td>\n",
       "      <td>7294</td>\n",
       "    </tr>\n",
       "    <tr>\n",
       "      <th>364</th>\n",
       "      <td>12</td>\n",
       "      <td>30</td>\n",
       "      <td>7229</td>\n",
       "    </tr>\n",
       "    <tr>\n",
       "      <th>365</th>\n",
       "      <td>12</td>\n",
       "      <td>31</td>\n",
       "      <td>6581</td>\n",
       "    </tr>\n",
       "  </tbody>\n",
       "</table>\n",
       "<p>366 rows × 3 columns</p>\n",
       "</div>"
      ]
     },
     "execution_count": 35,
     "metadata": {},
     "output_type": "execute_result"
    }
   ],
   "execution_count": 35
  },
  {
   "cell_type": "code",
   "source": [
    "import plotly.graph_objects as go\n",
    "\n",
    "# Словарь с названиями месяцев\n",
    "month_names = {\n",
    "    1: \"January\",\n",
    "    2: \"February\",\n",
    "    3: \"March\",\n",
    "    4: \"April\",\n",
    "    5: \"May\",\n",
    "    6: \"June\",\n",
    "    7: \"July\",\n",
    "    8: \"August\",\n",
    "    9: \"September\",\n",
    "    10: \"October\",\n",
    "    11: \"November\",\n",
    "    12: \"December\"\n",
    "}\n",
    "\n",
    "fig = go.Figure()\n",
    "\n",
    "for month in sorted(date_review_counts['month'].unique()):\n",
    "    monthly_data = date_review_counts[date_review_counts['month'] == month]\n",
    "    fig.add_trace(\n",
    "        go.Scatter(\n",
    "            x=monthly_data['day'],\n",
    "            y=monthly_data['review_count'],\n",
    "            mode='lines+markers',\n",
    "            name=month_names[month]\n",
    "        )\n",
    "    )\n",
    "\n",
    "fig.update_layout(\n",
    "    title=\"Daily Review Counts for Each Month\",\n",
    "    xaxis_title=\"Day of the Month\",\n",
    "    yaxis_title=\"Review Count\",\n",
    "    legend_title=\"Month\",\n",
    ")\n",
    "\n",
    "fig.update_yaxes(tickformat=\",.0f\")\n",
    "\n",
    "fig.show()\n"
   ],
   "metadata": {
    "colab": {
     "base_uri": "https://localhost:8080/",
     "height": 542
    },
    "id": "B2wWhk6Awwit",
    "outputId": "16ab2d1a-5670-4f8c-e44e-850c77528db9",
    "ExecuteTime": {
     "end_time": "2024-10-30T18:05:55.186069Z",
     "start_time": "2024-10-30T18:05:55.109093Z"
    }
   },
   "id": "B2wWhk6Awwit",
   "outputs": [
    {
     "data": {
      "application/vnd.plotly.v1+json": {
       "data": [
        {
         "mode": "lines+markers",
         "name": "January",
         "x": [
          1,
          2,
          3,
          4,
          5,
          6,
          7,
          8,
          9,
          10,
          11,
          12,
          13,
          14,
          15,
          16,
          17,
          18,
          19,
          20,
          21,
          22,
          23,
          24,
          25,
          26,
          27,
          28,
          29,
          30,
          31
         ],
         "y": [
          6483,
          6763,
          6293,
          6224,
          5822,
          4932,
          4489,
          4089,
          4045,
          4049,
          3914,
          3933,
          3319,
          3200,
          3134,
          3190,
          3181,
          3255,
          3168,
          2489,
          2376,
          2451,
          2098,
          2045,
          2254,
          2228,
          2262,
          2439,
          2103,
          1897,
          2113
         ],
         "type": "scatter"
        },
        {
         "mode": "lines+markers",
         "name": "February",
         "x": [
          1,
          2,
          3,
          4,
          5,
          6,
          7,
          8,
          9,
          10,
          11,
          12,
          13,
          14,
          15,
          16,
          17,
          18,
          19,
          20,
          21,
          22,
          23,
          24,
          25,
          26,
          27,
          28,
          29
         ],
         "y": [
          2198,
          2134,
          1799,
          1780,
          1857,
          2032,
          2086,
          2274,
          2290,
          2114,
          1942,
          1763,
          1872,
          1725,
          1873,
          2122,
          1904,
          1844,
          1863,
          1719,
          1767,
          1830,
          1862,
          1639,
          1681,
          1498,
          1483,
          1519,
          842
         ],
         "type": "scatter"
        },
        {
         "mode": "lines+markers",
         "name": "March",
         "x": [
          1,
          2,
          3,
          4,
          5,
          6,
          7,
          8,
          9,
          10,
          11,
          12,
          13,
          14,
          15,
          16,
          17,
          18,
          19,
          20,
          21,
          22,
          23,
          24,
          25,
          26,
          27,
          28,
          29,
          30,
          31
         ],
         "y": [
          1617,
          1424,
          1347,
          1334,
          1389,
          1321,
          1497,
          1510,
          1443,
          1378,
          1274,
          1333,
          1426,
          1570,
          1506,
          1379,
          1509,
          1418,
          1534,
          1469,
          1562,
          1649,
          1608,
          1755,
          1801,
          1780,
          1842,
          1985,
          2109,
          2094,
          2091
         ],
         "type": "scatter"
        },
        {
         "mode": "lines+markers",
         "name": "April",
         "x": [
          1,
          2,
          3,
          4,
          5,
          6,
          7,
          8,
          9,
          10,
          11,
          12,
          13,
          14,
          15,
          16,
          17,
          18,
          19,
          20,
          21,
          22,
          23,
          24,
          25,
          26,
          27,
          28,
          29,
          30
         ],
         "y": [
          2019,
          1970,
          1922,
          2123,
          1965,
          1847,
          1826,
          1689,
          1784,
          1803,
          1792,
          1812,
          1772,
          1814,
          1753,
          1569,
          1589,
          1527,
          1635,
          1708,
          1726,
          1819,
          1833,
          1668,
          1718,
          1584,
          1497,
          1472,
          1530,
          1511
         ],
         "type": "scatter"
        },
        {
         "mode": "lines+markers",
         "name": "May",
         "x": [
          1,
          2,
          3,
          4,
          5,
          6,
          7,
          8,
          9,
          10,
          11,
          12,
          13,
          14,
          15,
          16,
          17,
          18,
          19,
          20,
          21,
          22,
          23,
          24,
          25,
          26,
          27,
          28,
          29,
          30,
          31
         ],
         "y": [
          1458,
          1551,
          1407,
          1463,
          1370,
          1315,
          1293,
          1304,
          1323,
          1277,
          1284,
          1310,
          1324,
          1313,
          1236,
          1189,
          1264,
          1472,
          3341,
          2566,
          2454,
          2173,
          2030,
          2295,
          2640,
          2278,
          2131,
          2032,
          1961,
          2050,
          2401
         ],
         "type": "scatter"
        },
        {
         "mode": "lines+markers",
         "name": "June",
         "x": [
          1,
          2,
          3,
          4,
          5,
          6,
          7,
          8,
          9,
          10,
          11,
          12,
          13,
          14,
          15,
          16,
          17,
          18,
          19,
          20,
          21,
          22,
          23,
          24,
          25,
          26,
          27,
          28,
          29,
          30
         ],
         "y": [
          2123,
          2080,
          1762,
          1754,
          1676,
          1647,
          1720,
          1614,
          1583,
          1548,
          1651,
          1833,
          1885,
          1849,
          1727,
          1767,
          1829,
          1619,
          1819,
          1969,
          2104,
          2270,
          2670,
          2725,
          2942,
          3699,
          3931,
          4163,
          16030,
          10112
         ],
         "type": "scatter"
        },
        {
         "mode": "lines+markers",
         "name": "July",
         "x": [
          1,
          2,
          3,
          4,
          5,
          6,
          7,
          8,
          9,
          10,
          11,
          12,
          13,
          14,
          15,
          16,
          17,
          18,
          19,
          20,
          21,
          22,
          23,
          24,
          25,
          26,
          27,
          28,
          29,
          30,
          31
         ],
         "y": [
          8848,
          7329,
          7313,
          6884,
          5797,
          5483,
          4640,
          3519,
          3368,
          3034,
          2851,
          2820,
          2850,
          2911,
          2587,
          2498,
          2435,
          2304,
          2241,
          2293,
          2201,
          2143,
          2103,
          1987,
          2025,
          2029,
          1989,
          1970,
          1943,
          1872,
          1864
         ],
         "type": "scatter"
        },
        {
         "mode": "lines+markers",
         "name": "August",
         "x": [
          1,
          2,
          3,
          4,
          5,
          6,
          7,
          8,
          9,
          10,
          11,
          12,
          13,
          14,
          15,
          16,
          17,
          18,
          19,
          20,
          21,
          22,
          23,
          24,
          25,
          26,
          27,
          28,
          29,
          30,
          31
         ],
         "y": [
          1851,
          1878,
          1779,
          1841,
          1776,
          1771,
          1803,
          1764,
          1702,
          1774,
          1770,
          1764,
          1698,
          1755,
          1797,
          1810,
          1616,
          1779,
          1911,
          1867,
          1749,
          1862,
          1894,
          1866,
          1940,
          1979,
          1904,
          1927,
          2015,
          2383,
          2142
         ],
         "type": "scatter"
        },
        {
         "mode": "lines+markers",
         "name": "September",
         "x": [
          1,
          2,
          3,
          4,
          5,
          6,
          7,
          8,
          9,
          10,
          11,
          12,
          13,
          14,
          15,
          16,
          17,
          18,
          19,
          20,
          21,
          22,
          23,
          24,
          25,
          26,
          27,
          28,
          29,
          30
         ],
         "y": [
          1947,
          1806,
          1900,
          2003,
          2041,
          2082,
          1907,
          1873,
          1811,
          1842,
          1751,
          1914,
          1806,
          1572,
          1598,
          1591,
          1563,
          1494,
          1664,
          1654,
          1499,
          1417,
          1567,
          1489,
          1634,
          1654,
          1652,
          1559,
          1469,
          1573
         ],
         "type": "scatter"
        },
        {
         "mode": "lines+markers",
         "name": "October",
         "x": [
          1,
          2,
          3,
          4,
          5,
          6,
          7,
          8,
          9,
          10,
          11,
          12,
          13,
          14,
          15,
          16,
          17,
          18,
          19,
          20,
          21,
          22,
          23,
          24,
          25,
          26,
          27,
          28,
          29,
          30,
          31
         ],
         "y": [
          1597,
          1495,
          1693,
          1585,
          1433,
          1516,
          1490,
          1472,
          1417,
          1531,
          1583,
          1517,
          1503,
          1475,
          1488,
          1558,
          1910,
          1734,
          1553,
          1558,
          1742,
          1468,
          1558,
          1672,
          1833,
          1784,
          1729,
          1706,
          1906,
          2152,
          3573
         ],
         "type": "scatter"
        },
        {
         "mode": "lines+markers",
         "name": "November",
         "x": [
          1,
          2,
          3,
          4,
          5,
          6,
          7,
          8,
          9,
          10,
          11,
          12,
          13,
          14,
          15,
          16,
          17,
          18,
          19,
          20,
          21,
          22,
          23,
          24,
          25,
          26,
          27,
          28,
          29,
          30
         ],
         "y": [
          3508,
          3363,
          3184,
          2708,
          2555,
          2460,
          2911,
          2557,
          2841,
          2489,
          2377,
          2240,
          2179,
          2265,
          2412,
          2341,
          2397,
          2078,
          1998,
          2140,
          6065,
          16334,
          21504,
          21596,
          16693,
          18412,
          15775,
          11098,
          8412,
          6715
         ],
         "type": "scatter"
        },
        {
         "mode": "lines+markers",
         "name": "December",
         "x": [
          1,
          2,
          3,
          4,
          5,
          6,
          7,
          8,
          9,
          10,
          11,
          12,
          13,
          14,
          15,
          16,
          17,
          18,
          19,
          20,
          21,
          22,
          23,
          24,
          25,
          26,
          27,
          28,
          29,
          30,
          31
         ],
         "y": [
          6403,
          4554,
          4044,
          3419,
          3350,
          3205,
          3175,
          3059,
          2718,
          2663,
          2685,
          2883,
          2968,
          2930,
          2895,
          2597,
          2485,
          2566,
          2715,
          3170,
          4277,
          5416,
          5995,
          6001,
          5983,
          6755,
          7969,
          7961,
          7294,
          7229,
          6581
         ],
         "type": "scatter"
        }
       ],
       "layout": {
        "template": {
         "data": {
          "histogram2dcontour": [
           {
            "type": "histogram2dcontour",
            "colorbar": {
             "outlinewidth": 0,
             "ticks": ""
            },
            "colorscale": [
             [
              0.0,
              "#0d0887"
             ],
             [
              0.1111111111111111,
              "#46039f"
             ],
             [
              0.2222222222222222,
              "#7201a8"
             ],
             [
              0.3333333333333333,
              "#9c179e"
             ],
             [
              0.4444444444444444,
              "#bd3786"
             ],
             [
              0.5555555555555556,
              "#d8576b"
             ],
             [
              0.6666666666666666,
              "#ed7953"
             ],
             [
              0.7777777777777778,
              "#fb9f3a"
             ],
             [
              0.8888888888888888,
              "#fdca26"
             ],
             [
              1.0,
              "#f0f921"
             ]
            ]
           }
          ],
          "choropleth": [
           {
            "type": "choropleth",
            "colorbar": {
             "outlinewidth": 0,
             "ticks": ""
            }
           }
          ],
          "histogram2d": [
           {
            "type": "histogram2d",
            "colorbar": {
             "outlinewidth": 0,
             "ticks": ""
            },
            "colorscale": [
             [
              0.0,
              "#0d0887"
             ],
             [
              0.1111111111111111,
              "#46039f"
             ],
             [
              0.2222222222222222,
              "#7201a8"
             ],
             [
              0.3333333333333333,
              "#9c179e"
             ],
             [
              0.4444444444444444,
              "#bd3786"
             ],
             [
              0.5555555555555556,
              "#d8576b"
             ],
             [
              0.6666666666666666,
              "#ed7953"
             ],
             [
              0.7777777777777778,
              "#fb9f3a"
             ],
             [
              0.8888888888888888,
              "#fdca26"
             ],
             [
              1.0,
              "#f0f921"
             ]
            ]
           }
          ],
          "heatmap": [
           {
            "type": "heatmap",
            "colorbar": {
             "outlinewidth": 0,
             "ticks": ""
            },
            "colorscale": [
             [
              0.0,
              "#0d0887"
             ],
             [
              0.1111111111111111,
              "#46039f"
             ],
             [
              0.2222222222222222,
              "#7201a8"
             ],
             [
              0.3333333333333333,
              "#9c179e"
             ],
             [
              0.4444444444444444,
              "#bd3786"
             ],
             [
              0.5555555555555556,
              "#d8576b"
             ],
             [
              0.6666666666666666,
              "#ed7953"
             ],
             [
              0.7777777777777778,
              "#fb9f3a"
             ],
             [
              0.8888888888888888,
              "#fdca26"
             ],
             [
              1.0,
              "#f0f921"
             ]
            ]
           }
          ],
          "heatmapgl": [
           {
            "type": "heatmapgl",
            "colorbar": {
             "outlinewidth": 0,
             "ticks": ""
            },
            "colorscale": [
             [
              0.0,
              "#0d0887"
             ],
             [
              0.1111111111111111,
              "#46039f"
             ],
             [
              0.2222222222222222,
              "#7201a8"
             ],
             [
              0.3333333333333333,
              "#9c179e"
             ],
             [
              0.4444444444444444,
              "#bd3786"
             ],
             [
              0.5555555555555556,
              "#d8576b"
             ],
             [
              0.6666666666666666,
              "#ed7953"
             ],
             [
              0.7777777777777778,
              "#fb9f3a"
             ],
             [
              0.8888888888888888,
              "#fdca26"
             ],
             [
              1.0,
              "#f0f921"
             ]
            ]
           }
          ],
          "contourcarpet": [
           {
            "type": "contourcarpet",
            "colorbar": {
             "outlinewidth": 0,
             "ticks": ""
            }
           }
          ],
          "contour": [
           {
            "type": "contour",
            "colorbar": {
             "outlinewidth": 0,
             "ticks": ""
            },
            "colorscale": [
             [
              0.0,
              "#0d0887"
             ],
             [
              0.1111111111111111,
              "#46039f"
             ],
             [
              0.2222222222222222,
              "#7201a8"
             ],
             [
              0.3333333333333333,
              "#9c179e"
             ],
             [
              0.4444444444444444,
              "#bd3786"
             ],
             [
              0.5555555555555556,
              "#d8576b"
             ],
             [
              0.6666666666666666,
              "#ed7953"
             ],
             [
              0.7777777777777778,
              "#fb9f3a"
             ],
             [
              0.8888888888888888,
              "#fdca26"
             ],
             [
              1.0,
              "#f0f921"
             ]
            ]
           }
          ],
          "surface": [
           {
            "type": "surface",
            "colorbar": {
             "outlinewidth": 0,
             "ticks": ""
            },
            "colorscale": [
             [
              0.0,
              "#0d0887"
             ],
             [
              0.1111111111111111,
              "#46039f"
             ],
             [
              0.2222222222222222,
              "#7201a8"
             ],
             [
              0.3333333333333333,
              "#9c179e"
             ],
             [
              0.4444444444444444,
              "#bd3786"
             ],
             [
              0.5555555555555556,
              "#d8576b"
             ],
             [
              0.6666666666666666,
              "#ed7953"
             ],
             [
              0.7777777777777778,
              "#fb9f3a"
             ],
             [
              0.8888888888888888,
              "#fdca26"
             ],
             [
              1.0,
              "#f0f921"
             ]
            ]
           }
          ],
          "mesh3d": [
           {
            "type": "mesh3d",
            "colorbar": {
             "outlinewidth": 0,
             "ticks": ""
            }
           }
          ],
          "scatter": [
           {
            "fillpattern": {
             "fillmode": "overlay",
             "size": 10,
             "solidity": 0.2
            },
            "type": "scatter"
           }
          ],
          "parcoords": [
           {
            "type": "parcoords",
            "line": {
             "colorbar": {
              "outlinewidth": 0,
              "ticks": ""
             }
            }
           }
          ],
          "scatterpolargl": [
           {
            "type": "scatterpolargl",
            "marker": {
             "colorbar": {
              "outlinewidth": 0,
              "ticks": ""
             }
            }
           }
          ],
          "bar": [
           {
            "error_x": {
             "color": "#2a3f5f"
            },
            "error_y": {
             "color": "#2a3f5f"
            },
            "marker": {
             "line": {
              "color": "#E5ECF6",
              "width": 0.5
             },
             "pattern": {
              "fillmode": "overlay",
              "size": 10,
              "solidity": 0.2
             }
            },
            "type": "bar"
           }
          ],
          "scattergeo": [
           {
            "type": "scattergeo",
            "marker": {
             "colorbar": {
              "outlinewidth": 0,
              "ticks": ""
             }
            }
           }
          ],
          "scatterpolar": [
           {
            "type": "scatterpolar",
            "marker": {
             "colorbar": {
              "outlinewidth": 0,
              "ticks": ""
             }
            }
           }
          ],
          "histogram": [
           {
            "marker": {
             "pattern": {
              "fillmode": "overlay",
              "size": 10,
              "solidity": 0.2
             }
            },
            "type": "histogram"
           }
          ],
          "scattergl": [
           {
            "type": "scattergl",
            "marker": {
             "colorbar": {
              "outlinewidth": 0,
              "ticks": ""
             }
            }
           }
          ],
          "scatter3d": [
           {
            "type": "scatter3d",
            "line": {
             "colorbar": {
              "outlinewidth": 0,
              "ticks": ""
             }
            },
            "marker": {
             "colorbar": {
              "outlinewidth": 0,
              "ticks": ""
             }
            }
           }
          ],
          "scattermapbox": [
           {
            "type": "scattermapbox",
            "marker": {
             "colorbar": {
              "outlinewidth": 0,
              "ticks": ""
             }
            }
           }
          ],
          "scatterternary": [
           {
            "type": "scatterternary",
            "marker": {
             "colorbar": {
              "outlinewidth": 0,
              "ticks": ""
             }
            }
           }
          ],
          "scattercarpet": [
           {
            "type": "scattercarpet",
            "marker": {
             "colorbar": {
              "outlinewidth": 0,
              "ticks": ""
             }
            }
           }
          ],
          "carpet": [
           {
            "aaxis": {
             "endlinecolor": "#2a3f5f",
             "gridcolor": "white",
             "linecolor": "white",
             "minorgridcolor": "white",
             "startlinecolor": "#2a3f5f"
            },
            "baxis": {
             "endlinecolor": "#2a3f5f",
             "gridcolor": "white",
             "linecolor": "white",
             "minorgridcolor": "white",
             "startlinecolor": "#2a3f5f"
            },
            "type": "carpet"
           }
          ],
          "table": [
           {
            "cells": {
             "fill": {
              "color": "#EBF0F8"
             },
             "line": {
              "color": "white"
             }
            },
            "header": {
             "fill": {
              "color": "#C8D4E3"
             },
             "line": {
              "color": "white"
             }
            },
            "type": "table"
           }
          ],
          "barpolar": [
           {
            "marker": {
             "line": {
              "color": "#E5ECF6",
              "width": 0.5
             },
             "pattern": {
              "fillmode": "overlay",
              "size": 10,
              "solidity": 0.2
             }
            },
            "type": "barpolar"
           }
          ],
          "pie": [
           {
            "automargin": true,
            "type": "pie"
           }
          ]
         },
         "layout": {
          "autotypenumbers": "strict",
          "colorway": [
           "#636efa",
           "#EF553B",
           "#00cc96",
           "#ab63fa",
           "#FFA15A",
           "#19d3f3",
           "#FF6692",
           "#B6E880",
           "#FF97FF",
           "#FECB52"
          ],
          "font": {
           "color": "#2a3f5f"
          },
          "hovermode": "closest",
          "hoverlabel": {
           "align": "left"
          },
          "paper_bgcolor": "white",
          "plot_bgcolor": "#E5ECF6",
          "polar": {
           "bgcolor": "#E5ECF6",
           "angularaxis": {
            "gridcolor": "white",
            "linecolor": "white",
            "ticks": ""
           },
           "radialaxis": {
            "gridcolor": "white",
            "linecolor": "white",
            "ticks": ""
           }
          },
          "ternary": {
           "bgcolor": "#E5ECF6",
           "aaxis": {
            "gridcolor": "white",
            "linecolor": "white",
            "ticks": ""
           },
           "baxis": {
            "gridcolor": "white",
            "linecolor": "white",
            "ticks": ""
           },
           "caxis": {
            "gridcolor": "white",
            "linecolor": "white",
            "ticks": ""
           }
          },
          "coloraxis": {
           "colorbar": {
            "outlinewidth": 0,
            "ticks": ""
           }
          },
          "colorscale": {
           "sequential": [
            [
             0.0,
             "#0d0887"
            ],
            [
             0.1111111111111111,
             "#46039f"
            ],
            [
             0.2222222222222222,
             "#7201a8"
            ],
            [
             0.3333333333333333,
             "#9c179e"
            ],
            [
             0.4444444444444444,
             "#bd3786"
            ],
            [
             0.5555555555555556,
             "#d8576b"
            ],
            [
             0.6666666666666666,
             "#ed7953"
            ],
            [
             0.7777777777777778,
             "#fb9f3a"
            ],
            [
             0.8888888888888888,
             "#fdca26"
            ],
            [
             1.0,
             "#f0f921"
            ]
           ],
           "sequentialminus": [
            [
             0.0,
             "#0d0887"
            ],
            [
             0.1111111111111111,
             "#46039f"
            ],
            [
             0.2222222222222222,
             "#7201a8"
            ],
            [
             0.3333333333333333,
             "#9c179e"
            ],
            [
             0.4444444444444444,
             "#bd3786"
            ],
            [
             0.5555555555555556,
             "#d8576b"
            ],
            [
             0.6666666666666666,
             "#ed7953"
            ],
            [
             0.7777777777777778,
             "#fb9f3a"
            ],
            [
             0.8888888888888888,
             "#fdca26"
            ],
            [
             1.0,
             "#f0f921"
            ]
           ],
           "diverging": [
            [
             0,
             "#8e0152"
            ],
            [
             0.1,
             "#c51b7d"
            ],
            [
             0.2,
             "#de77ae"
            ],
            [
             0.3,
             "#f1b6da"
            ],
            [
             0.4,
             "#fde0ef"
            ],
            [
             0.5,
             "#f7f7f7"
            ],
            [
             0.6,
             "#e6f5d0"
            ],
            [
             0.7,
             "#b8e186"
            ],
            [
             0.8,
             "#7fbc41"
            ],
            [
             0.9,
             "#4d9221"
            ],
            [
             1,
             "#276419"
            ]
           ]
          },
          "xaxis": {
           "gridcolor": "white",
           "linecolor": "white",
           "ticks": "",
           "title": {
            "standoff": 15
           },
           "zerolinecolor": "white",
           "automargin": true,
           "zerolinewidth": 2
          },
          "yaxis": {
           "gridcolor": "white",
           "linecolor": "white",
           "ticks": "",
           "title": {
            "standoff": 15
           },
           "zerolinecolor": "white",
           "automargin": true,
           "zerolinewidth": 2
          },
          "scene": {
           "xaxis": {
            "backgroundcolor": "#E5ECF6",
            "gridcolor": "white",
            "linecolor": "white",
            "showbackground": true,
            "ticks": "",
            "zerolinecolor": "white",
            "gridwidth": 2
           },
           "yaxis": {
            "backgroundcolor": "#E5ECF6",
            "gridcolor": "white",
            "linecolor": "white",
            "showbackground": true,
            "ticks": "",
            "zerolinecolor": "white",
            "gridwidth": 2
           },
           "zaxis": {
            "backgroundcolor": "#E5ECF6",
            "gridcolor": "white",
            "linecolor": "white",
            "showbackground": true,
            "ticks": "",
            "zerolinecolor": "white",
            "gridwidth": 2
           }
          },
          "shapedefaults": {
           "line": {
            "color": "#2a3f5f"
           }
          },
          "annotationdefaults": {
           "arrowcolor": "#2a3f5f",
           "arrowhead": 0,
           "arrowwidth": 1
          },
          "geo": {
           "bgcolor": "white",
           "landcolor": "#E5ECF6",
           "subunitcolor": "white",
           "showland": true,
           "showlakes": true,
           "lakecolor": "white"
          },
          "title": {
           "x": 0.05
          },
          "mapbox": {
           "style": "light"
          }
         }
        },
        "title": {
         "text": "Daily Review Counts for Each Month"
        },
        "xaxis": {
         "title": {
          "text": "Day of the Month"
         }
        },
        "yaxis": {
         "title": {
          "text": "Review Count"
         },
         "tickformat": ",.0f"
        },
        "legend": {
         "title": {
          "text": "Month"
         }
        }
       },
       "config": {
        "plotlyServerURL": "https://plot.ly"
       }
      },
      "text/html": [
       "<div>                            <div id=\"4b488410-2c40-4a17-9dba-31c6aa75f5b3\" class=\"plotly-graph-div\" style=\"height:525px; width:100%;\"></div>            <script type=\"text/javascript\">                require([\"plotly\"], function(Plotly) {                    window.PLOTLYENV=window.PLOTLYENV || {};                                    if (document.getElementById(\"4b488410-2c40-4a17-9dba-31c6aa75f5b3\")) {                    Plotly.newPlot(                        \"4b488410-2c40-4a17-9dba-31c6aa75f5b3\",                        [{\"mode\":\"lines+markers\",\"name\":\"January\",\"x\":[1,2,3,4,5,6,7,8,9,10,11,12,13,14,15,16,17,18,19,20,21,22,23,24,25,26,27,28,29,30,31],\"y\":[6483,6763,6293,6224,5822,4932,4489,4089,4045,4049,3914,3933,3319,3200,3134,3190,3181,3255,3168,2489,2376,2451,2098,2045,2254,2228,2262,2439,2103,1897,2113],\"type\":\"scatter\"},{\"mode\":\"lines+markers\",\"name\":\"February\",\"x\":[1,2,3,4,5,6,7,8,9,10,11,12,13,14,15,16,17,18,19,20,21,22,23,24,25,26,27,28,29],\"y\":[2198,2134,1799,1780,1857,2032,2086,2274,2290,2114,1942,1763,1872,1725,1873,2122,1904,1844,1863,1719,1767,1830,1862,1639,1681,1498,1483,1519,842],\"type\":\"scatter\"},{\"mode\":\"lines+markers\",\"name\":\"March\",\"x\":[1,2,3,4,5,6,7,8,9,10,11,12,13,14,15,16,17,18,19,20,21,22,23,24,25,26,27,28,29,30,31],\"y\":[1617,1424,1347,1334,1389,1321,1497,1510,1443,1378,1274,1333,1426,1570,1506,1379,1509,1418,1534,1469,1562,1649,1608,1755,1801,1780,1842,1985,2109,2094,2091],\"type\":\"scatter\"},{\"mode\":\"lines+markers\",\"name\":\"April\",\"x\":[1,2,3,4,5,6,7,8,9,10,11,12,13,14,15,16,17,18,19,20,21,22,23,24,25,26,27,28,29,30],\"y\":[2019,1970,1922,2123,1965,1847,1826,1689,1784,1803,1792,1812,1772,1814,1753,1569,1589,1527,1635,1708,1726,1819,1833,1668,1718,1584,1497,1472,1530,1511],\"type\":\"scatter\"},{\"mode\":\"lines+markers\",\"name\":\"May\",\"x\":[1,2,3,4,5,6,7,8,9,10,11,12,13,14,15,16,17,18,19,20,21,22,23,24,25,26,27,28,29,30,31],\"y\":[1458,1551,1407,1463,1370,1315,1293,1304,1323,1277,1284,1310,1324,1313,1236,1189,1264,1472,3341,2566,2454,2173,2030,2295,2640,2278,2131,2032,1961,2050,2401],\"type\":\"scatter\"},{\"mode\":\"lines+markers\",\"name\":\"June\",\"x\":[1,2,3,4,5,6,7,8,9,10,11,12,13,14,15,16,17,18,19,20,21,22,23,24,25,26,27,28,29,30],\"y\":[2123,2080,1762,1754,1676,1647,1720,1614,1583,1548,1651,1833,1885,1849,1727,1767,1829,1619,1819,1969,2104,2270,2670,2725,2942,3699,3931,4163,16030,10112],\"type\":\"scatter\"},{\"mode\":\"lines+markers\",\"name\":\"July\",\"x\":[1,2,3,4,5,6,7,8,9,10,11,12,13,14,15,16,17,18,19,20,21,22,23,24,25,26,27,28,29,30,31],\"y\":[8848,7329,7313,6884,5797,5483,4640,3519,3368,3034,2851,2820,2850,2911,2587,2498,2435,2304,2241,2293,2201,2143,2103,1987,2025,2029,1989,1970,1943,1872,1864],\"type\":\"scatter\"},{\"mode\":\"lines+markers\",\"name\":\"August\",\"x\":[1,2,3,4,5,6,7,8,9,10,11,12,13,14,15,16,17,18,19,20,21,22,23,24,25,26,27,28,29,30,31],\"y\":[1851,1878,1779,1841,1776,1771,1803,1764,1702,1774,1770,1764,1698,1755,1797,1810,1616,1779,1911,1867,1749,1862,1894,1866,1940,1979,1904,1927,2015,2383,2142],\"type\":\"scatter\"},{\"mode\":\"lines+markers\",\"name\":\"September\",\"x\":[1,2,3,4,5,6,7,8,9,10,11,12,13,14,15,16,17,18,19,20,21,22,23,24,25,26,27,28,29,30],\"y\":[1947,1806,1900,2003,2041,2082,1907,1873,1811,1842,1751,1914,1806,1572,1598,1591,1563,1494,1664,1654,1499,1417,1567,1489,1634,1654,1652,1559,1469,1573],\"type\":\"scatter\"},{\"mode\":\"lines+markers\",\"name\":\"October\",\"x\":[1,2,3,4,5,6,7,8,9,10,11,12,13,14,15,16,17,18,19,20,21,22,23,24,25,26,27,28,29,30,31],\"y\":[1597,1495,1693,1585,1433,1516,1490,1472,1417,1531,1583,1517,1503,1475,1488,1558,1910,1734,1553,1558,1742,1468,1558,1672,1833,1784,1729,1706,1906,2152,3573],\"type\":\"scatter\"},{\"mode\":\"lines+markers\",\"name\":\"November\",\"x\":[1,2,3,4,5,6,7,8,9,10,11,12,13,14,15,16,17,18,19,20,21,22,23,24,25,26,27,28,29,30],\"y\":[3508,3363,3184,2708,2555,2460,2911,2557,2841,2489,2377,2240,2179,2265,2412,2341,2397,2078,1998,2140,6065,16334,21504,21596,16693,18412,15775,11098,8412,6715],\"type\":\"scatter\"},{\"mode\":\"lines+markers\",\"name\":\"December\",\"x\":[1,2,3,4,5,6,7,8,9,10,11,12,13,14,15,16,17,18,19,20,21,22,23,24,25,26,27,28,29,30,31],\"y\":[6403,4554,4044,3419,3350,3205,3175,3059,2718,2663,2685,2883,2968,2930,2895,2597,2485,2566,2715,3170,4277,5416,5995,6001,5983,6755,7969,7961,7294,7229,6581],\"type\":\"scatter\"}],                        {\"template\":{\"data\":{\"histogram2dcontour\":[{\"type\":\"histogram2dcontour\",\"colorbar\":{\"outlinewidth\":0,\"ticks\":\"\"},\"colorscale\":[[0.0,\"#0d0887\"],[0.1111111111111111,\"#46039f\"],[0.2222222222222222,\"#7201a8\"],[0.3333333333333333,\"#9c179e\"],[0.4444444444444444,\"#bd3786\"],[0.5555555555555556,\"#d8576b\"],[0.6666666666666666,\"#ed7953\"],[0.7777777777777778,\"#fb9f3a\"],[0.8888888888888888,\"#fdca26\"],[1.0,\"#f0f921\"]]}],\"choropleth\":[{\"type\":\"choropleth\",\"colorbar\":{\"outlinewidth\":0,\"ticks\":\"\"}}],\"histogram2d\":[{\"type\":\"histogram2d\",\"colorbar\":{\"outlinewidth\":0,\"ticks\":\"\"},\"colorscale\":[[0.0,\"#0d0887\"],[0.1111111111111111,\"#46039f\"],[0.2222222222222222,\"#7201a8\"],[0.3333333333333333,\"#9c179e\"],[0.4444444444444444,\"#bd3786\"],[0.5555555555555556,\"#d8576b\"],[0.6666666666666666,\"#ed7953\"],[0.7777777777777778,\"#fb9f3a\"],[0.8888888888888888,\"#fdca26\"],[1.0,\"#f0f921\"]]}],\"heatmap\":[{\"type\":\"heatmap\",\"colorbar\":{\"outlinewidth\":0,\"ticks\":\"\"},\"colorscale\":[[0.0,\"#0d0887\"],[0.1111111111111111,\"#46039f\"],[0.2222222222222222,\"#7201a8\"],[0.3333333333333333,\"#9c179e\"],[0.4444444444444444,\"#bd3786\"],[0.5555555555555556,\"#d8576b\"],[0.6666666666666666,\"#ed7953\"],[0.7777777777777778,\"#fb9f3a\"],[0.8888888888888888,\"#fdca26\"],[1.0,\"#f0f921\"]]}],\"heatmapgl\":[{\"type\":\"heatmapgl\",\"colorbar\":{\"outlinewidth\":0,\"ticks\":\"\"},\"colorscale\":[[0.0,\"#0d0887\"],[0.1111111111111111,\"#46039f\"],[0.2222222222222222,\"#7201a8\"],[0.3333333333333333,\"#9c179e\"],[0.4444444444444444,\"#bd3786\"],[0.5555555555555556,\"#d8576b\"],[0.6666666666666666,\"#ed7953\"],[0.7777777777777778,\"#fb9f3a\"],[0.8888888888888888,\"#fdca26\"],[1.0,\"#f0f921\"]]}],\"contourcarpet\":[{\"type\":\"contourcarpet\",\"colorbar\":{\"outlinewidth\":0,\"ticks\":\"\"}}],\"contour\":[{\"type\":\"contour\",\"colorbar\":{\"outlinewidth\":0,\"ticks\":\"\"},\"colorscale\":[[0.0,\"#0d0887\"],[0.1111111111111111,\"#46039f\"],[0.2222222222222222,\"#7201a8\"],[0.3333333333333333,\"#9c179e\"],[0.4444444444444444,\"#bd3786\"],[0.5555555555555556,\"#d8576b\"],[0.6666666666666666,\"#ed7953\"],[0.7777777777777778,\"#fb9f3a\"],[0.8888888888888888,\"#fdca26\"],[1.0,\"#f0f921\"]]}],\"surface\":[{\"type\":\"surface\",\"colorbar\":{\"outlinewidth\":0,\"ticks\":\"\"},\"colorscale\":[[0.0,\"#0d0887\"],[0.1111111111111111,\"#46039f\"],[0.2222222222222222,\"#7201a8\"],[0.3333333333333333,\"#9c179e\"],[0.4444444444444444,\"#bd3786\"],[0.5555555555555556,\"#d8576b\"],[0.6666666666666666,\"#ed7953\"],[0.7777777777777778,\"#fb9f3a\"],[0.8888888888888888,\"#fdca26\"],[1.0,\"#f0f921\"]]}],\"mesh3d\":[{\"type\":\"mesh3d\",\"colorbar\":{\"outlinewidth\":0,\"ticks\":\"\"}}],\"scatter\":[{\"fillpattern\":{\"fillmode\":\"overlay\",\"size\":10,\"solidity\":0.2},\"type\":\"scatter\"}],\"parcoords\":[{\"type\":\"parcoords\",\"line\":{\"colorbar\":{\"outlinewidth\":0,\"ticks\":\"\"}}}],\"scatterpolargl\":[{\"type\":\"scatterpolargl\",\"marker\":{\"colorbar\":{\"outlinewidth\":0,\"ticks\":\"\"}}}],\"bar\":[{\"error_x\":{\"color\":\"#2a3f5f\"},\"error_y\":{\"color\":\"#2a3f5f\"},\"marker\":{\"line\":{\"color\":\"#E5ECF6\",\"width\":0.5},\"pattern\":{\"fillmode\":\"overlay\",\"size\":10,\"solidity\":0.2}},\"type\":\"bar\"}],\"scattergeo\":[{\"type\":\"scattergeo\",\"marker\":{\"colorbar\":{\"outlinewidth\":0,\"ticks\":\"\"}}}],\"scatterpolar\":[{\"type\":\"scatterpolar\",\"marker\":{\"colorbar\":{\"outlinewidth\":0,\"ticks\":\"\"}}}],\"histogram\":[{\"marker\":{\"pattern\":{\"fillmode\":\"overlay\",\"size\":10,\"solidity\":0.2}},\"type\":\"histogram\"}],\"scattergl\":[{\"type\":\"scattergl\",\"marker\":{\"colorbar\":{\"outlinewidth\":0,\"ticks\":\"\"}}}],\"scatter3d\":[{\"type\":\"scatter3d\",\"line\":{\"colorbar\":{\"outlinewidth\":0,\"ticks\":\"\"}},\"marker\":{\"colorbar\":{\"outlinewidth\":0,\"ticks\":\"\"}}}],\"scattermapbox\":[{\"type\":\"scattermapbox\",\"marker\":{\"colorbar\":{\"outlinewidth\":0,\"ticks\":\"\"}}}],\"scatterternary\":[{\"type\":\"scatterternary\",\"marker\":{\"colorbar\":{\"outlinewidth\":0,\"ticks\":\"\"}}}],\"scattercarpet\":[{\"type\":\"scattercarpet\",\"marker\":{\"colorbar\":{\"outlinewidth\":0,\"ticks\":\"\"}}}],\"carpet\":[{\"aaxis\":{\"endlinecolor\":\"#2a3f5f\",\"gridcolor\":\"white\",\"linecolor\":\"white\",\"minorgridcolor\":\"white\",\"startlinecolor\":\"#2a3f5f\"},\"baxis\":{\"endlinecolor\":\"#2a3f5f\",\"gridcolor\":\"white\",\"linecolor\":\"white\",\"minorgridcolor\":\"white\",\"startlinecolor\":\"#2a3f5f\"},\"type\":\"carpet\"}],\"table\":[{\"cells\":{\"fill\":{\"color\":\"#EBF0F8\"},\"line\":{\"color\":\"white\"}},\"header\":{\"fill\":{\"color\":\"#C8D4E3\"},\"line\":{\"color\":\"white\"}},\"type\":\"table\"}],\"barpolar\":[{\"marker\":{\"line\":{\"color\":\"#E5ECF6\",\"width\":0.5},\"pattern\":{\"fillmode\":\"overlay\",\"size\":10,\"solidity\":0.2}},\"type\":\"barpolar\"}],\"pie\":[{\"automargin\":true,\"type\":\"pie\"}]},\"layout\":{\"autotypenumbers\":\"strict\",\"colorway\":[\"#636efa\",\"#EF553B\",\"#00cc96\",\"#ab63fa\",\"#FFA15A\",\"#19d3f3\",\"#FF6692\",\"#B6E880\",\"#FF97FF\",\"#FECB52\"],\"font\":{\"color\":\"#2a3f5f\"},\"hovermode\":\"closest\",\"hoverlabel\":{\"align\":\"left\"},\"paper_bgcolor\":\"white\",\"plot_bgcolor\":\"#E5ECF6\",\"polar\":{\"bgcolor\":\"#E5ECF6\",\"angularaxis\":{\"gridcolor\":\"white\",\"linecolor\":\"white\",\"ticks\":\"\"},\"radialaxis\":{\"gridcolor\":\"white\",\"linecolor\":\"white\",\"ticks\":\"\"}},\"ternary\":{\"bgcolor\":\"#E5ECF6\",\"aaxis\":{\"gridcolor\":\"white\",\"linecolor\":\"white\",\"ticks\":\"\"},\"baxis\":{\"gridcolor\":\"white\",\"linecolor\":\"white\",\"ticks\":\"\"},\"caxis\":{\"gridcolor\":\"white\",\"linecolor\":\"white\",\"ticks\":\"\"}},\"coloraxis\":{\"colorbar\":{\"outlinewidth\":0,\"ticks\":\"\"}},\"colorscale\":{\"sequential\":[[0.0,\"#0d0887\"],[0.1111111111111111,\"#46039f\"],[0.2222222222222222,\"#7201a8\"],[0.3333333333333333,\"#9c179e\"],[0.4444444444444444,\"#bd3786\"],[0.5555555555555556,\"#d8576b\"],[0.6666666666666666,\"#ed7953\"],[0.7777777777777778,\"#fb9f3a\"],[0.8888888888888888,\"#fdca26\"],[1.0,\"#f0f921\"]],\"sequentialminus\":[[0.0,\"#0d0887\"],[0.1111111111111111,\"#46039f\"],[0.2222222222222222,\"#7201a8\"],[0.3333333333333333,\"#9c179e\"],[0.4444444444444444,\"#bd3786\"],[0.5555555555555556,\"#d8576b\"],[0.6666666666666666,\"#ed7953\"],[0.7777777777777778,\"#fb9f3a\"],[0.8888888888888888,\"#fdca26\"],[1.0,\"#f0f921\"]],\"diverging\":[[0,\"#8e0152\"],[0.1,\"#c51b7d\"],[0.2,\"#de77ae\"],[0.3,\"#f1b6da\"],[0.4,\"#fde0ef\"],[0.5,\"#f7f7f7\"],[0.6,\"#e6f5d0\"],[0.7,\"#b8e186\"],[0.8,\"#7fbc41\"],[0.9,\"#4d9221\"],[1,\"#276419\"]]},\"xaxis\":{\"gridcolor\":\"white\",\"linecolor\":\"white\",\"ticks\":\"\",\"title\":{\"standoff\":15},\"zerolinecolor\":\"white\",\"automargin\":true,\"zerolinewidth\":2},\"yaxis\":{\"gridcolor\":\"white\",\"linecolor\":\"white\",\"ticks\":\"\",\"title\":{\"standoff\":15},\"zerolinecolor\":\"white\",\"automargin\":true,\"zerolinewidth\":2},\"scene\":{\"xaxis\":{\"backgroundcolor\":\"#E5ECF6\",\"gridcolor\":\"white\",\"linecolor\":\"white\",\"showbackground\":true,\"ticks\":\"\",\"zerolinecolor\":\"white\",\"gridwidth\":2},\"yaxis\":{\"backgroundcolor\":\"#E5ECF6\",\"gridcolor\":\"white\",\"linecolor\":\"white\",\"showbackground\":true,\"ticks\":\"\",\"zerolinecolor\":\"white\",\"gridwidth\":2},\"zaxis\":{\"backgroundcolor\":\"#E5ECF6\",\"gridcolor\":\"white\",\"linecolor\":\"white\",\"showbackground\":true,\"ticks\":\"\",\"zerolinecolor\":\"white\",\"gridwidth\":2}},\"shapedefaults\":{\"line\":{\"color\":\"#2a3f5f\"}},\"annotationdefaults\":{\"arrowcolor\":\"#2a3f5f\",\"arrowhead\":0,\"arrowwidth\":1},\"geo\":{\"bgcolor\":\"white\",\"landcolor\":\"#E5ECF6\",\"subunitcolor\":\"white\",\"showland\":true,\"showlakes\":true,\"lakecolor\":\"white\"},\"title\":{\"x\":0.05},\"mapbox\":{\"style\":\"light\"}}},\"title\":{\"text\":\"Daily Review Counts for Each Month\"},\"xaxis\":{\"title\":{\"text\":\"Day of the Month\"}},\"yaxis\":{\"title\":{\"text\":\"Review Count\"},\"tickformat\":\",.0f\"},\"legend\":{\"title\":{\"text\":\"Month\"}}},                        {\"responsive\": true}                    ).then(function(){\n",
       "                            \n",
       "var gd = document.getElementById('4b488410-2c40-4a17-9dba-31c6aa75f5b3');\n",
       "var x = new MutationObserver(function (mutations, observer) {{\n",
       "        var display = window.getComputedStyle(gd).display;\n",
       "        if (!display || display === 'none') {{\n",
       "            console.log([gd, 'removed!']);\n",
       "            Plotly.purge(gd);\n",
       "            observer.disconnect();\n",
       "        }}\n",
       "}});\n",
       "\n",
       "// Listen for the removal of the full notebook cells\n",
       "var notebookContainer = gd.closest('#notebook-container');\n",
       "if (notebookContainer) {{\n",
       "    x.observe(notebookContainer, {childList: true});\n",
       "}}\n",
       "\n",
       "// Listen for the clearing of the current output cell\n",
       "var outputEl = gd.closest('.output');\n",
       "if (outputEl) {{\n",
       "    x.observe(outputEl, {childList: true});\n",
       "}}\n",
       "\n",
       "                        })                };                });            </script>        </div>"
      ]
     },
     "metadata": {},
     "output_type": "display_data"
    }
   ],
   "execution_count": 36
  },
  {
   "cell_type": "markdown",
   "source": [
    " # 3.4 What is the most common time of day users write reviews? For example, users might typically write reviews at 17:44. Explain how this time distribution could influence your analysis."
   ],
   "metadata": {
    "id": "-mSyxtrJzfc_"
   },
   "id": "-mSyxtrJzfc_"
  },
  {
   "cell_type": "code",
   "source": [
    "time_day_review = month_review[[\"review_id\", \"timestamp_created\", \"date\"]].copy()\n",
    "time_day_review['date'] = pd.to_datetime(time_day_review['date'])\n"
   ],
   "metadata": {
    "id": "kNM5Nxwaw9sz",
    "ExecuteTime": {
     "end_time": "2024-10-30T18:05:56.589998Z",
     "start_time": "2024-10-30T18:05:56.436282Z"
    }
   },
   "id": "kNM5Nxwaw9sz",
   "outputs": [],
   "execution_count": 37
  },
  {
   "cell_type": "code",
   "source": [
    "time_day_review['day'] = time_day_review['date'].dt.day\n",
    "time_day_review['time'] = time_day_review['timestamp_created'].dt.time\n",
    "\n",
    "time_day_review['hour_minute'] = time_day_review['time'].apply(lambda x: x.strftime('%H:%M'))\n",
    "\n"
   ],
   "metadata": {
    "id": "Ip_gRB0z5JO4",
    "ExecuteTime": {
     "end_time": "2024-10-30T18:06:02.434169Z",
     "start_time": "2024-10-30T18:05:56.699649Z"
    }
   },
   "id": "Ip_gRB0z5JO4",
   "outputs": [],
   "execution_count": 38
  },
  {
   "cell_type": "code",
   "source": [
    "most_common_time = time_day_review['hour_minute'].mode()\n"
   ],
   "metadata": {
    "id": "OCNiY97e4y_L",
    "ExecuteTime": {
     "end_time": "2024-10-30T18:06:02.606072Z",
     "start_time": "2024-10-30T18:06:02.492063Z"
    }
   },
   "id": "OCNiY97e4y_L",
   "outputs": [],
   "execution_count": 39
  },
  {
   "cell_type": "code",
   "source": [
    "most_common_time"
   ],
   "metadata": {
    "colab": {
     "base_uri": "https://localhost:8080/",
     "height": 115
    },
    "id": "AQOqORFZpou0",
    "outputId": "0991edc1-2ed0-496c-aa00-964f6e6a20a5",
    "ExecuteTime": {
     "end_time": "2024-10-30T18:06:02.692344Z",
     "start_time": "2024-10-30T18:06:02.677674Z"
    }
   },
   "id": "AQOqORFZpou0",
   "outputs": [
    {
     "data": {
      "text/plain": [
       "0    18:36\n",
       "Name: hour_minute, dtype: object"
      ]
     },
     "execution_count": 40,
     "metadata": {},
     "output_type": "execute_result"
    }
   ],
   "execution_count": 40
  },
  {
   "cell_type": "code",
   "source": [
    "time_day_review_counts = time_day_review['hour_minute'].value_counts()\n",
    "time_day_review_counts.name = \"review_count\"\n",
    "\n",
    "time_day_review_counts = time_day_review_counts.reset_index().rename(columns={\"index\": \"hour_minute\"})\n"
   ],
   "metadata": {
    "id": "HxrnaV-xrnx8",
    "ExecuteTime": {
     "end_time": "2024-10-30T18:06:02.897603Z",
     "start_time": "2024-10-30T18:06:02.782644Z"
    }
   },
   "id": "HxrnaV-xrnx8",
   "outputs": [],
   "execution_count": 41
  },
  {
   "cell_type": "code",
   "source": [
    "time_day_review_counts"
   ],
   "metadata": {
    "colab": {
     "base_uri": "https://localhost:8080/",
     "height": 423
    },
    "id": "YoitONG_xMg0",
    "outputId": "eb2ef8c7-1bda-481a-cb90-fc87584757bc",
    "ExecuteTime": {
     "end_time": "2024-10-30T18:06:02.978092Z",
     "start_time": "2024-10-30T18:06:02.961881Z"
    }
   },
   "id": "YoitONG_xMg0",
   "outputs": [
    {
     "data": {
      "text/plain": [
       "     hour_minute  review_count\n",
       "0          18:36           998\n",
       "1          18:52           996\n",
       "2          18:19           987\n",
       "3          18:43           969\n",
       "4          18:37           966\n",
       "...          ...           ...\n",
       "1435       05:31           462\n",
       "1436       07:02           462\n",
       "1437       06:38           461\n",
       "1438       05:07           450\n",
       "1439       05:55           448\n",
       "\n",
       "[1440 rows x 2 columns]"
      ],
      "text/html": [
       "<div>\n",
       "<style scoped>\n",
       "    .dataframe tbody tr th:only-of-type {\n",
       "        vertical-align: middle;\n",
       "    }\n",
       "\n",
       "    .dataframe tbody tr th {\n",
       "        vertical-align: top;\n",
       "    }\n",
       "\n",
       "    .dataframe thead th {\n",
       "        text-align: right;\n",
       "    }\n",
       "</style>\n",
       "<table border=\"1\" class=\"dataframe\">\n",
       "  <thead>\n",
       "    <tr style=\"text-align: right;\">\n",
       "      <th></th>\n",
       "      <th>hour_minute</th>\n",
       "      <th>review_count</th>\n",
       "    </tr>\n",
       "  </thead>\n",
       "  <tbody>\n",
       "    <tr>\n",
       "      <th>0</th>\n",
       "      <td>18:36</td>\n",
       "      <td>998</td>\n",
       "    </tr>\n",
       "    <tr>\n",
       "      <th>1</th>\n",
       "      <td>18:52</td>\n",
       "      <td>996</td>\n",
       "    </tr>\n",
       "    <tr>\n",
       "      <th>2</th>\n",
       "      <td>18:19</td>\n",
       "      <td>987</td>\n",
       "    </tr>\n",
       "    <tr>\n",
       "      <th>3</th>\n",
       "      <td>18:43</td>\n",
       "      <td>969</td>\n",
       "    </tr>\n",
       "    <tr>\n",
       "      <th>4</th>\n",
       "      <td>18:37</td>\n",
       "      <td>966</td>\n",
       "    </tr>\n",
       "    <tr>\n",
       "      <th>...</th>\n",
       "      <td>...</td>\n",
       "      <td>...</td>\n",
       "    </tr>\n",
       "    <tr>\n",
       "      <th>1435</th>\n",
       "      <td>05:31</td>\n",
       "      <td>462</td>\n",
       "    </tr>\n",
       "    <tr>\n",
       "      <th>1436</th>\n",
       "      <td>07:02</td>\n",
       "      <td>462</td>\n",
       "    </tr>\n",
       "    <tr>\n",
       "      <th>1437</th>\n",
       "      <td>06:38</td>\n",
       "      <td>461</td>\n",
       "    </tr>\n",
       "    <tr>\n",
       "      <th>1438</th>\n",
       "      <td>05:07</td>\n",
       "      <td>450</td>\n",
       "    </tr>\n",
       "    <tr>\n",
       "      <th>1439</th>\n",
       "      <td>05:55</td>\n",
       "      <td>448</td>\n",
       "    </tr>\n",
       "  </tbody>\n",
       "</table>\n",
       "<p>1440 rows × 2 columns</p>\n",
       "</div>"
      ]
     },
     "execution_count": 42,
     "metadata": {},
     "output_type": "execute_result"
    }
   ],
   "execution_count": 42
  },
  {
   "cell_type": "code",
   "source": [
    "\n",
    "time_day_review_counts['hour_minute'] = pd.to_datetime(time_day_review_counts['hour_minute'], format='%H:%M')\n",
    "\n",
    "time_day_review_counts = time_day_review_counts.sort_values(by='hour_minute')\n",
    "time_day_review_counts['hour_minute'] = time_day_review_counts['hour_minute'].dt.strftime('%H:%M')\n",
    "\n",
    "\n",
    "fig = px.line(time_day_review_counts, x=\"hour_minute\", y=\"review_count\",\n",
    "              title=\"Review Counts by Time of Day\",\n",
    "              labels={\"hour_minute\": \"Time (Hour:Minute)\", \"review_count\": \"Review Count\"},\n",
    "              markers=True)\n",
    "\n",
    "fig.update_xaxes(tickangle=45, title_text=\"Time (Hour:Minute)\")\n",
    "fig.update_yaxes(title_text=\"Review Count\")\n",
    "fig.show()\n"
   ],
   "metadata": {
    "colab": {
     "base_uri": "https://localhost:8080/",
     "height": 542
    },
    "id": "efPYjEYVojot",
    "outputId": "ccdc35d0-287e-4305-acf6-6c7b827a2594",
    "ExecuteTime": {
     "end_time": "2024-10-30T18:06:06.573776Z",
     "start_time": "2024-10-30T18:06:03.168487Z"
    }
   },
   "id": "efPYjEYVojot",
   "outputs": [
    {
     "data": {
      "application/vnd.plotly.v1+json": {
       "data": [
        {
         "hovertemplate": "Time (Hour:Minute)=%{x}<br>Review Count=%{y}<extra></extra>",
         "legendgroup": "",
         "line": {
          "color": "#636efa",
          "dash": "solid"
         },
         "marker": {
          "symbol": "circle"
         },
         "mode": "lines+markers",
         "name": "",
         "showlegend": false,
         "x": [
          "00:00",
          "00:01",
          "00:02",
          "00:03",
          "00:04",
          "00:05",
          "00:06",
          "00:07",
          "00:08",
          "00:09",
          "00:10",
          "00:11",
          "00:12",
          "00:13",
          "00:14",
          "00:15",
          "00:16",
          "00:17",
          "00:18",
          "00:19",
          "00:20",
          "00:21",
          "00:22",
          "00:23",
          "00:24",
          "00:25",
          "00:26",
          "00:27",
          "00:28",
          "00:29",
          "00:30",
          "00:31",
          "00:32",
          "00:33",
          "00:34",
          "00:35",
          "00:36",
          "00:37",
          "00:38",
          "00:39",
          "00:40",
          "00:41",
          "00:42",
          "00:43",
          "00:44",
          "00:45",
          "00:46",
          "00:47",
          "00:48",
          "00:49",
          "00:50",
          "00:51",
          "00:52",
          "00:53",
          "00:54",
          "00:55",
          "00:56",
          "00:57",
          "00:58",
          "00:59",
          "01:00",
          "01:01",
          "01:02",
          "01:03",
          "01:04",
          "01:05",
          "01:06",
          "01:07",
          "01:08",
          "01:09",
          "01:10",
          "01:11",
          "01:12",
          "01:13",
          "01:14",
          "01:15",
          "01:16",
          "01:17",
          "01:18",
          "01:19",
          "01:20",
          "01:21",
          "01:22",
          "01:23",
          "01:24",
          "01:25",
          "01:26",
          "01:27",
          "01:28",
          "01:29",
          "01:30",
          "01:31",
          "01:32",
          "01:33",
          "01:34",
          "01:35",
          "01:36",
          "01:37",
          "01:38",
          "01:39",
          "01:40",
          "01:41",
          "01:42",
          "01:43",
          "01:44",
          "01:45",
          "01:46",
          "01:47",
          "01:48",
          "01:49",
          "01:50",
          "01:51",
          "01:52",
          "01:53",
          "01:54",
          "01:55",
          "01:56",
          "01:57",
          "01:58",
          "01:59",
          "02:00",
          "02:01",
          "02:02",
          "02:03",
          "02:04",
          "02:05",
          "02:06",
          "02:07",
          "02:08",
          "02:09",
          "02:10",
          "02:11",
          "02:12",
          "02:13",
          "02:14",
          "02:15",
          "02:16",
          "02:17",
          "02:18",
          "02:19",
          "02:20",
          "02:21",
          "02:22",
          "02:23",
          "02:24",
          "02:25",
          "02:26",
          "02:27",
          "02:28",
          "02:29",
          "02:30",
          "02:31",
          "02:32",
          "02:33",
          "02:34",
          "02:35",
          "02:36",
          "02:37",
          "02:38",
          "02:39",
          "02:40",
          "02:41",
          "02:42",
          "02:43",
          "02:44",
          "02:45",
          "02:46",
          "02:47",
          "02:48",
          "02:49",
          "02:50",
          "02:51",
          "02:52",
          "02:53",
          "02:54",
          "02:55",
          "02:56",
          "02:57",
          "02:58",
          "02:59",
          "03:00",
          "03:01",
          "03:02",
          "03:03",
          "03:04",
          "03:05",
          "03:06",
          "03:07",
          "03:08",
          "03:09",
          "03:10",
          "03:11",
          "03:12",
          "03:13",
          "03:14",
          "03:15",
          "03:16",
          "03:17",
          "03:18",
          "03:19",
          "03:20",
          "03:21",
          "03:22",
          "03:23",
          "03:24",
          "03:25",
          "03:26",
          "03:27",
          "03:28",
          "03:29",
          "03:30",
          "03:31",
          "03:32",
          "03:33",
          "03:34",
          "03:35",
          "03:36",
          "03:37",
          "03:38",
          "03:39",
          "03:40",
          "03:41",
          "03:42",
          "03:43",
          "03:44",
          "03:45",
          "03:46",
          "03:47",
          "03:48",
          "03:49",
          "03:50",
          "03:51",
          "03:52",
          "03:53",
          "03:54",
          "03:55",
          "03:56",
          "03:57",
          "03:58",
          "03:59",
          "04:00",
          "04:01",
          "04:02",
          "04:03",
          "04:04",
          "04:05",
          "04:06",
          "04:07",
          "04:08",
          "04:09",
          "04:10",
          "04:11",
          "04:12",
          "04:13",
          "04:14",
          "04:15",
          "04:16",
          "04:17",
          "04:18",
          "04:19",
          "04:20",
          "04:21",
          "04:22",
          "04:23",
          "04:24",
          "04:25",
          "04:26",
          "04:27",
          "04:28",
          "04:29",
          "04:30",
          "04:31",
          "04:32",
          "04:33",
          "04:34",
          "04:35",
          "04:36",
          "04:37",
          "04:38",
          "04:39",
          "04:40",
          "04:41",
          "04:42",
          "04:43",
          "04:44",
          "04:45",
          "04:46",
          "04:47",
          "04:48",
          "04:49",
          "04:50",
          "04:51",
          "04:52",
          "04:53",
          "04:54",
          "04:55",
          "04:56",
          "04:57",
          "04:58",
          "04:59",
          "05:00",
          "05:01",
          "05:02",
          "05:03",
          "05:04",
          "05:05",
          "05:06",
          "05:07",
          "05:08",
          "05:09",
          "05:10",
          "05:11",
          "05:12",
          "05:13",
          "05:14",
          "05:15",
          "05:16",
          "05:17",
          "05:18",
          "05:19",
          "05:20",
          "05:21",
          "05:22",
          "05:23",
          "05:24",
          "05:25",
          "05:26",
          "05:27",
          "05:28",
          "05:29",
          "05:30",
          "05:31",
          "05:32",
          "05:33",
          "05:34",
          "05:35",
          "05:36",
          "05:37",
          "05:38",
          "05:39",
          "05:40",
          "05:41",
          "05:42",
          "05:43",
          "05:44",
          "05:45",
          "05:46",
          "05:47",
          "05:48",
          "05:49",
          "05:50",
          "05:51",
          "05:52",
          "05:53",
          "05:54",
          "05:55",
          "05:56",
          "05:57",
          "05:58",
          "05:59",
          "06:00",
          "06:01",
          "06:02",
          "06:03",
          "06:04",
          "06:05",
          "06:06",
          "06:07",
          "06:08",
          "06:09",
          "06:10",
          "06:11",
          "06:12",
          "06:13",
          "06:14",
          "06:15",
          "06:16",
          "06:17",
          "06:18",
          "06:19",
          "06:20",
          "06:21",
          "06:22",
          "06:23",
          "06:24",
          "06:25",
          "06:26",
          "06:27",
          "06:28",
          "06:29",
          "06:30",
          "06:31",
          "06:32",
          "06:33",
          "06:34",
          "06:35",
          "06:36",
          "06:37",
          "06:38",
          "06:39",
          "06:40",
          "06:41",
          "06:42",
          "06:43",
          "06:44",
          "06:45",
          "06:46",
          "06:47",
          "06:48",
          "06:49",
          "06:50",
          "06:51",
          "06:52",
          "06:53",
          "06:54",
          "06:55",
          "06:56",
          "06:57",
          "06:58",
          "06:59",
          "07:00",
          "07:01",
          "07:02",
          "07:03",
          "07:04",
          "07:05",
          "07:06",
          "07:07",
          "07:08",
          "07:09",
          "07:10",
          "07:11",
          "07:12",
          "07:13",
          "07:14",
          "07:15",
          "07:16",
          "07:17",
          "07:18",
          "07:19",
          "07:20",
          "07:21",
          "07:22",
          "07:23",
          "07:24",
          "07:25",
          "07:26",
          "07:27",
          "07:28",
          "07:29",
          "07:30",
          "07:31",
          "07:32",
          "07:33",
          "07:34",
          "07:35",
          "07:36",
          "07:37",
          "07:38",
          "07:39",
          "07:40",
          "07:41",
          "07:42",
          "07:43",
          "07:44",
          "07:45",
          "07:46",
          "07:47",
          "07:48",
          "07:49",
          "07:50",
          "07:51",
          "07:52",
          "07:53",
          "07:54",
          "07:55",
          "07:56",
          "07:57",
          "07:58",
          "07:59",
          "08:00",
          "08:01",
          "08:02",
          "08:03",
          "08:04",
          "08:05",
          "08:06",
          "08:07",
          "08:08",
          "08:09",
          "08:10",
          "08:11",
          "08:12",
          "08:13",
          "08:14",
          "08:15",
          "08:16",
          "08:17",
          "08:18",
          "08:19",
          "08:20",
          "08:21",
          "08:22",
          "08:23",
          "08:24",
          "08:25",
          "08:26",
          "08:27",
          "08:28",
          "08:29",
          "08:30",
          "08:31",
          "08:32",
          "08:33",
          "08:34",
          "08:35",
          "08:36",
          "08:37",
          "08:38",
          "08:39",
          "08:40",
          "08:41",
          "08:42",
          "08:43",
          "08:44",
          "08:45",
          "08:46",
          "08:47",
          "08:48",
          "08:49",
          "08:50",
          "08:51",
          "08:52",
          "08:53",
          "08:54",
          "08:55",
          "08:56",
          "08:57",
          "08:58",
          "08:59",
          "09:00",
          "09:01",
          "09:02",
          "09:03",
          "09:04",
          "09:05",
          "09:06",
          "09:07",
          "09:08",
          "09:09",
          "09:10",
          "09:11",
          "09:12",
          "09:13",
          "09:14",
          "09:15",
          "09:16",
          "09:17",
          "09:18",
          "09:19",
          "09:20",
          "09:21",
          "09:22",
          "09:23",
          "09:24",
          "09:25",
          "09:26",
          "09:27",
          "09:28",
          "09:29",
          "09:30",
          "09:31",
          "09:32",
          "09:33",
          "09:34",
          "09:35",
          "09:36",
          "09:37",
          "09:38",
          "09:39",
          "09:40",
          "09:41",
          "09:42",
          "09:43",
          "09:44",
          "09:45",
          "09:46",
          "09:47",
          "09:48",
          "09:49",
          "09:50",
          "09:51",
          "09:52",
          "09:53",
          "09:54",
          "09:55",
          "09:56",
          "09:57",
          "09:58",
          "09:59",
          "10:00",
          "10:01",
          "10:02",
          "10:03",
          "10:04",
          "10:05",
          "10:06",
          "10:07",
          "10:08",
          "10:09",
          "10:10",
          "10:11",
          "10:12",
          "10:13",
          "10:14",
          "10:15",
          "10:16",
          "10:17",
          "10:18",
          "10:19",
          "10:20",
          "10:21",
          "10:22",
          "10:23",
          "10:24",
          "10:25",
          "10:26",
          "10:27",
          "10:28",
          "10:29",
          "10:30",
          "10:31",
          "10:32",
          "10:33",
          "10:34",
          "10:35",
          "10:36",
          "10:37",
          "10:38",
          "10:39",
          "10:40",
          "10:41",
          "10:42",
          "10:43",
          "10:44",
          "10:45",
          "10:46",
          "10:47",
          "10:48",
          "10:49",
          "10:50",
          "10:51",
          "10:52",
          "10:53",
          "10:54",
          "10:55",
          "10:56",
          "10:57",
          "10:58",
          "10:59",
          "11:00",
          "11:01",
          "11:02",
          "11:03",
          "11:04",
          "11:05",
          "11:06",
          "11:07",
          "11:08",
          "11:09",
          "11:10",
          "11:11",
          "11:12",
          "11:13",
          "11:14",
          "11:15",
          "11:16",
          "11:17",
          "11:18",
          "11:19",
          "11:20",
          "11:21",
          "11:22",
          "11:23",
          "11:24",
          "11:25",
          "11:26",
          "11:27",
          "11:28",
          "11:29",
          "11:30",
          "11:31",
          "11:32",
          "11:33",
          "11:34",
          "11:35",
          "11:36",
          "11:37",
          "11:38",
          "11:39",
          "11:40",
          "11:41",
          "11:42",
          "11:43",
          "11:44",
          "11:45",
          "11:46",
          "11:47",
          "11:48",
          "11:49",
          "11:50",
          "11:51",
          "11:52",
          "11:53",
          "11:54",
          "11:55",
          "11:56",
          "11:57",
          "11:58",
          "11:59",
          "12:00",
          "12:01",
          "12:02",
          "12:03",
          "12:04",
          "12:05",
          "12:06",
          "12:07",
          "12:08",
          "12:09",
          "12:10",
          "12:11",
          "12:12",
          "12:13",
          "12:14",
          "12:15",
          "12:16",
          "12:17",
          "12:18",
          "12:19",
          "12:20",
          "12:21",
          "12:22",
          "12:23",
          "12:24",
          "12:25",
          "12:26",
          "12:27",
          "12:28",
          "12:29",
          "12:30",
          "12:31",
          "12:32",
          "12:33",
          "12:34",
          "12:35",
          "12:36",
          "12:37",
          "12:38",
          "12:39",
          "12:40",
          "12:41",
          "12:42",
          "12:43",
          "12:44",
          "12:45",
          "12:46",
          "12:47",
          "12:48",
          "12:49",
          "12:50",
          "12:51",
          "12:52",
          "12:53",
          "12:54",
          "12:55",
          "12:56",
          "12:57",
          "12:58",
          "12:59",
          "13:00",
          "13:01",
          "13:02",
          "13:03",
          "13:04",
          "13:05",
          "13:06",
          "13:07",
          "13:08",
          "13:09",
          "13:10",
          "13:11",
          "13:12",
          "13:13",
          "13:14",
          "13:15",
          "13:16",
          "13:17",
          "13:18",
          "13:19",
          "13:20",
          "13:21",
          "13:22",
          "13:23",
          "13:24",
          "13:25",
          "13:26",
          "13:27",
          "13:28",
          "13:29",
          "13:30",
          "13:31",
          "13:32",
          "13:33",
          "13:34",
          "13:35",
          "13:36",
          "13:37",
          "13:38",
          "13:39",
          "13:40",
          "13:41",
          "13:42",
          "13:43",
          "13:44",
          "13:45",
          "13:46",
          "13:47",
          "13:48",
          "13:49",
          "13:50",
          "13:51",
          "13:52",
          "13:53",
          "13:54",
          "13:55",
          "13:56",
          "13:57",
          "13:58",
          "13:59",
          "14:00",
          "14:01",
          "14:02",
          "14:03",
          "14:04",
          "14:05",
          "14:06",
          "14:07",
          "14:08",
          "14:09",
          "14:10",
          "14:11",
          "14:12",
          "14:13",
          "14:14",
          "14:15",
          "14:16",
          "14:17",
          "14:18",
          "14:19",
          "14:20",
          "14:21",
          "14:22",
          "14:23",
          "14:24",
          "14:25",
          "14:26",
          "14:27",
          "14:28",
          "14:29",
          "14:30",
          "14:31",
          "14:32",
          "14:33",
          "14:34",
          "14:35",
          "14:36",
          "14:37",
          "14:38",
          "14:39",
          "14:40",
          "14:41",
          "14:42",
          "14:43",
          "14:44",
          "14:45",
          "14:46",
          "14:47",
          "14:48",
          "14:49",
          "14:50",
          "14:51",
          "14:52",
          "14:53",
          "14:54",
          "14:55",
          "14:56",
          "14:57",
          "14:58",
          "14:59",
          "15:00",
          "15:01",
          "15:02",
          "15:03",
          "15:04",
          "15:05",
          "15:06",
          "15:07",
          "15:08",
          "15:09",
          "15:10",
          "15:11",
          "15:12",
          "15:13",
          "15:14",
          "15:15",
          "15:16",
          "15:17",
          "15:18",
          "15:19",
          "15:20",
          "15:21",
          "15:22",
          "15:23",
          "15:24",
          "15:25",
          "15:26",
          "15:27",
          "15:28",
          "15:29",
          "15:30",
          "15:31",
          "15:32",
          "15:33",
          "15:34",
          "15:35",
          "15:36",
          "15:37",
          "15:38",
          "15:39",
          "15:40",
          "15:41",
          "15:42",
          "15:43",
          "15:44",
          "15:45",
          "15:46",
          "15:47",
          "15:48",
          "15:49",
          "15:50",
          "15:51",
          "15:52",
          "15:53",
          "15:54",
          "15:55",
          "15:56",
          "15:57",
          "15:58",
          "15:59",
          "16:00",
          "16:01",
          "16:02",
          "16:03",
          "16:04",
          "16:05",
          "16:06",
          "16:07",
          "16:08",
          "16:09",
          "16:10",
          "16:11",
          "16:12",
          "16:13",
          "16:14",
          "16:15",
          "16:16",
          "16:17",
          "16:18",
          "16:19",
          "16:20",
          "16:21",
          "16:22",
          "16:23",
          "16:24",
          "16:25",
          "16:26",
          "16:27",
          "16:28",
          "16:29",
          "16:30",
          "16:31",
          "16:32",
          "16:33",
          "16:34",
          "16:35",
          "16:36",
          "16:37",
          "16:38",
          "16:39",
          "16:40",
          "16:41",
          "16:42",
          "16:43",
          "16:44",
          "16:45",
          "16:46",
          "16:47",
          "16:48",
          "16:49",
          "16:50",
          "16:51",
          "16:52",
          "16:53",
          "16:54",
          "16:55",
          "16:56",
          "16:57",
          "16:58",
          "16:59",
          "17:00",
          "17:01",
          "17:02",
          "17:03",
          "17:04",
          "17:05",
          "17:06",
          "17:07",
          "17:08",
          "17:09",
          "17:10",
          "17:11",
          "17:12",
          "17:13",
          "17:14",
          "17:15",
          "17:16",
          "17:17",
          "17:18",
          "17:19",
          "17:20",
          "17:21",
          "17:22",
          "17:23",
          "17:24",
          "17:25",
          "17:26",
          "17:27",
          "17:28",
          "17:29",
          "17:30",
          "17:31",
          "17:32",
          "17:33",
          "17:34",
          "17:35",
          "17:36",
          "17:37",
          "17:38",
          "17:39",
          "17:40",
          "17:41",
          "17:42",
          "17:43",
          "17:44",
          "17:45",
          "17:46",
          "17:47",
          "17:48",
          "17:49",
          "17:50",
          "17:51",
          "17:52",
          "17:53",
          "17:54",
          "17:55",
          "17:56",
          "17:57",
          "17:58",
          "17:59",
          "18:00",
          "18:01",
          "18:02",
          "18:03",
          "18:04",
          "18:05",
          "18:06",
          "18:07",
          "18:08",
          "18:09",
          "18:10",
          "18:11",
          "18:12",
          "18:13",
          "18:14",
          "18:15",
          "18:16",
          "18:17",
          "18:18",
          "18:19",
          "18:20",
          "18:21",
          "18:22",
          "18:23",
          "18:24",
          "18:25",
          "18:26",
          "18:27",
          "18:28",
          "18:29",
          "18:30",
          "18:31",
          "18:32",
          "18:33",
          "18:34",
          "18:35",
          "18:36",
          "18:37",
          "18:38",
          "18:39",
          "18:40",
          "18:41",
          "18:42",
          "18:43",
          "18:44",
          "18:45",
          "18:46",
          "18:47",
          "18:48",
          "18:49",
          "18:50",
          "18:51",
          "18:52",
          "18:53",
          "18:54",
          "18:55",
          "18:56",
          "18:57",
          "18:58",
          "18:59",
          "19:00",
          "19:01",
          "19:02",
          "19:03",
          "19:04",
          "19:05",
          "19:06",
          "19:07",
          "19:08",
          "19:09",
          "19:10",
          "19:11",
          "19:12",
          "19:13",
          "19:14",
          "19:15",
          "19:16",
          "19:17",
          "19:18",
          "19:19",
          "19:20",
          "19:21",
          "19:22",
          "19:23",
          "19:24",
          "19:25",
          "19:26",
          "19:27",
          "19:28",
          "19:29",
          "19:30",
          "19:31",
          "19:32",
          "19:33",
          "19:34",
          "19:35",
          "19:36",
          "19:37",
          "19:38",
          "19:39",
          "19:40",
          "19:41",
          "19:42",
          "19:43",
          "19:44",
          "19:45",
          "19:46",
          "19:47",
          "19:48",
          "19:49",
          "19:50",
          "19:51",
          "19:52",
          "19:53",
          "19:54",
          "19:55",
          "19:56",
          "19:57",
          "19:58",
          "19:59",
          "20:00",
          "20:01",
          "20:02",
          "20:03",
          "20:04",
          "20:05",
          "20:06",
          "20:07",
          "20:08",
          "20:09",
          "20:10",
          "20:11",
          "20:12",
          "20:13",
          "20:14",
          "20:15",
          "20:16",
          "20:17",
          "20:18",
          "20:19",
          "20:20",
          "20:21",
          "20:22",
          "20:23",
          "20:24",
          "20:25",
          "20:26",
          "20:27",
          "20:28",
          "20:29",
          "20:30",
          "20:31",
          "20:32",
          "20:33",
          "20:34",
          "20:35",
          "20:36",
          "20:37",
          "20:38",
          "20:39",
          "20:40",
          "20:41",
          "20:42",
          "20:43",
          "20:44",
          "20:45",
          "20:46",
          "20:47",
          "20:48",
          "20:49",
          "20:50",
          "20:51",
          "20:52",
          "20:53",
          "20:54",
          "20:55",
          "20:56",
          "20:57",
          "20:58",
          "20:59",
          "21:00",
          "21:01",
          "21:02",
          "21:03",
          "21:04",
          "21:05",
          "21:06",
          "21:07",
          "21:08",
          "21:09",
          "21:10",
          "21:11",
          "21:12",
          "21:13",
          "21:14",
          "21:15",
          "21:16",
          "21:17",
          "21:18",
          "21:19",
          "21:20",
          "21:21",
          "21:22",
          "21:23",
          "21:24",
          "21:25",
          "21:26",
          "21:27",
          "21:28",
          "21:29",
          "21:30",
          "21:31",
          "21:32",
          "21:33",
          "21:34",
          "21:35",
          "21:36",
          "21:37",
          "21:38",
          "21:39",
          "21:40",
          "21:41",
          "21:42",
          "21:43",
          "21:44",
          "21:45",
          "21:46",
          "21:47",
          "21:48",
          "21:49",
          "21:50",
          "21:51",
          "21:52",
          "21:53",
          "21:54",
          "21:55",
          "21:56",
          "21:57",
          "21:58",
          "21:59",
          "22:00",
          "22:01",
          "22:02",
          "22:03",
          "22:04",
          "22:05",
          "22:06",
          "22:07",
          "22:08",
          "22:09",
          "22:10",
          "22:11",
          "22:12",
          "22:13",
          "22:14",
          "22:15",
          "22:16",
          "22:17",
          "22:18",
          "22:19",
          "22:20",
          "22:21",
          "22:22",
          "22:23",
          "22:24",
          "22:25",
          "22:26",
          "22:27",
          "22:28",
          "22:29",
          "22:30",
          "22:31",
          "22:32",
          "22:33",
          "22:34",
          "22:35",
          "22:36",
          "22:37",
          "22:38",
          "22:39",
          "22:40",
          "22:41",
          "22:42",
          "22:43",
          "22:44",
          "22:45",
          "22:46",
          "22:47",
          "22:48",
          "22:49",
          "22:50",
          "22:51",
          "22:52",
          "22:53",
          "22:54",
          "22:55",
          "22:56",
          "22:57",
          "22:58",
          "22:59",
          "23:00",
          "23:01",
          "23:02",
          "23:03",
          "23:04",
          "23:05",
          "23:06",
          "23:07",
          "23:08",
          "23:09",
          "23:10",
          "23:11",
          "23:12",
          "23:13",
          "23:14",
          "23:15",
          "23:16",
          "23:17",
          "23:18",
          "23:19",
          "23:20",
          "23:21",
          "23:22",
          "23:23",
          "23:24",
          "23:25",
          "23:26",
          "23:27",
          "23:28",
          "23:29",
          "23:30",
          "23:31",
          "23:32",
          "23:33",
          "23:34",
          "23:35",
          "23:36",
          "23:37",
          "23:38",
          "23:39",
          "23:40",
          "23:41",
          "23:42",
          "23:43",
          "23:44",
          "23:45",
          "23:46",
          "23:47",
          "23:48",
          "23:49",
          "23:50",
          "23:51",
          "23:52",
          "23:53",
          "23:54",
          "23:55",
          "23:56",
          "23:57",
          "23:58",
          "23:59"
         ],
         "xaxis": "x",
         "y": [
          552,
          580,
          533,
          582,
          571,
          556,
          572,
          598,
          573,
          564,
          518,
          539,
          556,
          526,
          564,
          549,
          559,
          571,
          561,
          609,
          578,
          554,
          581,
          581,
          536,
          528,
          619,
          537,
          529,
          553,
          576,
          508,
          557,
          571,
          556,
          558,
          540,
          544,
          573,
          542,
          587,
          556,
          533,
          552,
          555,
          571,
          540,
          535,
          584,
          543,
          527,
          554,
          568,
          553,
          567,
          574,
          579,
          553,
          573,
          518,
          527,
          534,
          595,
          561,
          561,
          564,
          569,
          512,
          541,
          561,
          543,
          575,
          570,
          537,
          577,
          552,
          563,
          535,
          595,
          566,
          541,
          558,
          536,
          570,
          584,
          545,
          565,
          543,
          536,
          587,
          555,
          574,
          558,
          564,
          559,
          555,
          538,
          553,
          533,
          537,
          578,
          557,
          567,
          584,
          565,
          563,
          512,
          533,
          544,
          562,
          561,
          536,
          565,
          532,
          556,
          536,
          562,
          528,
          521,
          556,
          588,
          560,
          553,
          575,
          541,
          603,
          555,
          545,
          600,
          546,
          550,
          541,
          568,
          597,
          555,
          526,
          541,
          575,
          530,
          534,
          569,
          563,
          537,
          588,
          603,
          545,
          569,
          557,
          571,
          586,
          571,
          594,
          558,
          526,
          556,
          545,
          574,
          557,
          530,
          531,
          554,
          569,
          545,
          575,
          551,
          531,
          569,
          576,
          578,
          541,
          567,
          531,
          559,
          524,
          579,
          559,
          536,
          502,
          586,
          561,
          517,
          534,
          511,
          564,
          529,
          532,
          570,
          543,
          557,
          551,
          548,
          548,
          505,
          548,
          517,
          531,
          516,
          566,
          506,
          509,
          549,
          532,
          549,
          518,
          539,
          504,
          545,
          564,
          547,
          516,
          555,
          549,
          539,
          556,
          511,
          493,
          520,
          545,
          557,
          519,
          536,
          536,
          534,
          518,
          541,
          549,
          576,
          518,
          544,
          527,
          514,
          532,
          502,
          523,
          519,
          541,
          521,
          529,
          537,
          556,
          502,
          537,
          541,
          516,
          494,
          495,
          514,
          523,
          515,
          474,
          508,
          529,
          503,
          529,
          513,
          477,
          504,
          485,
          539,
          506,
          555,
          508,
          553,
          531,
          528,
          520,
          526,
          529,
          462,
          528,
          520,
          496,
          531,
          487,
          512,
          542,
          600,
          550,
          536,
          494,
          560,
          546,
          494,
          531,
          502,
          503,
          520,
          510,
          507,
          561,
          498,
          515,
          506,
          512,
          514,
          493,
          491,
          513,
          534,
          513,
          542,
          508,
          480,
          484,
          494,
          530,
          575,
          450,
          516,
          528,
          545,
          496,
          536,
          520,
          493,
          504,
          511,
          495,
          499,
          506,
          475,
          539,
          475,
          527,
          472,
          510,
          501,
          527,
          505,
          498,
          498,
          462,
          506,
          487,
          510,
          520,
          503,
          490,
          476,
          510,
          498,
          498,
          482,
          469,
          475,
          493,
          520,
          512,
          487,
          466,
          521,
          509,
          486,
          499,
          525,
          448,
          542,
          517,
          512,
          495,
          489,
          521,
          483,
          480,
          509,
          530,
          467,
          488,
          491,
          482,
          490,
          519,
          498,
          499,
          508,
          509,
          486,
          499,
          505,
          502,
          464,
          502,
          512,
          479,
          511,
          496,
          491,
          496,
          526,
          485,
          496,
          510,
          491,
          481,
          508,
          498,
          512,
          485,
          461,
          529,
          540,
          541,
          505,
          552,
          521,
          541,
          555,
          500,
          477,
          560,
          519,
          527,
          553,
          486,
          511,
          514,
          525,
          514,
          561,
          531,
          506,
          530,
          462,
          508,
          521,
          541,
          506,
          495,
          493,
          505,
          542,
          514,
          544,
          514,
          541,
          535,
          488,
          546,
          516,
          544,
          515,
          501,
          486,
          562,
          516,
          534,
          544,
          533,
          538,
          516,
          527,
          568,
          544,
          531,
          585,
          559,
          516,
          489,
          563,
          530,
          558,
          547,
          552,
          511,
          576,
          506,
          534,
          557,
          573,
          535,
          530,
          560,
          557,
          529,
          578,
          574,
          600,
          515,
          616,
          528,
          553,
          531,
          573,
          531,
          567,
          541,
          546,
          578,
          560,
          604,
          545,
          594,
          553,
          566,
          564,
          558,
          563,
          541,
          565,
          590,
          593,
          582,
          611,
          607,
          572,
          577,
          584,
          588,
          608,
          583,
          594,
          591,
          559,
          570,
          590,
          592,
          563,
          584,
          621,
          574,
          613,
          608,
          601,
          632,
          619,
          632,
          595,
          577,
          554,
          574,
          566,
          630,
          612,
          629,
          564,
          608,
          642,
          593,
          608,
          632,
          644,
          641,
          628,
          606,
          635,
          615,
          607,
          587,
          606,
          598,
          593,
          593,
          615,
          680,
          663,
          618,
          649,
          634,
          665,
          627,
          603,
          616,
          631,
          628,
          683,
          595,
          612,
          658,
          650,
          633,
          590,
          567,
          631,
          625,
          632,
          621,
          638,
          621,
          687,
          645,
          627,
          641,
          649,
          614,
          668,
          646,
          601,
          633,
          676,
          646,
          664,
          616,
          690,
          626,
          688,
          675,
          667,
          638,
          679,
          605,
          640,
          674,
          635,
          625,
          645,
          662,
          679,
          661,
          648,
          677,
          682,
          619,
          670,
          632,
          672,
          688,
          674,
          707,
          662,
          682,
          673,
          713,
          680,
          646,
          670,
          685,
          684,
          651,
          729,
          660,
          682,
          717,
          694,
          676,
          687,
          714,
          767,
          676,
          719,
          650,
          713,
          697,
          691,
          720,
          737,
          717,
          676,
          676,
          715,
          642,
          678,
          663,
          734,
          695,
          657,
          691,
          739,
          666,
          697,
          674,
          665,
          709,
          740,
          680,
          714,
          692,
          732,
          706,
          671,
          721,
          761,
          714,
          694,
          652,
          644,
          732,
          714,
          678,
          695,
          685,
          713,
          727,
          690,
          666,
          725,
          734,
          755,
          732,
          750,
          707,
          693,
          665,
          742,
          740,
          716,
          733,
          720,
          734,
          752,
          687,
          698,
          690,
          752,
          712,
          717,
          702,
          706,
          731,
          738,
          726,
          710,
          766,
          759,
          729,
          718,
          752,
          729,
          725,
          738,
          715,
          767,
          723,
          770,
          771,
          745,
          757,
          744,
          743,
          747,
          732,
          764,
          747,
          753,
          723,
          751,
          709,
          764,
          752,
          808,
          695,
          749,
          701,
          761,
          718,
          771,
          737,
          761,
          768,
          782,
          722,
          775,
          720,
          851,
          734,
          757,
          817,
          771,
          816,
          771,
          803,
          742,
          733,
          782,
          750,
          757,
          767,
          742,
          733,
          772,
          767,
          833,
          792,
          787,
          795,
          804,
          816,
          791,
          787,
          809,
          796,
          775,
          814,
          853,
          787,
          810,
          787,
          778,
          782,
          798,
          826,
          823,
          772,
          743,
          777,
          738,
          768,
          794,
          785,
          852,
          790,
          817,
          825,
          844,
          786,
          842,
          816,
          872,
          810,
          808,
          842,
          803,
          827,
          811,
          847,
          811,
          814,
          851,
          783,
          893,
          832,
          859,
          838,
          833,
          838,
          830,
          916,
          791,
          777,
          856,
          881,
          833,
          873,
          856,
          822,
          851,
          869,
          883,
          892,
          845,
          847,
          894,
          843,
          812,
          887,
          825,
          866,
          863,
          865,
          897,
          872,
          911,
          885,
          857,
          816,
          841,
          841,
          856,
          872,
          843,
          879,
          857,
          864,
          892,
          893,
          883,
          829,
          896,
          865,
          937,
          859,
          850,
          910,
          948,
          895,
          897,
          867,
          898,
          884,
          916,
          837,
          907,
          868,
          918,
          851,
          861,
          945,
          861,
          860,
          920,
          913,
          919,
          902,
          925,
          879,
          906,
          929,
          870,
          923,
          898,
          906,
          937,
          901,
          920,
          880,
          923,
          887,
          902,
          898,
          919,
          841,
          911,
          857,
          881,
          883,
          920,
          881,
          905,
          874,
          940,
          827,
          884,
          861,
          920,
          965,
          921,
          899,
          917,
          886,
          939,
          883,
          872,
          941,
          929,
          858,
          937,
          924,
          949,
          868,
          872,
          898,
          885,
          906,
          902,
          920,
          859,
          873,
          830,
          865,
          879,
          899,
          843,
          865,
          900,
          856,
          930,
          870,
          896,
          931,
          920,
          893,
          880,
          854,
          915,
          892,
          860,
          888,
          897,
          868,
          881,
          906,
          844,
          854,
          887,
          863,
          844,
          891,
          846,
          898,
          862,
          918,
          933,
          892,
          875,
          857,
          888,
          852,
          884,
          895,
          908,
          951,
          903,
          901,
          861,
          844,
          849,
          885,
          863,
          873,
          871,
          939,
          831,
          834,
          859,
          916,
          850,
          849,
          877,
          892,
          883,
          932,
          883,
          862,
          874,
          895,
          929,
          910,
          822,
          850,
          955,
          878,
          871,
          832,
          836,
          847,
          837,
          868,
          909,
          839,
          857,
          884,
          887,
          807,
          877,
          889,
          838,
          869,
          832,
          882,
          912,
          905,
          901,
          940,
          845,
          873,
          835,
          914,
          872,
          944,
          886,
          846,
          893,
          930,
          837,
          855,
          827,
          825,
          906,
          895,
          803,
          893,
          840,
          840,
          891,
          842,
          824,
          881,
          844,
          873,
          891,
          856,
          862,
          885,
          849,
          878,
          809,
          877,
          847,
          848,
          839,
          895,
          838,
          858,
          918,
          862,
          894,
          858,
          836,
          838,
          933,
          849,
          891,
          856,
          900,
          933,
          873,
          889,
          894,
          888,
          924,
          987,
          908,
          937,
          912,
          924,
          922,
          900,
          918,
          924,
          951,
          923,
          914,
          932,
          898,
          894,
          952,
          933,
          998,
          966,
          965,
          893,
          942,
          940,
          961,
          969,
          851,
          928,
          908,
          902,
          913,
          915,
          841,
          928,
          996,
          911,
          920,
          918,
          923,
          932,
          956,
          920,
          892,
          855,
          962,
          885,
          924,
          853,
          880,
          932,
          902,
          893,
          945,
          888,
          895,
          884,
          890,
          920,
          873,
          938,
          933,
          873,
          870,
          921,
          920,
          909,
          895,
          876,
          903,
          930,
          937,
          859,
          888,
          859,
          868,
          879,
          901,
          929,
          849,
          935,
          916,
          898,
          916,
          894,
          864,
          828,
          841,
          869,
          876,
          874,
          870,
          912,
          835,
          892,
          857,
          824,
          860,
          881,
          902,
          889,
          918,
          857,
          812,
          927,
          873,
          821,
          894,
          846,
          879,
          864,
          874,
          785,
          891,
          861,
          835,
          894,
          894,
          834,
          813,
          839,
          841,
          905,
          875,
          847,
          901,
          840,
          877,
          826,
          860,
          833,
          893,
          814,
          862,
          805,
          824,
          807,
          861,
          864,
          781,
          798,
          826,
          808,
          875,
          810,
          815,
          827,
          866,
          798,
          801,
          844,
          849,
          846,
          816,
          796,
          837,
          824,
          779,
          810,
          833,
          864,
          819,
          818,
          832,
          794,
          797,
          818,
          811,
          831,
          857,
          799,
          800,
          823,
          818,
          842,
          766,
          736,
          836,
          770,
          766,
          800,
          765,
          785,
          766,
          776,
          804,
          756,
          786,
          737,
          766,
          744,
          790,
          707,
          698,
          764,
          783,
          783,
          741,
          751,
          711,
          725,
          748,
          762,
          756,
          749,
          770,
          742,
          740,
          734,
          722,
          727,
          726,
          736,
          741,
          703,
          689,
          747,
          656,
          707,
          724,
          686,
          731,
          701,
          731,
          695,
          732,
          747,
          685,
          698,
          720,
          717,
          699,
          704,
          705,
          715,
          714,
          716,
          670,
          711,
          659,
          682,
          690,
          750,
          697,
          689,
          701,
          671,
          719,
          701,
          717,
          660,
          705,
          679,
          665,
          711,
          631,
          639,
          665,
          631,
          659,
          634,
          663,
          649,
          616,
          702,
          643,
          633,
          630,
          680,
          630,
          683,
          688,
          642,
          668,
          622,
          661,
          628,
          652,
          603,
          691,
          621,
          609,
          631,
          608,
          593,
          633,
          645,
          647,
          606,
          616,
          637,
          586,
          601,
          600,
          590,
          596,
          626,
          568,
          558,
          579,
          617,
          610,
          624,
          578,
          632,
          619,
          599,
          610,
          631,
          609,
          630,
          590,
          562,
          595,
          621,
          620,
          617,
          596,
          561,
          571,
          580,
          607,
          576,
          549,
          627,
          582,
          606,
          626,
          547,
          583,
          590,
          585,
          575,
          570,
          603,
          551,
          589,
          572,
          580,
          547,
          577,
          580,
          543
         ],
         "yaxis": "y",
         "type": "scattergl"
        }
       ],
       "layout": {
        "template": {
         "data": {
          "histogram2dcontour": [
           {
            "type": "histogram2dcontour",
            "colorbar": {
             "outlinewidth": 0,
             "ticks": ""
            },
            "colorscale": [
             [
              0.0,
              "#0d0887"
             ],
             [
              0.1111111111111111,
              "#46039f"
             ],
             [
              0.2222222222222222,
              "#7201a8"
             ],
             [
              0.3333333333333333,
              "#9c179e"
             ],
             [
              0.4444444444444444,
              "#bd3786"
             ],
             [
              0.5555555555555556,
              "#d8576b"
             ],
             [
              0.6666666666666666,
              "#ed7953"
             ],
             [
              0.7777777777777778,
              "#fb9f3a"
             ],
             [
              0.8888888888888888,
              "#fdca26"
             ],
             [
              1.0,
              "#f0f921"
             ]
            ]
           }
          ],
          "choropleth": [
           {
            "type": "choropleth",
            "colorbar": {
             "outlinewidth": 0,
             "ticks": ""
            }
           }
          ],
          "histogram2d": [
           {
            "type": "histogram2d",
            "colorbar": {
             "outlinewidth": 0,
             "ticks": ""
            },
            "colorscale": [
             [
              0.0,
              "#0d0887"
             ],
             [
              0.1111111111111111,
              "#46039f"
             ],
             [
              0.2222222222222222,
              "#7201a8"
             ],
             [
              0.3333333333333333,
              "#9c179e"
             ],
             [
              0.4444444444444444,
              "#bd3786"
             ],
             [
              0.5555555555555556,
              "#d8576b"
             ],
             [
              0.6666666666666666,
              "#ed7953"
             ],
             [
              0.7777777777777778,
              "#fb9f3a"
             ],
             [
              0.8888888888888888,
              "#fdca26"
             ],
             [
              1.0,
              "#f0f921"
             ]
            ]
           }
          ],
          "heatmap": [
           {
            "type": "heatmap",
            "colorbar": {
             "outlinewidth": 0,
             "ticks": ""
            },
            "colorscale": [
             [
              0.0,
              "#0d0887"
             ],
             [
              0.1111111111111111,
              "#46039f"
             ],
             [
              0.2222222222222222,
              "#7201a8"
             ],
             [
              0.3333333333333333,
              "#9c179e"
             ],
             [
              0.4444444444444444,
              "#bd3786"
             ],
             [
              0.5555555555555556,
              "#d8576b"
             ],
             [
              0.6666666666666666,
              "#ed7953"
             ],
             [
              0.7777777777777778,
              "#fb9f3a"
             ],
             [
              0.8888888888888888,
              "#fdca26"
             ],
             [
              1.0,
              "#f0f921"
             ]
            ]
           }
          ],
          "heatmapgl": [
           {
            "type": "heatmapgl",
            "colorbar": {
             "outlinewidth": 0,
             "ticks": ""
            },
            "colorscale": [
             [
              0.0,
              "#0d0887"
             ],
             [
              0.1111111111111111,
              "#46039f"
             ],
             [
              0.2222222222222222,
              "#7201a8"
             ],
             [
              0.3333333333333333,
              "#9c179e"
             ],
             [
              0.4444444444444444,
              "#bd3786"
             ],
             [
              0.5555555555555556,
              "#d8576b"
             ],
             [
              0.6666666666666666,
              "#ed7953"
             ],
             [
              0.7777777777777778,
              "#fb9f3a"
             ],
             [
              0.8888888888888888,
              "#fdca26"
             ],
             [
              1.0,
              "#f0f921"
             ]
            ]
           }
          ],
          "contourcarpet": [
           {
            "type": "contourcarpet",
            "colorbar": {
             "outlinewidth": 0,
             "ticks": ""
            }
           }
          ],
          "contour": [
           {
            "type": "contour",
            "colorbar": {
             "outlinewidth": 0,
             "ticks": ""
            },
            "colorscale": [
             [
              0.0,
              "#0d0887"
             ],
             [
              0.1111111111111111,
              "#46039f"
             ],
             [
              0.2222222222222222,
              "#7201a8"
             ],
             [
              0.3333333333333333,
              "#9c179e"
             ],
             [
              0.4444444444444444,
              "#bd3786"
             ],
             [
              0.5555555555555556,
              "#d8576b"
             ],
             [
              0.6666666666666666,
              "#ed7953"
             ],
             [
              0.7777777777777778,
              "#fb9f3a"
             ],
             [
              0.8888888888888888,
              "#fdca26"
             ],
             [
              1.0,
              "#f0f921"
             ]
            ]
           }
          ],
          "surface": [
           {
            "type": "surface",
            "colorbar": {
             "outlinewidth": 0,
             "ticks": ""
            },
            "colorscale": [
             [
              0.0,
              "#0d0887"
             ],
             [
              0.1111111111111111,
              "#46039f"
             ],
             [
              0.2222222222222222,
              "#7201a8"
             ],
             [
              0.3333333333333333,
              "#9c179e"
             ],
             [
              0.4444444444444444,
              "#bd3786"
             ],
             [
              0.5555555555555556,
              "#d8576b"
             ],
             [
              0.6666666666666666,
              "#ed7953"
             ],
             [
              0.7777777777777778,
              "#fb9f3a"
             ],
             [
              0.8888888888888888,
              "#fdca26"
             ],
             [
              1.0,
              "#f0f921"
             ]
            ]
           }
          ],
          "mesh3d": [
           {
            "type": "mesh3d",
            "colorbar": {
             "outlinewidth": 0,
             "ticks": ""
            }
           }
          ],
          "scatter": [
           {
            "fillpattern": {
             "fillmode": "overlay",
             "size": 10,
             "solidity": 0.2
            },
            "type": "scatter"
           }
          ],
          "parcoords": [
           {
            "type": "parcoords",
            "line": {
             "colorbar": {
              "outlinewidth": 0,
              "ticks": ""
             }
            }
           }
          ],
          "scatterpolargl": [
           {
            "type": "scatterpolargl",
            "marker": {
             "colorbar": {
              "outlinewidth": 0,
              "ticks": ""
             }
            }
           }
          ],
          "bar": [
           {
            "error_x": {
             "color": "#2a3f5f"
            },
            "error_y": {
             "color": "#2a3f5f"
            },
            "marker": {
             "line": {
              "color": "#E5ECF6",
              "width": 0.5
             },
             "pattern": {
              "fillmode": "overlay",
              "size": 10,
              "solidity": 0.2
             }
            },
            "type": "bar"
           }
          ],
          "scattergeo": [
           {
            "type": "scattergeo",
            "marker": {
             "colorbar": {
              "outlinewidth": 0,
              "ticks": ""
             }
            }
           }
          ],
          "scatterpolar": [
           {
            "type": "scatterpolar",
            "marker": {
             "colorbar": {
              "outlinewidth": 0,
              "ticks": ""
             }
            }
           }
          ],
          "histogram": [
           {
            "marker": {
             "pattern": {
              "fillmode": "overlay",
              "size": 10,
              "solidity": 0.2
             }
            },
            "type": "histogram"
           }
          ],
          "scattergl": [
           {
            "type": "scattergl",
            "marker": {
             "colorbar": {
              "outlinewidth": 0,
              "ticks": ""
             }
            }
           }
          ],
          "scatter3d": [
           {
            "type": "scatter3d",
            "line": {
             "colorbar": {
              "outlinewidth": 0,
              "ticks": ""
             }
            },
            "marker": {
             "colorbar": {
              "outlinewidth": 0,
              "ticks": ""
             }
            }
           }
          ],
          "scattermapbox": [
           {
            "type": "scattermapbox",
            "marker": {
             "colorbar": {
              "outlinewidth": 0,
              "ticks": ""
             }
            }
           }
          ],
          "scatterternary": [
           {
            "type": "scatterternary",
            "marker": {
             "colorbar": {
              "outlinewidth": 0,
              "ticks": ""
             }
            }
           }
          ],
          "scattercarpet": [
           {
            "type": "scattercarpet",
            "marker": {
             "colorbar": {
              "outlinewidth": 0,
              "ticks": ""
             }
            }
           }
          ],
          "carpet": [
           {
            "aaxis": {
             "endlinecolor": "#2a3f5f",
             "gridcolor": "white",
             "linecolor": "white",
             "minorgridcolor": "white",
             "startlinecolor": "#2a3f5f"
            },
            "baxis": {
             "endlinecolor": "#2a3f5f",
             "gridcolor": "white",
             "linecolor": "white",
             "minorgridcolor": "white",
             "startlinecolor": "#2a3f5f"
            },
            "type": "carpet"
           }
          ],
          "table": [
           {
            "cells": {
             "fill": {
              "color": "#EBF0F8"
             },
             "line": {
              "color": "white"
             }
            },
            "header": {
             "fill": {
              "color": "#C8D4E3"
             },
             "line": {
              "color": "white"
             }
            },
            "type": "table"
           }
          ],
          "barpolar": [
           {
            "marker": {
             "line": {
              "color": "#E5ECF6",
              "width": 0.5
             },
             "pattern": {
              "fillmode": "overlay",
              "size": 10,
              "solidity": 0.2
             }
            },
            "type": "barpolar"
           }
          ],
          "pie": [
           {
            "automargin": true,
            "type": "pie"
           }
          ]
         },
         "layout": {
          "autotypenumbers": "strict",
          "colorway": [
           "#636efa",
           "#EF553B",
           "#00cc96",
           "#ab63fa",
           "#FFA15A",
           "#19d3f3",
           "#FF6692",
           "#B6E880",
           "#FF97FF",
           "#FECB52"
          ],
          "font": {
           "color": "#2a3f5f"
          },
          "hovermode": "closest",
          "hoverlabel": {
           "align": "left"
          },
          "paper_bgcolor": "white",
          "plot_bgcolor": "#E5ECF6",
          "polar": {
           "bgcolor": "#E5ECF6",
           "angularaxis": {
            "gridcolor": "white",
            "linecolor": "white",
            "ticks": ""
           },
           "radialaxis": {
            "gridcolor": "white",
            "linecolor": "white",
            "ticks": ""
           }
          },
          "ternary": {
           "bgcolor": "#E5ECF6",
           "aaxis": {
            "gridcolor": "white",
            "linecolor": "white",
            "ticks": ""
           },
           "baxis": {
            "gridcolor": "white",
            "linecolor": "white",
            "ticks": ""
           },
           "caxis": {
            "gridcolor": "white",
            "linecolor": "white",
            "ticks": ""
           }
          },
          "coloraxis": {
           "colorbar": {
            "outlinewidth": 0,
            "ticks": ""
           }
          },
          "colorscale": {
           "sequential": [
            [
             0.0,
             "#0d0887"
            ],
            [
             0.1111111111111111,
             "#46039f"
            ],
            [
             0.2222222222222222,
             "#7201a8"
            ],
            [
             0.3333333333333333,
             "#9c179e"
            ],
            [
             0.4444444444444444,
             "#bd3786"
            ],
            [
             0.5555555555555556,
             "#d8576b"
            ],
            [
             0.6666666666666666,
             "#ed7953"
            ],
            [
             0.7777777777777778,
             "#fb9f3a"
            ],
            [
             0.8888888888888888,
             "#fdca26"
            ],
            [
             1.0,
             "#f0f921"
            ]
           ],
           "sequentialminus": [
            [
             0.0,
             "#0d0887"
            ],
            [
             0.1111111111111111,
             "#46039f"
            ],
            [
             0.2222222222222222,
             "#7201a8"
            ],
            [
             0.3333333333333333,
             "#9c179e"
            ],
            [
             0.4444444444444444,
             "#bd3786"
            ],
            [
             0.5555555555555556,
             "#d8576b"
            ],
            [
             0.6666666666666666,
             "#ed7953"
            ],
            [
             0.7777777777777778,
             "#fb9f3a"
            ],
            [
             0.8888888888888888,
             "#fdca26"
            ],
            [
             1.0,
             "#f0f921"
            ]
           ],
           "diverging": [
            [
             0,
             "#8e0152"
            ],
            [
             0.1,
             "#c51b7d"
            ],
            [
             0.2,
             "#de77ae"
            ],
            [
             0.3,
             "#f1b6da"
            ],
            [
             0.4,
             "#fde0ef"
            ],
            [
             0.5,
             "#f7f7f7"
            ],
            [
             0.6,
             "#e6f5d0"
            ],
            [
             0.7,
             "#b8e186"
            ],
            [
             0.8,
             "#7fbc41"
            ],
            [
             0.9,
             "#4d9221"
            ],
            [
             1,
             "#276419"
            ]
           ]
          },
          "xaxis": {
           "gridcolor": "white",
           "linecolor": "white",
           "ticks": "",
           "title": {
            "standoff": 15
           },
           "zerolinecolor": "white",
           "automargin": true,
           "zerolinewidth": 2
          },
          "yaxis": {
           "gridcolor": "white",
           "linecolor": "white",
           "ticks": "",
           "title": {
            "standoff": 15
           },
           "zerolinecolor": "white",
           "automargin": true,
           "zerolinewidth": 2
          },
          "scene": {
           "xaxis": {
            "backgroundcolor": "#E5ECF6",
            "gridcolor": "white",
            "linecolor": "white",
            "showbackground": true,
            "ticks": "",
            "zerolinecolor": "white",
            "gridwidth": 2
           },
           "yaxis": {
            "backgroundcolor": "#E5ECF6",
            "gridcolor": "white",
            "linecolor": "white",
            "showbackground": true,
            "ticks": "",
            "zerolinecolor": "white",
            "gridwidth": 2
           },
           "zaxis": {
            "backgroundcolor": "#E5ECF6",
            "gridcolor": "white",
            "linecolor": "white",
            "showbackground": true,
            "ticks": "",
            "zerolinecolor": "white",
            "gridwidth": 2
           }
          },
          "shapedefaults": {
           "line": {
            "color": "#2a3f5f"
           }
          },
          "annotationdefaults": {
           "arrowcolor": "#2a3f5f",
           "arrowhead": 0,
           "arrowwidth": 1
          },
          "geo": {
           "bgcolor": "white",
           "landcolor": "#E5ECF6",
           "subunitcolor": "white",
           "showland": true,
           "showlakes": true,
           "lakecolor": "white"
          },
          "title": {
           "x": 0.05
          },
          "mapbox": {
           "style": "light"
          }
         }
        },
        "xaxis": {
         "anchor": "y",
         "domain": [
          0.0,
          1.0
         ],
         "title": {
          "text": "Time (Hour:Minute)"
         },
         "tickangle": 45
        },
        "yaxis": {
         "anchor": "x",
         "domain": [
          0.0,
          1.0
         ],
         "title": {
          "text": "Review Count"
         }
        },
        "legend": {
         "tracegroupgap": 0
        },
        "title": {
         "text": "Review Counts by Time of Day"
        }
       },
       "config": {
        "plotlyServerURL": "https://plot.ly"
       }
      },
      "text/html": [
       "<div>                            <div id=\"a5a762bf-3c55-41de-b619-f4d3136c5aba\" class=\"plotly-graph-div\" style=\"height:525px; width:100%;\"></div>            <script type=\"text/javascript\">                require([\"plotly\"], function(Plotly) {                    window.PLOTLYENV=window.PLOTLYENV || {};                                    if (document.getElementById(\"a5a762bf-3c55-41de-b619-f4d3136c5aba\")) {                    Plotly.newPlot(                        \"a5a762bf-3c55-41de-b619-f4d3136c5aba\",                        [{\"hovertemplate\":\"Time (Hour:Minute)=%{x}\\u003cbr\\u003eReview Count=%{y}\\u003cextra\\u003e\\u003c\\u002fextra\\u003e\",\"legendgroup\":\"\",\"line\":{\"color\":\"#636efa\",\"dash\":\"solid\"},\"marker\":{\"symbol\":\"circle\"},\"mode\":\"lines+markers\",\"name\":\"\",\"showlegend\":false,\"x\":[\"00:00\",\"00:01\",\"00:02\",\"00:03\",\"00:04\",\"00:05\",\"00:06\",\"00:07\",\"00:08\",\"00:09\",\"00:10\",\"00:11\",\"00:12\",\"00:13\",\"00:14\",\"00:15\",\"00:16\",\"00:17\",\"00:18\",\"00:19\",\"00:20\",\"00:21\",\"00:22\",\"00:23\",\"00:24\",\"00:25\",\"00:26\",\"00:27\",\"00:28\",\"00:29\",\"00:30\",\"00:31\",\"00:32\",\"00:33\",\"00:34\",\"00:35\",\"00:36\",\"00:37\",\"00:38\",\"00:39\",\"00:40\",\"00:41\",\"00:42\",\"00:43\",\"00:44\",\"00:45\",\"00:46\",\"00:47\",\"00:48\",\"00:49\",\"00:50\",\"00:51\",\"00:52\",\"00:53\",\"00:54\",\"00:55\",\"00:56\",\"00:57\",\"00:58\",\"00:59\",\"01:00\",\"01:01\",\"01:02\",\"01:03\",\"01:04\",\"01:05\",\"01:06\",\"01:07\",\"01:08\",\"01:09\",\"01:10\",\"01:11\",\"01:12\",\"01:13\",\"01:14\",\"01:15\",\"01:16\",\"01:17\",\"01:18\",\"01:19\",\"01:20\",\"01:21\",\"01:22\",\"01:23\",\"01:24\",\"01:25\",\"01:26\",\"01:27\",\"01:28\",\"01:29\",\"01:30\",\"01:31\",\"01:32\",\"01:33\",\"01:34\",\"01:35\",\"01:36\",\"01:37\",\"01:38\",\"01:39\",\"01:40\",\"01:41\",\"01:42\",\"01:43\",\"01:44\",\"01:45\",\"01:46\",\"01:47\",\"01:48\",\"01:49\",\"01:50\",\"01:51\",\"01:52\",\"01:53\",\"01:54\",\"01:55\",\"01:56\",\"01:57\",\"01:58\",\"01:59\",\"02:00\",\"02:01\",\"02:02\",\"02:03\",\"02:04\",\"02:05\",\"02:06\",\"02:07\",\"02:08\",\"02:09\",\"02:10\",\"02:11\",\"02:12\",\"02:13\",\"02:14\",\"02:15\",\"02:16\",\"02:17\",\"02:18\",\"02:19\",\"02:20\",\"02:21\",\"02:22\",\"02:23\",\"02:24\",\"02:25\",\"02:26\",\"02:27\",\"02:28\",\"02:29\",\"02:30\",\"02:31\",\"02:32\",\"02:33\",\"02:34\",\"02:35\",\"02:36\",\"02:37\",\"02:38\",\"02:39\",\"02:40\",\"02:41\",\"02:42\",\"02:43\",\"02:44\",\"02:45\",\"02:46\",\"02:47\",\"02:48\",\"02:49\",\"02:50\",\"02:51\",\"02:52\",\"02:53\",\"02:54\",\"02:55\",\"02:56\",\"02:57\",\"02:58\",\"02:59\",\"03:00\",\"03:01\",\"03:02\",\"03:03\",\"03:04\",\"03:05\",\"03:06\",\"03:07\",\"03:08\",\"03:09\",\"03:10\",\"03:11\",\"03:12\",\"03:13\",\"03:14\",\"03:15\",\"03:16\",\"03:17\",\"03:18\",\"03:19\",\"03:20\",\"03:21\",\"03:22\",\"03:23\",\"03:24\",\"03:25\",\"03:26\",\"03:27\",\"03:28\",\"03:29\",\"03:30\",\"03:31\",\"03:32\",\"03:33\",\"03:34\",\"03:35\",\"03:36\",\"03:37\",\"03:38\",\"03:39\",\"03:40\",\"03:41\",\"03:42\",\"03:43\",\"03:44\",\"03:45\",\"03:46\",\"03:47\",\"03:48\",\"03:49\",\"03:50\",\"03:51\",\"03:52\",\"03:53\",\"03:54\",\"03:55\",\"03:56\",\"03:57\",\"03:58\",\"03:59\",\"04:00\",\"04:01\",\"04:02\",\"04:03\",\"04:04\",\"04:05\",\"04:06\",\"04:07\",\"04:08\",\"04:09\",\"04:10\",\"04:11\",\"04:12\",\"04:13\",\"04:14\",\"04:15\",\"04:16\",\"04:17\",\"04:18\",\"04:19\",\"04:20\",\"04:21\",\"04:22\",\"04:23\",\"04:24\",\"04:25\",\"04:26\",\"04:27\",\"04:28\",\"04:29\",\"04:30\",\"04:31\",\"04:32\",\"04:33\",\"04:34\",\"04:35\",\"04:36\",\"04:37\",\"04:38\",\"04:39\",\"04:40\",\"04:41\",\"04:42\",\"04:43\",\"04:44\",\"04:45\",\"04:46\",\"04:47\",\"04:48\",\"04:49\",\"04:50\",\"04:51\",\"04:52\",\"04:53\",\"04:54\",\"04:55\",\"04:56\",\"04:57\",\"04:58\",\"04:59\",\"05:00\",\"05:01\",\"05:02\",\"05:03\",\"05:04\",\"05:05\",\"05:06\",\"05:07\",\"05:08\",\"05:09\",\"05:10\",\"05:11\",\"05:12\",\"05:13\",\"05:14\",\"05:15\",\"05:16\",\"05:17\",\"05:18\",\"05:19\",\"05:20\",\"05:21\",\"05:22\",\"05:23\",\"05:24\",\"05:25\",\"05:26\",\"05:27\",\"05:28\",\"05:29\",\"05:30\",\"05:31\",\"05:32\",\"05:33\",\"05:34\",\"05:35\",\"05:36\",\"05:37\",\"05:38\",\"05:39\",\"05:40\",\"05:41\",\"05:42\",\"05:43\",\"05:44\",\"05:45\",\"05:46\",\"05:47\",\"05:48\",\"05:49\",\"05:50\",\"05:51\",\"05:52\",\"05:53\",\"05:54\",\"05:55\",\"05:56\",\"05:57\",\"05:58\",\"05:59\",\"06:00\",\"06:01\",\"06:02\",\"06:03\",\"06:04\",\"06:05\",\"06:06\",\"06:07\",\"06:08\",\"06:09\",\"06:10\",\"06:11\",\"06:12\",\"06:13\",\"06:14\",\"06:15\",\"06:16\",\"06:17\",\"06:18\",\"06:19\",\"06:20\",\"06:21\",\"06:22\",\"06:23\",\"06:24\",\"06:25\",\"06:26\",\"06:27\",\"06:28\",\"06:29\",\"06:30\",\"06:31\",\"06:32\",\"06:33\",\"06:34\",\"06:35\",\"06:36\",\"06:37\",\"06:38\",\"06:39\",\"06:40\",\"06:41\",\"06:42\",\"06:43\",\"06:44\",\"06:45\",\"06:46\",\"06:47\",\"06:48\",\"06:49\",\"06:50\",\"06:51\",\"06:52\",\"06:53\",\"06:54\",\"06:55\",\"06:56\",\"06:57\",\"06:58\",\"06:59\",\"07:00\",\"07:01\",\"07:02\",\"07:03\",\"07:04\",\"07:05\",\"07:06\",\"07:07\",\"07:08\",\"07:09\",\"07:10\",\"07:11\",\"07:12\",\"07:13\",\"07:14\",\"07:15\",\"07:16\",\"07:17\",\"07:18\",\"07:19\",\"07:20\",\"07:21\",\"07:22\",\"07:23\",\"07:24\",\"07:25\",\"07:26\",\"07:27\",\"07:28\",\"07:29\",\"07:30\",\"07:31\",\"07:32\",\"07:33\",\"07:34\",\"07:35\",\"07:36\",\"07:37\",\"07:38\",\"07:39\",\"07:40\",\"07:41\",\"07:42\",\"07:43\",\"07:44\",\"07:45\",\"07:46\",\"07:47\",\"07:48\",\"07:49\",\"07:50\",\"07:51\",\"07:52\",\"07:53\",\"07:54\",\"07:55\",\"07:56\",\"07:57\",\"07:58\",\"07:59\",\"08:00\",\"08:01\",\"08:02\",\"08:03\",\"08:04\",\"08:05\",\"08:06\",\"08:07\",\"08:08\",\"08:09\",\"08:10\",\"08:11\",\"08:12\",\"08:13\",\"08:14\",\"08:15\",\"08:16\",\"08:17\",\"08:18\",\"08:19\",\"08:20\",\"08:21\",\"08:22\",\"08:23\",\"08:24\",\"08:25\",\"08:26\",\"08:27\",\"08:28\",\"08:29\",\"08:30\",\"08:31\",\"08:32\",\"08:33\",\"08:34\",\"08:35\",\"08:36\",\"08:37\",\"08:38\",\"08:39\",\"08:40\",\"08:41\",\"08:42\",\"08:43\",\"08:44\",\"08:45\",\"08:46\",\"08:47\",\"08:48\",\"08:49\",\"08:50\",\"08:51\",\"08:52\",\"08:53\",\"08:54\",\"08:55\",\"08:56\",\"08:57\",\"08:58\",\"08:59\",\"09:00\",\"09:01\",\"09:02\",\"09:03\",\"09:04\",\"09:05\",\"09:06\",\"09:07\",\"09:08\",\"09:09\",\"09:10\",\"09:11\",\"09:12\",\"09:13\",\"09:14\",\"09:15\",\"09:16\",\"09:17\",\"09:18\",\"09:19\",\"09:20\",\"09:21\",\"09:22\",\"09:23\",\"09:24\",\"09:25\",\"09:26\",\"09:27\",\"09:28\",\"09:29\",\"09:30\",\"09:31\",\"09:32\",\"09:33\",\"09:34\",\"09:35\",\"09:36\",\"09:37\",\"09:38\",\"09:39\",\"09:40\",\"09:41\",\"09:42\",\"09:43\",\"09:44\",\"09:45\",\"09:46\",\"09:47\",\"09:48\",\"09:49\",\"09:50\",\"09:51\",\"09:52\",\"09:53\",\"09:54\",\"09:55\",\"09:56\",\"09:57\",\"09:58\",\"09:59\",\"10:00\",\"10:01\",\"10:02\",\"10:03\",\"10:04\",\"10:05\",\"10:06\",\"10:07\",\"10:08\",\"10:09\",\"10:10\",\"10:11\",\"10:12\",\"10:13\",\"10:14\",\"10:15\",\"10:16\",\"10:17\",\"10:18\",\"10:19\",\"10:20\",\"10:21\",\"10:22\",\"10:23\",\"10:24\",\"10:25\",\"10:26\",\"10:27\",\"10:28\",\"10:29\",\"10:30\",\"10:31\",\"10:32\",\"10:33\",\"10:34\",\"10:35\",\"10:36\",\"10:37\",\"10:38\",\"10:39\",\"10:40\",\"10:41\",\"10:42\",\"10:43\",\"10:44\",\"10:45\",\"10:46\",\"10:47\",\"10:48\",\"10:49\",\"10:50\",\"10:51\",\"10:52\",\"10:53\",\"10:54\",\"10:55\",\"10:56\",\"10:57\",\"10:58\",\"10:59\",\"11:00\",\"11:01\",\"11:02\",\"11:03\",\"11:04\",\"11:05\",\"11:06\",\"11:07\",\"11:08\",\"11:09\",\"11:10\",\"11:11\",\"11:12\",\"11:13\",\"11:14\",\"11:15\",\"11:16\",\"11:17\",\"11:18\",\"11:19\",\"11:20\",\"11:21\",\"11:22\",\"11:23\",\"11:24\",\"11:25\",\"11:26\",\"11:27\",\"11:28\",\"11:29\",\"11:30\",\"11:31\",\"11:32\",\"11:33\",\"11:34\",\"11:35\",\"11:36\",\"11:37\",\"11:38\",\"11:39\",\"11:40\",\"11:41\",\"11:42\",\"11:43\",\"11:44\",\"11:45\",\"11:46\",\"11:47\",\"11:48\",\"11:49\",\"11:50\",\"11:51\",\"11:52\",\"11:53\",\"11:54\",\"11:55\",\"11:56\",\"11:57\",\"11:58\",\"11:59\",\"12:00\",\"12:01\",\"12:02\",\"12:03\",\"12:04\",\"12:05\",\"12:06\",\"12:07\",\"12:08\",\"12:09\",\"12:10\",\"12:11\",\"12:12\",\"12:13\",\"12:14\",\"12:15\",\"12:16\",\"12:17\",\"12:18\",\"12:19\",\"12:20\",\"12:21\",\"12:22\",\"12:23\",\"12:24\",\"12:25\",\"12:26\",\"12:27\",\"12:28\",\"12:29\",\"12:30\",\"12:31\",\"12:32\",\"12:33\",\"12:34\",\"12:35\",\"12:36\",\"12:37\",\"12:38\",\"12:39\",\"12:40\",\"12:41\",\"12:42\",\"12:43\",\"12:44\",\"12:45\",\"12:46\",\"12:47\",\"12:48\",\"12:49\",\"12:50\",\"12:51\",\"12:52\",\"12:53\",\"12:54\",\"12:55\",\"12:56\",\"12:57\",\"12:58\",\"12:59\",\"13:00\",\"13:01\",\"13:02\",\"13:03\",\"13:04\",\"13:05\",\"13:06\",\"13:07\",\"13:08\",\"13:09\",\"13:10\",\"13:11\",\"13:12\",\"13:13\",\"13:14\",\"13:15\",\"13:16\",\"13:17\",\"13:18\",\"13:19\",\"13:20\",\"13:21\",\"13:22\",\"13:23\",\"13:24\",\"13:25\",\"13:26\",\"13:27\",\"13:28\",\"13:29\",\"13:30\",\"13:31\",\"13:32\",\"13:33\",\"13:34\",\"13:35\",\"13:36\",\"13:37\",\"13:38\",\"13:39\",\"13:40\",\"13:41\",\"13:42\",\"13:43\",\"13:44\",\"13:45\",\"13:46\",\"13:47\",\"13:48\",\"13:49\",\"13:50\",\"13:51\",\"13:52\",\"13:53\",\"13:54\",\"13:55\",\"13:56\",\"13:57\",\"13:58\",\"13:59\",\"14:00\",\"14:01\",\"14:02\",\"14:03\",\"14:04\",\"14:05\",\"14:06\",\"14:07\",\"14:08\",\"14:09\",\"14:10\",\"14:11\",\"14:12\",\"14:13\",\"14:14\",\"14:15\",\"14:16\",\"14:17\",\"14:18\",\"14:19\",\"14:20\",\"14:21\",\"14:22\",\"14:23\",\"14:24\",\"14:25\",\"14:26\",\"14:27\",\"14:28\",\"14:29\",\"14:30\",\"14:31\",\"14:32\",\"14:33\",\"14:34\",\"14:35\",\"14:36\",\"14:37\",\"14:38\",\"14:39\",\"14:40\",\"14:41\",\"14:42\",\"14:43\",\"14:44\",\"14:45\",\"14:46\",\"14:47\",\"14:48\",\"14:49\",\"14:50\",\"14:51\",\"14:52\",\"14:53\",\"14:54\",\"14:55\",\"14:56\",\"14:57\",\"14:58\",\"14:59\",\"15:00\",\"15:01\",\"15:02\",\"15:03\",\"15:04\",\"15:05\",\"15:06\",\"15:07\",\"15:08\",\"15:09\",\"15:10\",\"15:11\",\"15:12\",\"15:13\",\"15:14\",\"15:15\",\"15:16\",\"15:17\",\"15:18\",\"15:19\",\"15:20\",\"15:21\",\"15:22\",\"15:23\",\"15:24\",\"15:25\",\"15:26\",\"15:27\",\"15:28\",\"15:29\",\"15:30\",\"15:31\",\"15:32\",\"15:33\",\"15:34\",\"15:35\",\"15:36\",\"15:37\",\"15:38\",\"15:39\",\"15:40\",\"15:41\",\"15:42\",\"15:43\",\"15:44\",\"15:45\",\"15:46\",\"15:47\",\"15:48\",\"15:49\",\"15:50\",\"15:51\",\"15:52\",\"15:53\",\"15:54\",\"15:55\",\"15:56\",\"15:57\",\"15:58\",\"15:59\",\"16:00\",\"16:01\",\"16:02\",\"16:03\",\"16:04\",\"16:05\",\"16:06\",\"16:07\",\"16:08\",\"16:09\",\"16:10\",\"16:11\",\"16:12\",\"16:13\",\"16:14\",\"16:15\",\"16:16\",\"16:17\",\"16:18\",\"16:19\",\"16:20\",\"16:21\",\"16:22\",\"16:23\",\"16:24\",\"16:25\",\"16:26\",\"16:27\",\"16:28\",\"16:29\",\"16:30\",\"16:31\",\"16:32\",\"16:33\",\"16:34\",\"16:35\",\"16:36\",\"16:37\",\"16:38\",\"16:39\",\"16:40\",\"16:41\",\"16:42\",\"16:43\",\"16:44\",\"16:45\",\"16:46\",\"16:47\",\"16:48\",\"16:49\",\"16:50\",\"16:51\",\"16:52\",\"16:53\",\"16:54\",\"16:55\",\"16:56\",\"16:57\",\"16:58\",\"16:59\",\"17:00\",\"17:01\",\"17:02\",\"17:03\",\"17:04\",\"17:05\",\"17:06\",\"17:07\",\"17:08\",\"17:09\",\"17:10\",\"17:11\",\"17:12\",\"17:13\",\"17:14\",\"17:15\",\"17:16\",\"17:17\",\"17:18\",\"17:19\",\"17:20\",\"17:21\",\"17:22\",\"17:23\",\"17:24\",\"17:25\",\"17:26\",\"17:27\",\"17:28\",\"17:29\",\"17:30\",\"17:31\",\"17:32\",\"17:33\",\"17:34\",\"17:35\",\"17:36\",\"17:37\",\"17:38\",\"17:39\",\"17:40\",\"17:41\",\"17:42\",\"17:43\",\"17:44\",\"17:45\",\"17:46\",\"17:47\",\"17:48\",\"17:49\",\"17:50\",\"17:51\",\"17:52\",\"17:53\",\"17:54\",\"17:55\",\"17:56\",\"17:57\",\"17:58\",\"17:59\",\"18:00\",\"18:01\",\"18:02\",\"18:03\",\"18:04\",\"18:05\",\"18:06\",\"18:07\",\"18:08\",\"18:09\",\"18:10\",\"18:11\",\"18:12\",\"18:13\",\"18:14\",\"18:15\",\"18:16\",\"18:17\",\"18:18\",\"18:19\",\"18:20\",\"18:21\",\"18:22\",\"18:23\",\"18:24\",\"18:25\",\"18:26\",\"18:27\",\"18:28\",\"18:29\",\"18:30\",\"18:31\",\"18:32\",\"18:33\",\"18:34\",\"18:35\",\"18:36\",\"18:37\",\"18:38\",\"18:39\",\"18:40\",\"18:41\",\"18:42\",\"18:43\",\"18:44\",\"18:45\",\"18:46\",\"18:47\",\"18:48\",\"18:49\",\"18:50\",\"18:51\",\"18:52\",\"18:53\",\"18:54\",\"18:55\",\"18:56\",\"18:57\",\"18:58\",\"18:59\",\"19:00\",\"19:01\",\"19:02\",\"19:03\",\"19:04\",\"19:05\",\"19:06\",\"19:07\",\"19:08\",\"19:09\",\"19:10\",\"19:11\",\"19:12\",\"19:13\",\"19:14\",\"19:15\",\"19:16\",\"19:17\",\"19:18\",\"19:19\",\"19:20\",\"19:21\",\"19:22\",\"19:23\",\"19:24\",\"19:25\",\"19:26\",\"19:27\",\"19:28\",\"19:29\",\"19:30\",\"19:31\",\"19:32\",\"19:33\",\"19:34\",\"19:35\",\"19:36\",\"19:37\",\"19:38\",\"19:39\",\"19:40\",\"19:41\",\"19:42\",\"19:43\",\"19:44\",\"19:45\",\"19:46\",\"19:47\",\"19:48\",\"19:49\",\"19:50\",\"19:51\",\"19:52\",\"19:53\",\"19:54\",\"19:55\",\"19:56\",\"19:57\",\"19:58\",\"19:59\",\"20:00\",\"20:01\",\"20:02\",\"20:03\",\"20:04\",\"20:05\",\"20:06\",\"20:07\",\"20:08\",\"20:09\",\"20:10\",\"20:11\",\"20:12\",\"20:13\",\"20:14\",\"20:15\",\"20:16\",\"20:17\",\"20:18\",\"20:19\",\"20:20\",\"20:21\",\"20:22\",\"20:23\",\"20:24\",\"20:25\",\"20:26\",\"20:27\",\"20:28\",\"20:29\",\"20:30\",\"20:31\",\"20:32\",\"20:33\",\"20:34\",\"20:35\",\"20:36\",\"20:37\",\"20:38\",\"20:39\",\"20:40\",\"20:41\",\"20:42\",\"20:43\",\"20:44\",\"20:45\",\"20:46\",\"20:47\",\"20:48\",\"20:49\",\"20:50\",\"20:51\",\"20:52\",\"20:53\",\"20:54\",\"20:55\",\"20:56\",\"20:57\",\"20:58\",\"20:59\",\"21:00\",\"21:01\",\"21:02\",\"21:03\",\"21:04\",\"21:05\",\"21:06\",\"21:07\",\"21:08\",\"21:09\",\"21:10\",\"21:11\",\"21:12\",\"21:13\",\"21:14\",\"21:15\",\"21:16\",\"21:17\",\"21:18\",\"21:19\",\"21:20\",\"21:21\",\"21:22\",\"21:23\",\"21:24\",\"21:25\",\"21:26\",\"21:27\",\"21:28\",\"21:29\",\"21:30\",\"21:31\",\"21:32\",\"21:33\",\"21:34\",\"21:35\",\"21:36\",\"21:37\",\"21:38\",\"21:39\",\"21:40\",\"21:41\",\"21:42\",\"21:43\",\"21:44\",\"21:45\",\"21:46\",\"21:47\",\"21:48\",\"21:49\",\"21:50\",\"21:51\",\"21:52\",\"21:53\",\"21:54\",\"21:55\",\"21:56\",\"21:57\",\"21:58\",\"21:59\",\"22:00\",\"22:01\",\"22:02\",\"22:03\",\"22:04\",\"22:05\",\"22:06\",\"22:07\",\"22:08\",\"22:09\",\"22:10\",\"22:11\",\"22:12\",\"22:13\",\"22:14\",\"22:15\",\"22:16\",\"22:17\",\"22:18\",\"22:19\",\"22:20\",\"22:21\",\"22:22\",\"22:23\",\"22:24\",\"22:25\",\"22:26\",\"22:27\",\"22:28\",\"22:29\",\"22:30\",\"22:31\",\"22:32\",\"22:33\",\"22:34\",\"22:35\",\"22:36\",\"22:37\",\"22:38\",\"22:39\",\"22:40\",\"22:41\",\"22:42\",\"22:43\",\"22:44\",\"22:45\",\"22:46\",\"22:47\",\"22:48\",\"22:49\",\"22:50\",\"22:51\",\"22:52\",\"22:53\",\"22:54\",\"22:55\",\"22:56\",\"22:57\",\"22:58\",\"22:59\",\"23:00\",\"23:01\",\"23:02\",\"23:03\",\"23:04\",\"23:05\",\"23:06\",\"23:07\",\"23:08\",\"23:09\",\"23:10\",\"23:11\",\"23:12\",\"23:13\",\"23:14\",\"23:15\",\"23:16\",\"23:17\",\"23:18\",\"23:19\",\"23:20\",\"23:21\",\"23:22\",\"23:23\",\"23:24\",\"23:25\",\"23:26\",\"23:27\",\"23:28\",\"23:29\",\"23:30\",\"23:31\",\"23:32\",\"23:33\",\"23:34\",\"23:35\",\"23:36\",\"23:37\",\"23:38\",\"23:39\",\"23:40\",\"23:41\",\"23:42\",\"23:43\",\"23:44\",\"23:45\",\"23:46\",\"23:47\",\"23:48\",\"23:49\",\"23:50\",\"23:51\",\"23:52\",\"23:53\",\"23:54\",\"23:55\",\"23:56\",\"23:57\",\"23:58\",\"23:59\"],\"xaxis\":\"x\",\"y\":[552,580,533,582,571,556,572,598,573,564,518,539,556,526,564,549,559,571,561,609,578,554,581,581,536,528,619,537,529,553,576,508,557,571,556,558,540,544,573,542,587,556,533,552,555,571,540,535,584,543,527,554,568,553,567,574,579,553,573,518,527,534,595,561,561,564,569,512,541,561,543,575,570,537,577,552,563,535,595,566,541,558,536,570,584,545,565,543,536,587,555,574,558,564,559,555,538,553,533,537,578,557,567,584,565,563,512,533,544,562,561,536,565,532,556,536,562,528,521,556,588,560,553,575,541,603,555,545,600,546,550,541,568,597,555,526,541,575,530,534,569,563,537,588,603,545,569,557,571,586,571,594,558,526,556,545,574,557,530,531,554,569,545,575,551,531,569,576,578,541,567,531,559,524,579,559,536,502,586,561,517,534,511,564,529,532,570,543,557,551,548,548,505,548,517,531,516,566,506,509,549,532,549,518,539,504,545,564,547,516,555,549,539,556,511,493,520,545,557,519,536,536,534,518,541,549,576,518,544,527,514,532,502,523,519,541,521,529,537,556,502,537,541,516,494,495,514,523,515,474,508,529,503,529,513,477,504,485,539,506,555,508,553,531,528,520,526,529,462,528,520,496,531,487,512,542,600,550,536,494,560,546,494,531,502,503,520,510,507,561,498,515,506,512,514,493,491,513,534,513,542,508,480,484,494,530,575,450,516,528,545,496,536,520,493,504,511,495,499,506,475,539,475,527,472,510,501,527,505,498,498,462,506,487,510,520,503,490,476,510,498,498,482,469,475,493,520,512,487,466,521,509,486,499,525,448,542,517,512,495,489,521,483,480,509,530,467,488,491,482,490,519,498,499,508,509,486,499,505,502,464,502,512,479,511,496,491,496,526,485,496,510,491,481,508,498,512,485,461,529,540,541,505,552,521,541,555,500,477,560,519,527,553,486,511,514,525,514,561,531,506,530,462,508,521,541,506,495,493,505,542,514,544,514,541,535,488,546,516,544,515,501,486,562,516,534,544,533,538,516,527,568,544,531,585,559,516,489,563,530,558,547,552,511,576,506,534,557,573,535,530,560,557,529,578,574,600,515,616,528,553,531,573,531,567,541,546,578,560,604,545,594,553,566,564,558,563,541,565,590,593,582,611,607,572,577,584,588,608,583,594,591,559,570,590,592,563,584,621,574,613,608,601,632,619,632,595,577,554,574,566,630,612,629,564,608,642,593,608,632,644,641,628,606,635,615,607,587,606,598,593,593,615,680,663,618,649,634,665,627,603,616,631,628,683,595,612,658,650,633,590,567,631,625,632,621,638,621,687,645,627,641,649,614,668,646,601,633,676,646,664,616,690,626,688,675,667,638,679,605,640,674,635,625,645,662,679,661,648,677,682,619,670,632,672,688,674,707,662,682,673,713,680,646,670,685,684,651,729,660,682,717,694,676,687,714,767,676,719,650,713,697,691,720,737,717,676,676,715,642,678,663,734,695,657,691,739,666,697,674,665,709,740,680,714,692,732,706,671,721,761,714,694,652,644,732,714,678,695,685,713,727,690,666,725,734,755,732,750,707,693,665,742,740,716,733,720,734,752,687,698,690,752,712,717,702,706,731,738,726,710,766,759,729,718,752,729,725,738,715,767,723,770,771,745,757,744,743,747,732,764,747,753,723,751,709,764,752,808,695,749,701,761,718,771,737,761,768,782,722,775,720,851,734,757,817,771,816,771,803,742,733,782,750,757,767,742,733,772,767,833,792,787,795,804,816,791,787,809,796,775,814,853,787,810,787,778,782,798,826,823,772,743,777,738,768,794,785,852,790,817,825,844,786,842,816,872,810,808,842,803,827,811,847,811,814,851,783,893,832,859,838,833,838,830,916,791,777,856,881,833,873,856,822,851,869,883,892,845,847,894,843,812,887,825,866,863,865,897,872,911,885,857,816,841,841,856,872,843,879,857,864,892,893,883,829,896,865,937,859,850,910,948,895,897,867,898,884,916,837,907,868,918,851,861,945,861,860,920,913,919,902,925,879,906,929,870,923,898,906,937,901,920,880,923,887,902,898,919,841,911,857,881,883,920,881,905,874,940,827,884,861,920,965,921,899,917,886,939,883,872,941,929,858,937,924,949,868,872,898,885,906,902,920,859,873,830,865,879,899,843,865,900,856,930,870,896,931,920,893,880,854,915,892,860,888,897,868,881,906,844,854,887,863,844,891,846,898,862,918,933,892,875,857,888,852,884,895,908,951,903,901,861,844,849,885,863,873,871,939,831,834,859,916,850,849,877,892,883,932,883,862,874,895,929,910,822,850,955,878,871,832,836,847,837,868,909,839,857,884,887,807,877,889,838,869,832,882,912,905,901,940,845,873,835,914,872,944,886,846,893,930,837,855,827,825,906,895,803,893,840,840,891,842,824,881,844,873,891,856,862,885,849,878,809,877,847,848,839,895,838,858,918,862,894,858,836,838,933,849,891,856,900,933,873,889,894,888,924,987,908,937,912,924,922,900,918,924,951,923,914,932,898,894,952,933,998,966,965,893,942,940,961,969,851,928,908,902,913,915,841,928,996,911,920,918,923,932,956,920,892,855,962,885,924,853,880,932,902,893,945,888,895,884,890,920,873,938,933,873,870,921,920,909,895,876,903,930,937,859,888,859,868,879,901,929,849,935,916,898,916,894,864,828,841,869,876,874,870,912,835,892,857,824,860,881,902,889,918,857,812,927,873,821,894,846,879,864,874,785,891,861,835,894,894,834,813,839,841,905,875,847,901,840,877,826,860,833,893,814,862,805,824,807,861,864,781,798,826,808,875,810,815,827,866,798,801,844,849,846,816,796,837,824,779,810,833,864,819,818,832,794,797,818,811,831,857,799,800,823,818,842,766,736,836,770,766,800,765,785,766,776,804,756,786,737,766,744,790,707,698,764,783,783,741,751,711,725,748,762,756,749,770,742,740,734,722,727,726,736,741,703,689,747,656,707,724,686,731,701,731,695,732,747,685,698,720,717,699,704,705,715,714,716,670,711,659,682,690,750,697,689,701,671,719,701,717,660,705,679,665,711,631,639,665,631,659,634,663,649,616,702,643,633,630,680,630,683,688,642,668,622,661,628,652,603,691,621,609,631,608,593,633,645,647,606,616,637,586,601,600,590,596,626,568,558,579,617,610,624,578,632,619,599,610,631,609,630,590,562,595,621,620,617,596,561,571,580,607,576,549,627,582,606,626,547,583,590,585,575,570,603,551,589,572,580,547,577,580,543],\"yaxis\":\"y\",\"type\":\"scattergl\"}],                        {\"template\":{\"data\":{\"histogram2dcontour\":[{\"type\":\"histogram2dcontour\",\"colorbar\":{\"outlinewidth\":0,\"ticks\":\"\"},\"colorscale\":[[0.0,\"#0d0887\"],[0.1111111111111111,\"#46039f\"],[0.2222222222222222,\"#7201a8\"],[0.3333333333333333,\"#9c179e\"],[0.4444444444444444,\"#bd3786\"],[0.5555555555555556,\"#d8576b\"],[0.6666666666666666,\"#ed7953\"],[0.7777777777777778,\"#fb9f3a\"],[0.8888888888888888,\"#fdca26\"],[1.0,\"#f0f921\"]]}],\"choropleth\":[{\"type\":\"choropleth\",\"colorbar\":{\"outlinewidth\":0,\"ticks\":\"\"}}],\"histogram2d\":[{\"type\":\"histogram2d\",\"colorbar\":{\"outlinewidth\":0,\"ticks\":\"\"},\"colorscale\":[[0.0,\"#0d0887\"],[0.1111111111111111,\"#46039f\"],[0.2222222222222222,\"#7201a8\"],[0.3333333333333333,\"#9c179e\"],[0.4444444444444444,\"#bd3786\"],[0.5555555555555556,\"#d8576b\"],[0.6666666666666666,\"#ed7953\"],[0.7777777777777778,\"#fb9f3a\"],[0.8888888888888888,\"#fdca26\"],[1.0,\"#f0f921\"]]}],\"heatmap\":[{\"type\":\"heatmap\",\"colorbar\":{\"outlinewidth\":0,\"ticks\":\"\"},\"colorscale\":[[0.0,\"#0d0887\"],[0.1111111111111111,\"#46039f\"],[0.2222222222222222,\"#7201a8\"],[0.3333333333333333,\"#9c179e\"],[0.4444444444444444,\"#bd3786\"],[0.5555555555555556,\"#d8576b\"],[0.6666666666666666,\"#ed7953\"],[0.7777777777777778,\"#fb9f3a\"],[0.8888888888888888,\"#fdca26\"],[1.0,\"#f0f921\"]]}],\"heatmapgl\":[{\"type\":\"heatmapgl\",\"colorbar\":{\"outlinewidth\":0,\"ticks\":\"\"},\"colorscale\":[[0.0,\"#0d0887\"],[0.1111111111111111,\"#46039f\"],[0.2222222222222222,\"#7201a8\"],[0.3333333333333333,\"#9c179e\"],[0.4444444444444444,\"#bd3786\"],[0.5555555555555556,\"#d8576b\"],[0.6666666666666666,\"#ed7953\"],[0.7777777777777778,\"#fb9f3a\"],[0.8888888888888888,\"#fdca26\"],[1.0,\"#f0f921\"]]}],\"contourcarpet\":[{\"type\":\"contourcarpet\",\"colorbar\":{\"outlinewidth\":0,\"ticks\":\"\"}}],\"contour\":[{\"type\":\"contour\",\"colorbar\":{\"outlinewidth\":0,\"ticks\":\"\"},\"colorscale\":[[0.0,\"#0d0887\"],[0.1111111111111111,\"#46039f\"],[0.2222222222222222,\"#7201a8\"],[0.3333333333333333,\"#9c179e\"],[0.4444444444444444,\"#bd3786\"],[0.5555555555555556,\"#d8576b\"],[0.6666666666666666,\"#ed7953\"],[0.7777777777777778,\"#fb9f3a\"],[0.8888888888888888,\"#fdca26\"],[1.0,\"#f0f921\"]]}],\"surface\":[{\"type\":\"surface\",\"colorbar\":{\"outlinewidth\":0,\"ticks\":\"\"},\"colorscale\":[[0.0,\"#0d0887\"],[0.1111111111111111,\"#46039f\"],[0.2222222222222222,\"#7201a8\"],[0.3333333333333333,\"#9c179e\"],[0.4444444444444444,\"#bd3786\"],[0.5555555555555556,\"#d8576b\"],[0.6666666666666666,\"#ed7953\"],[0.7777777777777778,\"#fb9f3a\"],[0.8888888888888888,\"#fdca26\"],[1.0,\"#f0f921\"]]}],\"mesh3d\":[{\"type\":\"mesh3d\",\"colorbar\":{\"outlinewidth\":0,\"ticks\":\"\"}}],\"scatter\":[{\"fillpattern\":{\"fillmode\":\"overlay\",\"size\":10,\"solidity\":0.2},\"type\":\"scatter\"}],\"parcoords\":[{\"type\":\"parcoords\",\"line\":{\"colorbar\":{\"outlinewidth\":0,\"ticks\":\"\"}}}],\"scatterpolargl\":[{\"type\":\"scatterpolargl\",\"marker\":{\"colorbar\":{\"outlinewidth\":0,\"ticks\":\"\"}}}],\"bar\":[{\"error_x\":{\"color\":\"#2a3f5f\"},\"error_y\":{\"color\":\"#2a3f5f\"},\"marker\":{\"line\":{\"color\":\"#E5ECF6\",\"width\":0.5},\"pattern\":{\"fillmode\":\"overlay\",\"size\":10,\"solidity\":0.2}},\"type\":\"bar\"}],\"scattergeo\":[{\"type\":\"scattergeo\",\"marker\":{\"colorbar\":{\"outlinewidth\":0,\"ticks\":\"\"}}}],\"scatterpolar\":[{\"type\":\"scatterpolar\",\"marker\":{\"colorbar\":{\"outlinewidth\":0,\"ticks\":\"\"}}}],\"histogram\":[{\"marker\":{\"pattern\":{\"fillmode\":\"overlay\",\"size\":10,\"solidity\":0.2}},\"type\":\"histogram\"}],\"scattergl\":[{\"type\":\"scattergl\",\"marker\":{\"colorbar\":{\"outlinewidth\":0,\"ticks\":\"\"}}}],\"scatter3d\":[{\"type\":\"scatter3d\",\"line\":{\"colorbar\":{\"outlinewidth\":0,\"ticks\":\"\"}},\"marker\":{\"colorbar\":{\"outlinewidth\":0,\"ticks\":\"\"}}}],\"scattermapbox\":[{\"type\":\"scattermapbox\",\"marker\":{\"colorbar\":{\"outlinewidth\":0,\"ticks\":\"\"}}}],\"scatterternary\":[{\"type\":\"scatterternary\",\"marker\":{\"colorbar\":{\"outlinewidth\":0,\"ticks\":\"\"}}}],\"scattercarpet\":[{\"type\":\"scattercarpet\",\"marker\":{\"colorbar\":{\"outlinewidth\":0,\"ticks\":\"\"}}}],\"carpet\":[{\"aaxis\":{\"endlinecolor\":\"#2a3f5f\",\"gridcolor\":\"white\",\"linecolor\":\"white\",\"minorgridcolor\":\"white\",\"startlinecolor\":\"#2a3f5f\"},\"baxis\":{\"endlinecolor\":\"#2a3f5f\",\"gridcolor\":\"white\",\"linecolor\":\"white\",\"minorgridcolor\":\"white\",\"startlinecolor\":\"#2a3f5f\"},\"type\":\"carpet\"}],\"table\":[{\"cells\":{\"fill\":{\"color\":\"#EBF0F8\"},\"line\":{\"color\":\"white\"}},\"header\":{\"fill\":{\"color\":\"#C8D4E3\"},\"line\":{\"color\":\"white\"}},\"type\":\"table\"}],\"barpolar\":[{\"marker\":{\"line\":{\"color\":\"#E5ECF6\",\"width\":0.5},\"pattern\":{\"fillmode\":\"overlay\",\"size\":10,\"solidity\":0.2}},\"type\":\"barpolar\"}],\"pie\":[{\"automargin\":true,\"type\":\"pie\"}]},\"layout\":{\"autotypenumbers\":\"strict\",\"colorway\":[\"#636efa\",\"#EF553B\",\"#00cc96\",\"#ab63fa\",\"#FFA15A\",\"#19d3f3\",\"#FF6692\",\"#B6E880\",\"#FF97FF\",\"#FECB52\"],\"font\":{\"color\":\"#2a3f5f\"},\"hovermode\":\"closest\",\"hoverlabel\":{\"align\":\"left\"},\"paper_bgcolor\":\"white\",\"plot_bgcolor\":\"#E5ECF6\",\"polar\":{\"bgcolor\":\"#E5ECF6\",\"angularaxis\":{\"gridcolor\":\"white\",\"linecolor\":\"white\",\"ticks\":\"\"},\"radialaxis\":{\"gridcolor\":\"white\",\"linecolor\":\"white\",\"ticks\":\"\"}},\"ternary\":{\"bgcolor\":\"#E5ECF6\",\"aaxis\":{\"gridcolor\":\"white\",\"linecolor\":\"white\",\"ticks\":\"\"},\"baxis\":{\"gridcolor\":\"white\",\"linecolor\":\"white\",\"ticks\":\"\"},\"caxis\":{\"gridcolor\":\"white\",\"linecolor\":\"white\",\"ticks\":\"\"}},\"coloraxis\":{\"colorbar\":{\"outlinewidth\":0,\"ticks\":\"\"}},\"colorscale\":{\"sequential\":[[0.0,\"#0d0887\"],[0.1111111111111111,\"#46039f\"],[0.2222222222222222,\"#7201a8\"],[0.3333333333333333,\"#9c179e\"],[0.4444444444444444,\"#bd3786\"],[0.5555555555555556,\"#d8576b\"],[0.6666666666666666,\"#ed7953\"],[0.7777777777777778,\"#fb9f3a\"],[0.8888888888888888,\"#fdca26\"],[1.0,\"#f0f921\"]],\"sequentialminus\":[[0.0,\"#0d0887\"],[0.1111111111111111,\"#46039f\"],[0.2222222222222222,\"#7201a8\"],[0.3333333333333333,\"#9c179e\"],[0.4444444444444444,\"#bd3786\"],[0.5555555555555556,\"#d8576b\"],[0.6666666666666666,\"#ed7953\"],[0.7777777777777778,\"#fb9f3a\"],[0.8888888888888888,\"#fdca26\"],[1.0,\"#f0f921\"]],\"diverging\":[[0,\"#8e0152\"],[0.1,\"#c51b7d\"],[0.2,\"#de77ae\"],[0.3,\"#f1b6da\"],[0.4,\"#fde0ef\"],[0.5,\"#f7f7f7\"],[0.6,\"#e6f5d0\"],[0.7,\"#b8e186\"],[0.8,\"#7fbc41\"],[0.9,\"#4d9221\"],[1,\"#276419\"]]},\"xaxis\":{\"gridcolor\":\"white\",\"linecolor\":\"white\",\"ticks\":\"\",\"title\":{\"standoff\":15},\"zerolinecolor\":\"white\",\"automargin\":true,\"zerolinewidth\":2},\"yaxis\":{\"gridcolor\":\"white\",\"linecolor\":\"white\",\"ticks\":\"\",\"title\":{\"standoff\":15},\"zerolinecolor\":\"white\",\"automargin\":true,\"zerolinewidth\":2},\"scene\":{\"xaxis\":{\"backgroundcolor\":\"#E5ECF6\",\"gridcolor\":\"white\",\"linecolor\":\"white\",\"showbackground\":true,\"ticks\":\"\",\"zerolinecolor\":\"white\",\"gridwidth\":2},\"yaxis\":{\"backgroundcolor\":\"#E5ECF6\",\"gridcolor\":\"white\",\"linecolor\":\"white\",\"showbackground\":true,\"ticks\":\"\",\"zerolinecolor\":\"white\",\"gridwidth\":2},\"zaxis\":{\"backgroundcolor\":\"#E5ECF6\",\"gridcolor\":\"white\",\"linecolor\":\"white\",\"showbackground\":true,\"ticks\":\"\",\"zerolinecolor\":\"white\",\"gridwidth\":2}},\"shapedefaults\":{\"line\":{\"color\":\"#2a3f5f\"}},\"annotationdefaults\":{\"arrowcolor\":\"#2a3f5f\",\"arrowhead\":0,\"arrowwidth\":1},\"geo\":{\"bgcolor\":\"white\",\"landcolor\":\"#E5ECF6\",\"subunitcolor\":\"white\",\"showland\":true,\"showlakes\":true,\"lakecolor\":\"white\"},\"title\":{\"x\":0.05},\"mapbox\":{\"style\":\"light\"}}},\"xaxis\":{\"anchor\":\"y\",\"domain\":[0.0,1.0],\"title\":{\"text\":\"Time (Hour:Minute)\"},\"tickangle\":45},\"yaxis\":{\"anchor\":\"x\",\"domain\":[0.0,1.0],\"title\":{\"text\":\"Review Count\"}},\"legend\":{\"tracegroupgap\":0},\"title\":{\"text\":\"Review Counts by Time of Day\"}},                        {\"responsive\": true}                    ).then(function(){\n",
       "                            \n",
       "var gd = document.getElementById('a5a762bf-3c55-41de-b619-f4d3136c5aba');\n",
       "var x = new MutationObserver(function (mutations, observer) {{\n",
       "        var display = window.getComputedStyle(gd).display;\n",
       "        if (!display || display === 'none') {{\n",
       "            console.log([gd, 'removed!']);\n",
       "            Plotly.purge(gd);\n",
       "            observer.disconnect();\n",
       "        }}\n",
       "}});\n",
       "\n",
       "// Listen for the removal of the full notebook cells\n",
       "var notebookContainer = gd.closest('#notebook-container');\n",
       "if (notebookContainer) {{\n",
       "    x.observe(notebookContainer, {childList: true});\n",
       "}}\n",
       "\n",
       "// Listen for the clearing of the current output cell\n",
       "var outputEl = gd.closest('.output');\n",
       "if (outputEl) {{\n",
       "    x.observe(outputEl, {childList: true});\n",
       "}}\n",
       "\n",
       "                        })                };                });            </script>        </div>"
      ]
     },
     "metadata": {},
     "output_type": "display_data"
    }
   ],
   "execution_count": 43
  },
  {
   "cell_type": "markdown",
   "source": [
    "# 3.5 Create a function that accepts a list of time intervals and plots the number of reviews for each interval.\n"
   ],
   "metadata": {
    "id": "-f3hurvYll80"
   },
   "id": "-f3hurvYll80"
  },
  {
   "cell_type": "code",
   "source": [
    "time_day_review_counts"
   ],
   "metadata": {
    "colab": {
     "base_uri": "https://localhost:8080/",
     "height": 423
    },
    "id": "gTb17ENZ35LZ",
    "outputId": "3b7116e9-6fe0-464f-8b04-ebb2fc833521",
    "ExecuteTime": {
     "end_time": "2024-10-30T18:06:29.478415Z",
     "start_time": "2024-10-30T18:06:29.467021Z"
    }
   },
   "id": "gTb17ENZ35LZ",
   "outputs": [
    {
     "data": {
      "text/plain": [
       "     hour_minute  review_count\n",
       "1098       00:00           552\n",
       "940        00:01           580\n",
       "1205       00:02           533\n",
       "934        00:03           582\n",
       "980        00:04           571\n",
       "...          ...           ...\n",
       "937        23:55           580\n",
       "1115       23:56           547\n",
       "950        23:57           577\n",
       "939        23:58           580\n",
       "1139       23:59           543\n",
       "\n",
       "[1440 rows x 2 columns]"
      ],
      "text/html": [
       "<div>\n",
       "<style scoped>\n",
       "    .dataframe tbody tr th:only-of-type {\n",
       "        vertical-align: middle;\n",
       "    }\n",
       "\n",
       "    .dataframe tbody tr th {\n",
       "        vertical-align: top;\n",
       "    }\n",
       "\n",
       "    .dataframe thead th {\n",
       "        text-align: right;\n",
       "    }\n",
       "</style>\n",
       "<table border=\"1\" class=\"dataframe\">\n",
       "  <thead>\n",
       "    <tr style=\"text-align: right;\">\n",
       "      <th></th>\n",
       "      <th>hour_minute</th>\n",
       "      <th>review_count</th>\n",
       "    </tr>\n",
       "  </thead>\n",
       "  <tbody>\n",
       "    <tr>\n",
       "      <th>1098</th>\n",
       "      <td>00:00</td>\n",
       "      <td>552</td>\n",
       "    </tr>\n",
       "    <tr>\n",
       "      <th>940</th>\n",
       "      <td>00:01</td>\n",
       "      <td>580</td>\n",
       "    </tr>\n",
       "    <tr>\n",
       "      <th>1205</th>\n",
       "      <td>00:02</td>\n",
       "      <td>533</td>\n",
       "    </tr>\n",
       "    <tr>\n",
       "      <th>934</th>\n",
       "      <td>00:03</td>\n",
       "      <td>582</td>\n",
       "    </tr>\n",
       "    <tr>\n",
       "      <th>980</th>\n",
       "      <td>00:04</td>\n",
       "      <td>571</td>\n",
       "    </tr>\n",
       "    <tr>\n",
       "      <th>...</th>\n",
       "      <td>...</td>\n",
       "      <td>...</td>\n",
       "    </tr>\n",
       "    <tr>\n",
       "      <th>937</th>\n",
       "      <td>23:55</td>\n",
       "      <td>580</td>\n",
       "    </tr>\n",
       "    <tr>\n",
       "      <th>1115</th>\n",
       "      <td>23:56</td>\n",
       "      <td>547</td>\n",
       "    </tr>\n",
       "    <tr>\n",
       "      <th>950</th>\n",
       "      <td>23:57</td>\n",
       "      <td>577</td>\n",
       "    </tr>\n",
       "    <tr>\n",
       "      <th>939</th>\n",
       "      <td>23:58</td>\n",
       "      <td>580</td>\n",
       "    </tr>\n",
       "    <tr>\n",
       "      <th>1139</th>\n",
       "      <td>23:59</td>\n",
       "      <td>543</td>\n",
       "    </tr>\n",
       "  </tbody>\n",
       "</table>\n",
       "<p>1440 rows × 2 columns</p>\n",
       "</div>"
      ]
     },
     "execution_count": 44,
     "metadata": {},
     "output_type": "execute_result"
    }
   ],
   "execution_count": 44
  },
  {
   "cell_type": "code",
   "source": [
    "import plotly.graph_objects as go\n",
    "\n",
    "def tr_rev_plotly(df, intervals):\n",
    "    \"\"\"\n",
    "    Plots the distribution of the number of reviews by specified time intervals using Plotly.\n",
    "\n",
    "    Parameters:\n",
    "    - df (pd.DataFrame): DataFrame containing 'hour_minute' column with times in 'HH:MM' format.\n",
    "    - intervals (list of tuple): List of tuples representing time intervals in hours, e.g., [(0, 3), (3, 6)].\n",
    "    \"\"\"\n",
    "    df['hour'] = pd.to_datetime(df['hour_minute'], format='%H:%M').dt.hour\n",
    "\n",
    "    review_counts = []\n",
    "    for (start, end) in intervals:\n",
    "        mask = (df['hour'] >= start) & (df['hour'] < end)\n",
    "        count = df[mask]['review_count'].sum()  # Summing up the review count within the interval\n",
    "        review_counts.append(count)\n",
    "        print(f\"Interval {start}:00 - {end}:00: {count} reviews\")\n",
    "\n",
    "    interval_labels = [f\"{start}:00-{end}:00\" for (start, end) in intervals]\n",
    "\n",
    "    fig = go.Figure(data=[\n",
    "        go.Bar(x=interval_labels, y=review_counts, marker_color='blue')\n",
    "    ])\n",
    "\n",
    "    fig.update_layout(\n",
    "        title=\"Distribution of Number of Reviews by Time Interval\",\n",
    "        xaxis_title=\"Time Intervals\",\n",
    "        yaxis_title=\"Number of Reviews\",\n",
    "        xaxis=dict(tickangle=45),\n",
    "        template=\"plotly_white\"\n",
    "    )\n",
    "\n",
    "    fig.show()\n",
    "\n"
   ],
   "metadata": {
    "id": "30s5-H_S3CJD",
    "ExecuteTime": {
     "end_time": "2024-10-30T18:06:30.070162Z",
     "start_time": "2024-10-30T18:06:30.058174Z"
    }
   },
   "id": "30s5-H_S3CJD",
   "outputs": [],
   "execution_count": 45
  },
  {
   "cell_type": "code",
   "source": [
    "time_day_review_counts"
   ],
   "metadata": {
    "colab": {
     "base_uri": "https://localhost:8080/",
     "height": 423
    },
    "id": "G1L1Y9Tn4Wuq",
    "outputId": "e2fb0b0f-dc65-4e6f-ba9b-2b245b88a166",
    "ExecuteTime": {
     "end_time": "2024-10-30T18:06:31.084567Z",
     "start_time": "2024-10-30T18:06:31.069484Z"
    }
   },
   "id": "G1L1Y9Tn4Wuq",
   "outputs": [
    {
     "data": {
      "text/plain": [
       "     hour_minute  review_count\n",
       "1098       00:00           552\n",
       "940        00:01           580\n",
       "1205       00:02           533\n",
       "934        00:03           582\n",
       "980        00:04           571\n",
       "...          ...           ...\n",
       "937        23:55           580\n",
       "1115       23:56           547\n",
       "950        23:57           577\n",
       "939        23:58           580\n",
       "1139       23:59           543\n",
       "\n",
       "[1440 rows x 2 columns]"
      ],
      "text/html": [
       "<div>\n",
       "<style scoped>\n",
       "    .dataframe tbody tr th:only-of-type {\n",
       "        vertical-align: middle;\n",
       "    }\n",
       "\n",
       "    .dataframe tbody tr th {\n",
       "        vertical-align: top;\n",
       "    }\n",
       "\n",
       "    .dataframe thead th {\n",
       "        text-align: right;\n",
       "    }\n",
       "</style>\n",
       "<table border=\"1\" class=\"dataframe\">\n",
       "  <thead>\n",
       "    <tr style=\"text-align: right;\">\n",
       "      <th></th>\n",
       "      <th>hour_minute</th>\n",
       "      <th>review_count</th>\n",
       "    </tr>\n",
       "  </thead>\n",
       "  <tbody>\n",
       "    <tr>\n",
       "      <th>1098</th>\n",
       "      <td>00:00</td>\n",
       "      <td>552</td>\n",
       "    </tr>\n",
       "    <tr>\n",
       "      <th>940</th>\n",
       "      <td>00:01</td>\n",
       "      <td>580</td>\n",
       "    </tr>\n",
       "    <tr>\n",
       "      <th>1205</th>\n",
       "      <td>00:02</td>\n",
       "      <td>533</td>\n",
       "    </tr>\n",
       "    <tr>\n",
       "      <th>934</th>\n",
       "      <td>00:03</td>\n",
       "      <td>582</td>\n",
       "    </tr>\n",
       "    <tr>\n",
       "      <th>980</th>\n",
       "      <td>00:04</td>\n",
       "      <td>571</td>\n",
       "    </tr>\n",
       "    <tr>\n",
       "      <th>...</th>\n",
       "      <td>...</td>\n",
       "      <td>...</td>\n",
       "    </tr>\n",
       "    <tr>\n",
       "      <th>937</th>\n",
       "      <td>23:55</td>\n",
       "      <td>580</td>\n",
       "    </tr>\n",
       "    <tr>\n",
       "      <th>1115</th>\n",
       "      <td>23:56</td>\n",
       "      <td>547</td>\n",
       "    </tr>\n",
       "    <tr>\n",
       "      <th>950</th>\n",
       "      <td>23:57</td>\n",
       "      <td>577</td>\n",
       "    </tr>\n",
       "    <tr>\n",
       "      <th>939</th>\n",
       "      <td>23:58</td>\n",
       "      <td>580</td>\n",
       "    </tr>\n",
       "    <tr>\n",
       "      <th>1139</th>\n",
       "      <td>23:59</td>\n",
       "      <td>543</td>\n",
       "    </tr>\n",
       "  </tbody>\n",
       "</table>\n",
       "<p>1440 rows × 2 columns</p>\n",
       "</div>"
      ]
     },
     "execution_count": 46,
     "metadata": {},
     "output_type": "execute_result"
    }
   ],
   "execution_count": 46
  },
  {
   "cell_type": "markdown",
   "source": [
    "# 3.6 Use the function to plot the number of reviews for the following time intervals:\n"
   ],
   "metadata": {
    "id": "W8bYc25Qlrqf"
   },
   "id": "W8bYc25Qlrqf"
  },
  {
   "cell_type": "code",
   "source": [
    "\n",
    "intervals = [(0, 3), (3, 6), (6, 11), (11, 14), (14, 17), (17, 20), (20, 24)]\n",
    "\n",
    "tr_rev_plotly(time_day_review_counts, intervals)"
   ],
   "metadata": {
    "colab": {
     "base_uri": "https://localhost:8080/",
     "height": 663
    },
    "id": "HKriiHAnltQV",
    "outputId": "fef39994-1f21-4ef2-f768-fe8f2501e583",
    "ExecuteTime": {
     "end_time": "2024-10-30T18:06:33.393519Z",
     "start_time": "2024-10-30T18:06:33.326473Z"
    }
   },
   "id": "HKriiHAnltQV",
   "outputs": [
    {
     "name": "stdout",
     "output_type": "stream",
     "text": [
      "Interval 0:00 - 3:00: 100229 reviews\n",
      "Interval 3:00 - 6:00: 93254 reviews\n",
      "Interval 6:00 - 11:00: 176424 reviews\n",
      "Interval 11:00 - 14:00: 138074 reviews\n",
      "Interval 14:00 - 17:00: 159448 reviews\n",
      "Interval 17:00 - 20:00: 160144 reviews\n",
      "Interval 20:00 - 24:00: 172427 reviews\n"
     ]
    },
    {
     "data": {
      "application/vnd.plotly.v1+json": {
       "data": [
        {
         "marker": {
          "color": "blue"
         },
         "x": [
          "0:00-3:00",
          "3:00-6:00",
          "6:00-11:00",
          "11:00-14:00",
          "14:00-17:00",
          "17:00-20:00",
          "20:00-24:00"
         ],
         "y": [
          100229,
          93254,
          176424,
          138074,
          159448,
          160144,
          172427
         ],
         "type": "bar"
        }
       ],
       "layout": {
        "template": {
         "data": {
          "barpolar": [
           {
            "marker": {
             "line": {
              "color": "white",
              "width": 0.5
             },
             "pattern": {
              "fillmode": "overlay",
              "size": 10,
              "solidity": 0.2
             }
            },
            "type": "barpolar"
           }
          ],
          "bar": [
           {
            "error_x": {
             "color": "#2a3f5f"
            },
            "error_y": {
             "color": "#2a3f5f"
            },
            "marker": {
             "line": {
              "color": "white",
              "width": 0.5
             },
             "pattern": {
              "fillmode": "overlay",
              "size": 10,
              "solidity": 0.2
             }
            },
            "type": "bar"
           }
          ],
          "carpet": [
           {
            "aaxis": {
             "endlinecolor": "#2a3f5f",
             "gridcolor": "#C8D4E3",
             "linecolor": "#C8D4E3",
             "minorgridcolor": "#C8D4E3",
             "startlinecolor": "#2a3f5f"
            },
            "baxis": {
             "endlinecolor": "#2a3f5f",
             "gridcolor": "#C8D4E3",
             "linecolor": "#C8D4E3",
             "minorgridcolor": "#C8D4E3",
             "startlinecolor": "#2a3f5f"
            },
            "type": "carpet"
           }
          ],
          "choropleth": [
           {
            "colorbar": {
             "outlinewidth": 0,
             "ticks": ""
            },
            "type": "choropleth"
           }
          ],
          "contourcarpet": [
           {
            "colorbar": {
             "outlinewidth": 0,
             "ticks": ""
            },
            "type": "contourcarpet"
           }
          ],
          "contour": [
           {
            "colorbar": {
             "outlinewidth": 0,
             "ticks": ""
            },
            "colorscale": [
             [
              0.0,
              "#0d0887"
             ],
             [
              0.1111111111111111,
              "#46039f"
             ],
             [
              0.2222222222222222,
              "#7201a8"
             ],
             [
              0.3333333333333333,
              "#9c179e"
             ],
             [
              0.4444444444444444,
              "#bd3786"
             ],
             [
              0.5555555555555556,
              "#d8576b"
             ],
             [
              0.6666666666666666,
              "#ed7953"
             ],
             [
              0.7777777777777778,
              "#fb9f3a"
             ],
             [
              0.8888888888888888,
              "#fdca26"
             ],
             [
              1.0,
              "#f0f921"
             ]
            ],
            "type": "contour"
           }
          ],
          "heatmapgl": [
           {
            "colorbar": {
             "outlinewidth": 0,
             "ticks": ""
            },
            "colorscale": [
             [
              0.0,
              "#0d0887"
             ],
             [
              0.1111111111111111,
              "#46039f"
             ],
             [
              0.2222222222222222,
              "#7201a8"
             ],
             [
              0.3333333333333333,
              "#9c179e"
             ],
             [
              0.4444444444444444,
              "#bd3786"
             ],
             [
              0.5555555555555556,
              "#d8576b"
             ],
             [
              0.6666666666666666,
              "#ed7953"
             ],
             [
              0.7777777777777778,
              "#fb9f3a"
             ],
             [
              0.8888888888888888,
              "#fdca26"
             ],
             [
              1.0,
              "#f0f921"
             ]
            ],
            "type": "heatmapgl"
           }
          ],
          "heatmap": [
           {
            "colorbar": {
             "outlinewidth": 0,
             "ticks": ""
            },
            "colorscale": [
             [
              0.0,
              "#0d0887"
             ],
             [
              0.1111111111111111,
              "#46039f"
             ],
             [
              0.2222222222222222,
              "#7201a8"
             ],
             [
              0.3333333333333333,
              "#9c179e"
             ],
             [
              0.4444444444444444,
              "#bd3786"
             ],
             [
              0.5555555555555556,
              "#d8576b"
             ],
             [
              0.6666666666666666,
              "#ed7953"
             ],
             [
              0.7777777777777778,
              "#fb9f3a"
             ],
             [
              0.8888888888888888,
              "#fdca26"
             ],
             [
              1.0,
              "#f0f921"
             ]
            ],
            "type": "heatmap"
           }
          ],
          "histogram2dcontour": [
           {
            "colorbar": {
             "outlinewidth": 0,
             "ticks": ""
            },
            "colorscale": [
             [
              0.0,
              "#0d0887"
             ],
             [
              0.1111111111111111,
              "#46039f"
             ],
             [
              0.2222222222222222,
              "#7201a8"
             ],
             [
              0.3333333333333333,
              "#9c179e"
             ],
             [
              0.4444444444444444,
              "#bd3786"
             ],
             [
              0.5555555555555556,
              "#d8576b"
             ],
             [
              0.6666666666666666,
              "#ed7953"
             ],
             [
              0.7777777777777778,
              "#fb9f3a"
             ],
             [
              0.8888888888888888,
              "#fdca26"
             ],
             [
              1.0,
              "#f0f921"
             ]
            ],
            "type": "histogram2dcontour"
           }
          ],
          "histogram2d": [
           {
            "colorbar": {
             "outlinewidth": 0,
             "ticks": ""
            },
            "colorscale": [
             [
              0.0,
              "#0d0887"
             ],
             [
              0.1111111111111111,
              "#46039f"
             ],
             [
              0.2222222222222222,
              "#7201a8"
             ],
             [
              0.3333333333333333,
              "#9c179e"
             ],
             [
              0.4444444444444444,
              "#bd3786"
             ],
             [
              0.5555555555555556,
              "#d8576b"
             ],
             [
              0.6666666666666666,
              "#ed7953"
             ],
             [
              0.7777777777777778,
              "#fb9f3a"
             ],
             [
              0.8888888888888888,
              "#fdca26"
             ],
             [
              1.0,
              "#f0f921"
             ]
            ],
            "type": "histogram2d"
           }
          ],
          "histogram": [
           {
            "marker": {
             "pattern": {
              "fillmode": "overlay",
              "size": 10,
              "solidity": 0.2
             }
            },
            "type": "histogram"
           }
          ],
          "mesh3d": [
           {
            "colorbar": {
             "outlinewidth": 0,
             "ticks": ""
            },
            "type": "mesh3d"
           }
          ],
          "parcoords": [
           {
            "line": {
             "colorbar": {
              "outlinewidth": 0,
              "ticks": ""
             }
            },
            "type": "parcoords"
           }
          ],
          "pie": [
           {
            "automargin": true,
            "type": "pie"
           }
          ],
          "scatter3d": [
           {
            "line": {
             "colorbar": {
              "outlinewidth": 0,
              "ticks": ""
             }
            },
            "marker": {
             "colorbar": {
              "outlinewidth": 0,
              "ticks": ""
             }
            },
            "type": "scatter3d"
           }
          ],
          "scattercarpet": [
           {
            "marker": {
             "colorbar": {
              "outlinewidth": 0,
              "ticks": ""
             }
            },
            "type": "scattercarpet"
           }
          ],
          "scattergeo": [
           {
            "marker": {
             "colorbar": {
              "outlinewidth": 0,
              "ticks": ""
             }
            },
            "type": "scattergeo"
           }
          ],
          "scattergl": [
           {
            "marker": {
             "colorbar": {
              "outlinewidth": 0,
              "ticks": ""
             }
            },
            "type": "scattergl"
           }
          ],
          "scattermapbox": [
           {
            "marker": {
             "colorbar": {
              "outlinewidth": 0,
              "ticks": ""
             }
            },
            "type": "scattermapbox"
           }
          ],
          "scatterpolargl": [
           {
            "marker": {
             "colorbar": {
              "outlinewidth": 0,
              "ticks": ""
             }
            },
            "type": "scatterpolargl"
           }
          ],
          "scatterpolar": [
           {
            "marker": {
             "colorbar": {
              "outlinewidth": 0,
              "ticks": ""
             }
            },
            "type": "scatterpolar"
           }
          ],
          "scatter": [
           {
            "fillpattern": {
             "fillmode": "overlay",
             "size": 10,
             "solidity": 0.2
            },
            "type": "scatter"
           }
          ],
          "scatterternary": [
           {
            "marker": {
             "colorbar": {
              "outlinewidth": 0,
              "ticks": ""
             }
            },
            "type": "scatterternary"
           }
          ],
          "surface": [
           {
            "colorbar": {
             "outlinewidth": 0,
             "ticks": ""
            },
            "colorscale": [
             [
              0.0,
              "#0d0887"
             ],
             [
              0.1111111111111111,
              "#46039f"
             ],
             [
              0.2222222222222222,
              "#7201a8"
             ],
             [
              0.3333333333333333,
              "#9c179e"
             ],
             [
              0.4444444444444444,
              "#bd3786"
             ],
             [
              0.5555555555555556,
              "#d8576b"
             ],
             [
              0.6666666666666666,
              "#ed7953"
             ],
             [
              0.7777777777777778,
              "#fb9f3a"
             ],
             [
              0.8888888888888888,
              "#fdca26"
             ],
             [
              1.0,
              "#f0f921"
             ]
            ],
            "type": "surface"
           }
          ],
          "table": [
           {
            "cells": {
             "fill": {
              "color": "#EBF0F8"
             },
             "line": {
              "color": "white"
             }
            },
            "header": {
             "fill": {
              "color": "#C8D4E3"
             },
             "line": {
              "color": "white"
             }
            },
            "type": "table"
           }
          ]
         },
         "layout": {
          "annotationdefaults": {
           "arrowcolor": "#2a3f5f",
           "arrowhead": 0,
           "arrowwidth": 1
          },
          "autotypenumbers": "strict",
          "coloraxis": {
           "colorbar": {
            "outlinewidth": 0,
            "ticks": ""
           }
          },
          "colorscale": {
           "diverging": [
            [
             0,
             "#8e0152"
            ],
            [
             0.1,
             "#c51b7d"
            ],
            [
             0.2,
             "#de77ae"
            ],
            [
             0.3,
             "#f1b6da"
            ],
            [
             0.4,
             "#fde0ef"
            ],
            [
             0.5,
             "#f7f7f7"
            ],
            [
             0.6,
             "#e6f5d0"
            ],
            [
             0.7,
             "#b8e186"
            ],
            [
             0.8,
             "#7fbc41"
            ],
            [
             0.9,
             "#4d9221"
            ],
            [
             1,
             "#276419"
            ]
           ],
           "sequential": [
            [
             0.0,
             "#0d0887"
            ],
            [
             0.1111111111111111,
             "#46039f"
            ],
            [
             0.2222222222222222,
             "#7201a8"
            ],
            [
             0.3333333333333333,
             "#9c179e"
            ],
            [
             0.4444444444444444,
             "#bd3786"
            ],
            [
             0.5555555555555556,
             "#d8576b"
            ],
            [
             0.6666666666666666,
             "#ed7953"
            ],
            [
             0.7777777777777778,
             "#fb9f3a"
            ],
            [
             0.8888888888888888,
             "#fdca26"
            ],
            [
             1.0,
             "#f0f921"
            ]
           ],
           "sequentialminus": [
            [
             0.0,
             "#0d0887"
            ],
            [
             0.1111111111111111,
             "#46039f"
            ],
            [
             0.2222222222222222,
             "#7201a8"
            ],
            [
             0.3333333333333333,
             "#9c179e"
            ],
            [
             0.4444444444444444,
             "#bd3786"
            ],
            [
             0.5555555555555556,
             "#d8576b"
            ],
            [
             0.6666666666666666,
             "#ed7953"
            ],
            [
             0.7777777777777778,
             "#fb9f3a"
            ],
            [
             0.8888888888888888,
             "#fdca26"
            ],
            [
             1.0,
             "#f0f921"
            ]
           ]
          },
          "colorway": [
           "#636efa",
           "#EF553B",
           "#00cc96",
           "#ab63fa",
           "#FFA15A",
           "#19d3f3",
           "#FF6692",
           "#B6E880",
           "#FF97FF",
           "#FECB52"
          ],
          "font": {
           "color": "#2a3f5f"
          },
          "geo": {
           "bgcolor": "white",
           "lakecolor": "white",
           "landcolor": "white",
           "showlakes": true,
           "showland": true,
           "subunitcolor": "#C8D4E3"
          },
          "hoverlabel": {
           "align": "left"
          },
          "hovermode": "closest",
          "mapbox": {
           "style": "light"
          },
          "paper_bgcolor": "white",
          "plot_bgcolor": "white",
          "polar": {
           "angularaxis": {
            "gridcolor": "#EBF0F8",
            "linecolor": "#EBF0F8",
            "ticks": ""
           },
           "bgcolor": "white",
           "radialaxis": {
            "gridcolor": "#EBF0F8",
            "linecolor": "#EBF0F8",
            "ticks": ""
           }
          },
          "scene": {
           "xaxis": {
            "backgroundcolor": "white",
            "gridcolor": "#DFE8F3",
            "gridwidth": 2,
            "linecolor": "#EBF0F8",
            "showbackground": true,
            "ticks": "",
            "zerolinecolor": "#EBF0F8"
           },
           "yaxis": {
            "backgroundcolor": "white",
            "gridcolor": "#DFE8F3",
            "gridwidth": 2,
            "linecolor": "#EBF0F8",
            "showbackground": true,
            "ticks": "",
            "zerolinecolor": "#EBF0F8"
           },
           "zaxis": {
            "backgroundcolor": "white",
            "gridcolor": "#DFE8F3",
            "gridwidth": 2,
            "linecolor": "#EBF0F8",
            "showbackground": true,
            "ticks": "",
            "zerolinecolor": "#EBF0F8"
           }
          },
          "shapedefaults": {
           "line": {
            "color": "#2a3f5f"
           }
          },
          "ternary": {
           "aaxis": {
            "gridcolor": "#DFE8F3",
            "linecolor": "#A2B1C6",
            "ticks": ""
           },
           "baxis": {
            "gridcolor": "#DFE8F3",
            "linecolor": "#A2B1C6",
            "ticks": ""
           },
           "bgcolor": "white",
           "caxis": {
            "gridcolor": "#DFE8F3",
            "linecolor": "#A2B1C6",
            "ticks": ""
           }
          },
          "title": {
           "x": 0.05
          },
          "xaxis": {
           "automargin": true,
           "gridcolor": "#EBF0F8",
           "linecolor": "#EBF0F8",
           "ticks": "",
           "title": {
            "standoff": 15
           },
           "zerolinecolor": "#EBF0F8",
           "zerolinewidth": 2
          },
          "yaxis": {
           "automargin": true,
           "gridcolor": "#EBF0F8",
           "linecolor": "#EBF0F8",
           "ticks": "",
           "title": {
            "standoff": 15
           },
           "zerolinecolor": "#EBF0F8",
           "zerolinewidth": 2
          }
         }
        },
        "xaxis": {
         "title": {
          "text": "Time Intervals"
         },
         "tickangle": 45
        },
        "title": {
         "text": "Distribution of Number of Reviews by Time Interval"
        },
        "yaxis": {
         "title": {
          "text": "Number of Reviews"
         }
        }
       },
       "config": {
        "plotlyServerURL": "https://plot.ly"
       }
      },
      "text/html": [
       "<div>                            <div id=\"021dccfd-f7aa-4417-a0e8-e1024faaca64\" class=\"plotly-graph-div\" style=\"height:525px; width:100%;\"></div>            <script type=\"text/javascript\">                require([\"plotly\"], function(Plotly) {                    window.PLOTLYENV=window.PLOTLYENV || {};                                    if (document.getElementById(\"021dccfd-f7aa-4417-a0e8-e1024faaca64\")) {                    Plotly.newPlot(                        \"021dccfd-f7aa-4417-a0e8-e1024faaca64\",                        [{\"marker\":{\"color\":\"blue\"},\"x\":[\"0:00-3:00\",\"3:00-6:00\",\"6:00-11:00\",\"11:00-14:00\",\"14:00-17:00\",\"17:00-20:00\",\"20:00-24:00\"],\"y\":[100229,93254,176424,138074,159448,160144,172427],\"type\":\"bar\"}],                        {\"template\":{\"data\":{\"barpolar\":[{\"marker\":{\"line\":{\"color\":\"white\",\"width\":0.5},\"pattern\":{\"fillmode\":\"overlay\",\"size\":10,\"solidity\":0.2}},\"type\":\"barpolar\"}],\"bar\":[{\"error_x\":{\"color\":\"#2a3f5f\"},\"error_y\":{\"color\":\"#2a3f5f\"},\"marker\":{\"line\":{\"color\":\"white\",\"width\":0.5},\"pattern\":{\"fillmode\":\"overlay\",\"size\":10,\"solidity\":0.2}},\"type\":\"bar\"}],\"carpet\":[{\"aaxis\":{\"endlinecolor\":\"#2a3f5f\",\"gridcolor\":\"#C8D4E3\",\"linecolor\":\"#C8D4E3\",\"minorgridcolor\":\"#C8D4E3\",\"startlinecolor\":\"#2a3f5f\"},\"baxis\":{\"endlinecolor\":\"#2a3f5f\",\"gridcolor\":\"#C8D4E3\",\"linecolor\":\"#C8D4E3\",\"minorgridcolor\":\"#C8D4E3\",\"startlinecolor\":\"#2a3f5f\"},\"type\":\"carpet\"}],\"choropleth\":[{\"colorbar\":{\"outlinewidth\":0,\"ticks\":\"\"},\"type\":\"choropleth\"}],\"contourcarpet\":[{\"colorbar\":{\"outlinewidth\":0,\"ticks\":\"\"},\"type\":\"contourcarpet\"}],\"contour\":[{\"colorbar\":{\"outlinewidth\":0,\"ticks\":\"\"},\"colorscale\":[[0.0,\"#0d0887\"],[0.1111111111111111,\"#46039f\"],[0.2222222222222222,\"#7201a8\"],[0.3333333333333333,\"#9c179e\"],[0.4444444444444444,\"#bd3786\"],[0.5555555555555556,\"#d8576b\"],[0.6666666666666666,\"#ed7953\"],[0.7777777777777778,\"#fb9f3a\"],[0.8888888888888888,\"#fdca26\"],[1.0,\"#f0f921\"]],\"type\":\"contour\"}],\"heatmapgl\":[{\"colorbar\":{\"outlinewidth\":0,\"ticks\":\"\"},\"colorscale\":[[0.0,\"#0d0887\"],[0.1111111111111111,\"#46039f\"],[0.2222222222222222,\"#7201a8\"],[0.3333333333333333,\"#9c179e\"],[0.4444444444444444,\"#bd3786\"],[0.5555555555555556,\"#d8576b\"],[0.6666666666666666,\"#ed7953\"],[0.7777777777777778,\"#fb9f3a\"],[0.8888888888888888,\"#fdca26\"],[1.0,\"#f0f921\"]],\"type\":\"heatmapgl\"}],\"heatmap\":[{\"colorbar\":{\"outlinewidth\":0,\"ticks\":\"\"},\"colorscale\":[[0.0,\"#0d0887\"],[0.1111111111111111,\"#46039f\"],[0.2222222222222222,\"#7201a8\"],[0.3333333333333333,\"#9c179e\"],[0.4444444444444444,\"#bd3786\"],[0.5555555555555556,\"#d8576b\"],[0.6666666666666666,\"#ed7953\"],[0.7777777777777778,\"#fb9f3a\"],[0.8888888888888888,\"#fdca26\"],[1.0,\"#f0f921\"]],\"type\":\"heatmap\"}],\"histogram2dcontour\":[{\"colorbar\":{\"outlinewidth\":0,\"ticks\":\"\"},\"colorscale\":[[0.0,\"#0d0887\"],[0.1111111111111111,\"#46039f\"],[0.2222222222222222,\"#7201a8\"],[0.3333333333333333,\"#9c179e\"],[0.4444444444444444,\"#bd3786\"],[0.5555555555555556,\"#d8576b\"],[0.6666666666666666,\"#ed7953\"],[0.7777777777777778,\"#fb9f3a\"],[0.8888888888888888,\"#fdca26\"],[1.0,\"#f0f921\"]],\"type\":\"histogram2dcontour\"}],\"histogram2d\":[{\"colorbar\":{\"outlinewidth\":0,\"ticks\":\"\"},\"colorscale\":[[0.0,\"#0d0887\"],[0.1111111111111111,\"#46039f\"],[0.2222222222222222,\"#7201a8\"],[0.3333333333333333,\"#9c179e\"],[0.4444444444444444,\"#bd3786\"],[0.5555555555555556,\"#d8576b\"],[0.6666666666666666,\"#ed7953\"],[0.7777777777777778,\"#fb9f3a\"],[0.8888888888888888,\"#fdca26\"],[1.0,\"#f0f921\"]],\"type\":\"histogram2d\"}],\"histogram\":[{\"marker\":{\"pattern\":{\"fillmode\":\"overlay\",\"size\":10,\"solidity\":0.2}},\"type\":\"histogram\"}],\"mesh3d\":[{\"colorbar\":{\"outlinewidth\":0,\"ticks\":\"\"},\"type\":\"mesh3d\"}],\"parcoords\":[{\"line\":{\"colorbar\":{\"outlinewidth\":0,\"ticks\":\"\"}},\"type\":\"parcoords\"}],\"pie\":[{\"automargin\":true,\"type\":\"pie\"}],\"scatter3d\":[{\"line\":{\"colorbar\":{\"outlinewidth\":0,\"ticks\":\"\"}},\"marker\":{\"colorbar\":{\"outlinewidth\":0,\"ticks\":\"\"}},\"type\":\"scatter3d\"}],\"scattercarpet\":[{\"marker\":{\"colorbar\":{\"outlinewidth\":0,\"ticks\":\"\"}},\"type\":\"scattercarpet\"}],\"scattergeo\":[{\"marker\":{\"colorbar\":{\"outlinewidth\":0,\"ticks\":\"\"}},\"type\":\"scattergeo\"}],\"scattergl\":[{\"marker\":{\"colorbar\":{\"outlinewidth\":0,\"ticks\":\"\"}},\"type\":\"scattergl\"}],\"scattermapbox\":[{\"marker\":{\"colorbar\":{\"outlinewidth\":0,\"ticks\":\"\"}},\"type\":\"scattermapbox\"}],\"scatterpolargl\":[{\"marker\":{\"colorbar\":{\"outlinewidth\":0,\"ticks\":\"\"}},\"type\":\"scatterpolargl\"}],\"scatterpolar\":[{\"marker\":{\"colorbar\":{\"outlinewidth\":0,\"ticks\":\"\"}},\"type\":\"scatterpolar\"}],\"scatter\":[{\"fillpattern\":{\"fillmode\":\"overlay\",\"size\":10,\"solidity\":0.2},\"type\":\"scatter\"}],\"scatterternary\":[{\"marker\":{\"colorbar\":{\"outlinewidth\":0,\"ticks\":\"\"}},\"type\":\"scatterternary\"}],\"surface\":[{\"colorbar\":{\"outlinewidth\":0,\"ticks\":\"\"},\"colorscale\":[[0.0,\"#0d0887\"],[0.1111111111111111,\"#46039f\"],[0.2222222222222222,\"#7201a8\"],[0.3333333333333333,\"#9c179e\"],[0.4444444444444444,\"#bd3786\"],[0.5555555555555556,\"#d8576b\"],[0.6666666666666666,\"#ed7953\"],[0.7777777777777778,\"#fb9f3a\"],[0.8888888888888888,\"#fdca26\"],[1.0,\"#f0f921\"]],\"type\":\"surface\"}],\"table\":[{\"cells\":{\"fill\":{\"color\":\"#EBF0F8\"},\"line\":{\"color\":\"white\"}},\"header\":{\"fill\":{\"color\":\"#C8D4E3\"},\"line\":{\"color\":\"white\"}},\"type\":\"table\"}]},\"layout\":{\"annotationdefaults\":{\"arrowcolor\":\"#2a3f5f\",\"arrowhead\":0,\"arrowwidth\":1},\"autotypenumbers\":\"strict\",\"coloraxis\":{\"colorbar\":{\"outlinewidth\":0,\"ticks\":\"\"}},\"colorscale\":{\"diverging\":[[0,\"#8e0152\"],[0.1,\"#c51b7d\"],[0.2,\"#de77ae\"],[0.3,\"#f1b6da\"],[0.4,\"#fde0ef\"],[0.5,\"#f7f7f7\"],[0.6,\"#e6f5d0\"],[0.7,\"#b8e186\"],[0.8,\"#7fbc41\"],[0.9,\"#4d9221\"],[1,\"#276419\"]],\"sequential\":[[0.0,\"#0d0887\"],[0.1111111111111111,\"#46039f\"],[0.2222222222222222,\"#7201a8\"],[0.3333333333333333,\"#9c179e\"],[0.4444444444444444,\"#bd3786\"],[0.5555555555555556,\"#d8576b\"],[0.6666666666666666,\"#ed7953\"],[0.7777777777777778,\"#fb9f3a\"],[0.8888888888888888,\"#fdca26\"],[1.0,\"#f0f921\"]],\"sequentialminus\":[[0.0,\"#0d0887\"],[0.1111111111111111,\"#46039f\"],[0.2222222222222222,\"#7201a8\"],[0.3333333333333333,\"#9c179e\"],[0.4444444444444444,\"#bd3786\"],[0.5555555555555556,\"#d8576b\"],[0.6666666666666666,\"#ed7953\"],[0.7777777777777778,\"#fb9f3a\"],[0.8888888888888888,\"#fdca26\"],[1.0,\"#f0f921\"]]},\"colorway\":[\"#636efa\",\"#EF553B\",\"#00cc96\",\"#ab63fa\",\"#FFA15A\",\"#19d3f3\",\"#FF6692\",\"#B6E880\",\"#FF97FF\",\"#FECB52\"],\"font\":{\"color\":\"#2a3f5f\"},\"geo\":{\"bgcolor\":\"white\",\"lakecolor\":\"white\",\"landcolor\":\"white\",\"showlakes\":true,\"showland\":true,\"subunitcolor\":\"#C8D4E3\"},\"hoverlabel\":{\"align\":\"left\"},\"hovermode\":\"closest\",\"mapbox\":{\"style\":\"light\"},\"paper_bgcolor\":\"white\",\"plot_bgcolor\":\"white\",\"polar\":{\"angularaxis\":{\"gridcolor\":\"#EBF0F8\",\"linecolor\":\"#EBF0F8\",\"ticks\":\"\"},\"bgcolor\":\"white\",\"radialaxis\":{\"gridcolor\":\"#EBF0F8\",\"linecolor\":\"#EBF0F8\",\"ticks\":\"\"}},\"scene\":{\"xaxis\":{\"backgroundcolor\":\"white\",\"gridcolor\":\"#DFE8F3\",\"gridwidth\":2,\"linecolor\":\"#EBF0F8\",\"showbackground\":true,\"ticks\":\"\",\"zerolinecolor\":\"#EBF0F8\"},\"yaxis\":{\"backgroundcolor\":\"white\",\"gridcolor\":\"#DFE8F3\",\"gridwidth\":2,\"linecolor\":\"#EBF0F8\",\"showbackground\":true,\"ticks\":\"\",\"zerolinecolor\":\"#EBF0F8\"},\"zaxis\":{\"backgroundcolor\":\"white\",\"gridcolor\":\"#DFE8F3\",\"gridwidth\":2,\"linecolor\":\"#EBF0F8\",\"showbackground\":true,\"ticks\":\"\",\"zerolinecolor\":\"#EBF0F8\"}},\"shapedefaults\":{\"line\":{\"color\":\"#2a3f5f\"}},\"ternary\":{\"aaxis\":{\"gridcolor\":\"#DFE8F3\",\"linecolor\":\"#A2B1C6\",\"ticks\":\"\"},\"baxis\":{\"gridcolor\":\"#DFE8F3\",\"linecolor\":\"#A2B1C6\",\"ticks\":\"\"},\"bgcolor\":\"white\",\"caxis\":{\"gridcolor\":\"#DFE8F3\",\"linecolor\":\"#A2B1C6\",\"ticks\":\"\"}},\"title\":{\"x\":0.05},\"xaxis\":{\"automargin\":true,\"gridcolor\":\"#EBF0F8\",\"linecolor\":\"#EBF0F8\",\"ticks\":\"\",\"title\":{\"standoff\":15},\"zerolinecolor\":\"#EBF0F8\",\"zerolinewidth\":2},\"yaxis\":{\"automargin\":true,\"gridcolor\":\"#EBF0F8\",\"linecolor\":\"#EBF0F8\",\"ticks\":\"\",\"title\":{\"standoff\":15},\"zerolinecolor\":\"#EBF0F8\",\"zerolinewidth\":2}}},\"xaxis\":{\"title\":{\"text\":\"Time Intervals\"},\"tickangle\":45},\"title\":{\"text\":\"Distribution of Number of Reviews by Time Interval\"},\"yaxis\":{\"title\":{\"text\":\"Number of Reviews\"}}},                        {\"responsive\": true}                    ).then(function(){\n",
       "                            \n",
       "var gd = document.getElementById('021dccfd-f7aa-4417-a0e8-e1024faaca64');\n",
       "var x = new MutationObserver(function (mutations, observer) {{\n",
       "        var display = window.getComputedStyle(gd).display;\n",
       "        if (!display || display === 'none') {{\n",
       "            console.log([gd, 'removed!']);\n",
       "            Plotly.purge(gd);\n",
       "            observer.disconnect();\n",
       "        }}\n",
       "}});\n",
       "\n",
       "// Listen for the removal of the full notebook cells\n",
       "var notebookContainer = gd.closest('#notebook-container');\n",
       "if (notebookContainer) {{\n",
       "    x.observe(notebookContainer, {childList: true});\n",
       "}}\n",
       "\n",
       "// Listen for the clearing of the current output cell\n",
       "var outputEl = gd.closest('.output');\n",
       "if (outputEl) {{\n",
       "    x.observe(outputEl, {childList: true});\n",
       "}}\n",
       "\n",
       "                        })                };                });            </script>        </div>"
      ]
     },
     "metadata": {},
     "output_type": "display_data"
    }
   ],
   "execution_count": 47
  },
  {
   "cell_type": "code",
   "source": [],
   "metadata": {
    "id": "VZtMOGiV41s7"
   },
   "id": "VZtMOGiV41s7",
   "execution_count": 81,
   "outputs": []
  },
  {
   "cell_type": "markdown",
   "source": [
    "# RQ5"
   ],
   "metadata": {
    "id": "KJb8tyhO-vlc"
   },
   "id": "KJb8tyhO-vlc"
  },
  {
   "cell_type": "markdown",
   "source": [
    " It is interesting to explore the top reviewers to gain insight into their demographic location, the quality of their reviews, and the applications they tend to review most frequently.\n",
    "\n",
    "Determine the ten reviewers with the highest number of reviews in the dataset.\n",
    "What is the percentage of each language used by these top 10 reviewers when submitting a review?\n",
    "Let's examine whether other users found the reviews from these top 10 reviewers helpful or if they were simply spamming. Calculate the average number of valuable votes these reviewers received for their submitted reviews. Elaborate on the results you see.\n",
    "Create a plot showing the distribution of the number of reviews each application received from the top 10 reviewers, arranged in descending order."
   ],
   "metadata": {
    "id": "Q8BFogKa--oM"
   },
   "id": "Q8BFogKa--oM"
  },
  {
   "cell_type": "code",
   "source": "data = pd.read_csv(csv_file_path, usecols=[\"app_id\", \"app_name\", \"review_id\", \"language\", \"votes_helpful\", \"author.steamid\"], nrows=10000)",
   "metadata": {
    "id": "3dYZDI95-wzo",
    "ExecuteTime": {
     "end_time": "2024-10-30T18:07:19.190637Z",
     "start_time": "2024-10-30T18:07:19.062621Z"
    }
   },
   "id": "3dYZDI95-wzo",
   "outputs": [],
   "execution_count": 49
  },
  {
   "cell_type": "code",
   "source": [],
   "metadata": {
    "id": "ReeGOJiuGYro",
    "ExecuteTime": {
     "end_time": "2024-10-30T18:07:20.383363Z",
     "start_time": "2024-10-30T18:07:20.378180Z"
    }
   },
   "id": "ReeGOJiuGYro",
   "outputs": [],
   "execution_count": null
  },
  {
   "cell_type": "code",
   "source": [
    "data"
   ],
   "metadata": {
    "colab": {
     "base_uri": "https://localhost:8080/",
     "height": 423
    },
    "id": "x5KgiS9FAR_A",
    "outputId": "811a4050-e085-4827-ce76-04dc5468d498",
    "ExecuteTime": {
     "end_time": "2024-10-30T18:07:20.862796Z",
     "start_time": "2024-10-30T18:07:20.809179Z"
    }
   },
   "id": "x5KgiS9FAR_A",
   "outputs": [
    {
     "data": {
      "text/plain": [
       "      app_id                  app_name  review_id  language  votes_helpful  \\\n",
       "0     292030  The Witcher 3: Wild Hunt   85185598  schinese              0   \n",
       "1     292030  The Witcher 3: Wild Hunt   85185250  schinese              0   \n",
       "2     292030  The Witcher 3: Wild Hunt   85185111  schinese              0   \n",
       "3     292030  The Witcher 3: Wild Hunt   85184605   english              0   \n",
       "4     292030  The Witcher 3: Wild Hunt   85184287  schinese              0   \n",
       "...      ...                       ...        ...       ...            ...   \n",
       "9995  292030  The Witcher 3: Wild Hunt   83623769   english              0   \n",
       "9996  292030  The Witcher 3: Wild Hunt   83623661  schinese              1   \n",
       "9997  292030  The Witcher 3: Wild Hunt   83623580   koreana              1   \n",
       "9998  292030  The Witcher 3: Wild Hunt   83623547      thai              0   \n",
       "9999  292030  The Witcher 3: Wild Hunt   83623430   english              0   \n",
       "\n",
       "         author.steamid  \n",
       "0     76561199095369542  \n",
       "1     76561198949504115  \n",
       "2     76561199090098988  \n",
       "3     76561199054755373  \n",
       "4     76561199028326951  \n",
       "...                 ...  \n",
       "9995  76561198280791409  \n",
       "9996  76561198433301835  \n",
       "9997  76561198074638991  \n",
       "9998  76561199084164126  \n",
       "9999  76561198012769517  \n",
       "\n",
       "[10000 rows x 6 columns]"
      ],
      "text/html": [
       "<div>\n",
       "<style scoped>\n",
       "    .dataframe tbody tr th:only-of-type {\n",
       "        vertical-align: middle;\n",
       "    }\n",
       "\n",
       "    .dataframe tbody tr th {\n",
       "        vertical-align: top;\n",
       "    }\n",
       "\n",
       "    .dataframe thead th {\n",
       "        text-align: right;\n",
       "    }\n",
       "</style>\n",
       "<table border=\"1\" class=\"dataframe\">\n",
       "  <thead>\n",
       "    <tr style=\"text-align: right;\">\n",
       "      <th></th>\n",
       "      <th>app_id</th>\n",
       "      <th>app_name</th>\n",
       "      <th>review_id</th>\n",
       "      <th>language</th>\n",
       "      <th>votes_helpful</th>\n",
       "      <th>author.steamid</th>\n",
       "    </tr>\n",
       "  </thead>\n",
       "  <tbody>\n",
       "    <tr>\n",
       "      <th>0</th>\n",
       "      <td>292030</td>\n",
       "      <td>The Witcher 3: Wild Hunt</td>\n",
       "      <td>85185598</td>\n",
       "      <td>schinese</td>\n",
       "      <td>0</td>\n",
       "      <td>76561199095369542</td>\n",
       "    </tr>\n",
       "    <tr>\n",
       "      <th>1</th>\n",
       "      <td>292030</td>\n",
       "      <td>The Witcher 3: Wild Hunt</td>\n",
       "      <td>85185250</td>\n",
       "      <td>schinese</td>\n",
       "      <td>0</td>\n",
       "      <td>76561198949504115</td>\n",
       "    </tr>\n",
       "    <tr>\n",
       "      <th>2</th>\n",
       "      <td>292030</td>\n",
       "      <td>The Witcher 3: Wild Hunt</td>\n",
       "      <td>85185111</td>\n",
       "      <td>schinese</td>\n",
       "      <td>0</td>\n",
       "      <td>76561199090098988</td>\n",
       "    </tr>\n",
       "    <tr>\n",
       "      <th>3</th>\n",
       "      <td>292030</td>\n",
       "      <td>The Witcher 3: Wild Hunt</td>\n",
       "      <td>85184605</td>\n",
       "      <td>english</td>\n",
       "      <td>0</td>\n",
       "      <td>76561199054755373</td>\n",
       "    </tr>\n",
       "    <tr>\n",
       "      <th>4</th>\n",
       "      <td>292030</td>\n",
       "      <td>The Witcher 3: Wild Hunt</td>\n",
       "      <td>85184287</td>\n",
       "      <td>schinese</td>\n",
       "      <td>0</td>\n",
       "      <td>76561199028326951</td>\n",
       "    </tr>\n",
       "    <tr>\n",
       "      <th>...</th>\n",
       "      <td>...</td>\n",
       "      <td>...</td>\n",
       "      <td>...</td>\n",
       "      <td>...</td>\n",
       "      <td>...</td>\n",
       "      <td>...</td>\n",
       "    </tr>\n",
       "    <tr>\n",
       "      <th>9995</th>\n",
       "      <td>292030</td>\n",
       "      <td>The Witcher 3: Wild Hunt</td>\n",
       "      <td>83623769</td>\n",
       "      <td>english</td>\n",
       "      <td>0</td>\n",
       "      <td>76561198280791409</td>\n",
       "    </tr>\n",
       "    <tr>\n",
       "      <th>9996</th>\n",
       "      <td>292030</td>\n",
       "      <td>The Witcher 3: Wild Hunt</td>\n",
       "      <td>83623661</td>\n",
       "      <td>schinese</td>\n",
       "      <td>1</td>\n",
       "      <td>76561198433301835</td>\n",
       "    </tr>\n",
       "    <tr>\n",
       "      <th>9997</th>\n",
       "      <td>292030</td>\n",
       "      <td>The Witcher 3: Wild Hunt</td>\n",
       "      <td>83623580</td>\n",
       "      <td>koreana</td>\n",
       "      <td>1</td>\n",
       "      <td>76561198074638991</td>\n",
       "    </tr>\n",
       "    <tr>\n",
       "      <th>9998</th>\n",
       "      <td>292030</td>\n",
       "      <td>The Witcher 3: Wild Hunt</td>\n",
       "      <td>83623547</td>\n",
       "      <td>thai</td>\n",
       "      <td>0</td>\n",
       "      <td>76561199084164126</td>\n",
       "    </tr>\n",
       "    <tr>\n",
       "      <th>9999</th>\n",
       "      <td>292030</td>\n",
       "      <td>The Witcher 3: Wild Hunt</td>\n",
       "      <td>83623430</td>\n",
       "      <td>english</td>\n",
       "      <td>0</td>\n",
       "      <td>76561198012769517</td>\n",
       "    </tr>\n",
       "  </tbody>\n",
       "</table>\n",
       "<p>10000 rows × 6 columns</p>\n",
       "</div>"
      ]
     },
     "execution_count": 50,
     "metadata": {},
     "output_type": "execute_result"
    }
   ],
   "execution_count": 50
  },
  {
   "cell_type": "code",
   "source": [
    "top_reviewers = data.groupby(\"author.steamid\")[\"review_id\"].count().nlargest(10).index\n",
    "\n",
    "\n"
   ],
   "metadata": {
    "id": "sfx_SLMpAt9P",
    "ExecuteTime": {
     "end_time": "2024-10-30T18:07:22.923227Z",
     "start_time": "2024-10-30T18:07:22.889866Z"
    }
   },
   "id": "sfx_SLMpAt9P",
   "outputs": [],
   "execution_count": 51
  },
  {
   "cell_type": "code",
   "source": [
    "top_reviewers"
   ],
   "metadata": {
    "colab": {
     "base_uri": "https://localhost:8080/"
    },
    "id": "uwlZTKtYErfd",
    "outputId": "3bc32166-e50b-4041-a37c-e2ede16e50a7",
    "ExecuteTime": {
     "end_time": "2024-10-30T18:07:23.085556Z",
     "start_time": "2024-10-30T18:07:23.077729Z"
    }
   },
   "id": "uwlZTKtYErfd",
   "outputs": [
    {
     "data": {
      "text/plain": [
       "Index([76561197960287542, 76561197960299337, 76561197960352238,\n",
       "       76561197960382714, 76561197960385470, 76561197960423098,\n",
       "       76561197960921967, 76561197961024075, 76561197961141805,\n",
       "       76561197961215767],\n",
       "      dtype='int64', name='author.steamid')"
      ]
     },
     "execution_count": 52,
     "metadata": {},
     "output_type": "execute_result"
    }
   ],
   "execution_count": 52
  },
  {
   "cell_type": "code",
   "source": [
    "top_reviews = data[data[\"author.steamid\"].isin(top_reviewers)]\n",
    "\n",
    "top_reviews"
   ],
   "metadata": {
    "colab": {
     "base_uri": "https://localhost:8080/",
     "height": 423
    },
    "id": "MDi7Rk5qCZXM",
    "outputId": "a5631957-56d6-4082-e968-22c0300411b8",
    "ExecuteTime": {
     "end_time": "2024-10-30T18:07:23.459051Z",
     "start_time": "2024-10-30T18:07:23.439796Z"
    }
   },
   "id": "MDi7Rk5qCZXM",
   "outputs": [
    {
     "data": {
      "text/plain": [
       "      app_id                  app_name  review_id language  votes_helpful  \\\n",
       "1566  292030  The Witcher 3: Wild Hunt   84877458  english              0   \n",
       "1849  292030  The Witcher 3: Wild Hunt   84829758  english              0   \n",
       "2002  292030  The Witcher 3: Wild Hunt   84800653  russian              0   \n",
       "2423  292030  The Witcher 3: Wild Hunt   84729501  english              0   \n",
       "2940  292030  The Witcher 3: Wild Hunt   84641714  english              0   \n",
       "4384  292030  The Witcher 3: Wild Hunt   84413008  english              0   \n",
       "5080  292030  The Witcher 3: Wild Hunt   84311242  spanish              0   \n",
       "5259  292030  The Witcher 3: Wild Hunt   84285377  english              1   \n",
       "8843  292030  The Witcher 3: Wild Hunt   83778264  english              0   \n",
       "8970  292030  The Witcher 3: Wild Hunt   83758126  english              0   \n",
       "\n",
       "         author.steamid  \n",
       "1566  76561197960423098  \n",
       "1849  76561197960299337  \n",
       "2002  76561197960287542  \n",
       "2423  76561197960382714  \n",
       "2940  76561197961024075  \n",
       "4384  76561197960385470  \n",
       "5080  76561197961141805  \n",
       "5259  76561197960921967  \n",
       "8843  76561197961215767  \n",
       "8970  76561197960352238  "
      ],
      "text/html": [
       "<div>\n",
       "<style scoped>\n",
       "    .dataframe tbody tr th:only-of-type {\n",
       "        vertical-align: middle;\n",
       "    }\n",
       "\n",
       "    .dataframe tbody tr th {\n",
       "        vertical-align: top;\n",
       "    }\n",
       "\n",
       "    .dataframe thead th {\n",
       "        text-align: right;\n",
       "    }\n",
       "</style>\n",
       "<table border=\"1\" class=\"dataframe\">\n",
       "  <thead>\n",
       "    <tr style=\"text-align: right;\">\n",
       "      <th></th>\n",
       "      <th>app_id</th>\n",
       "      <th>app_name</th>\n",
       "      <th>review_id</th>\n",
       "      <th>language</th>\n",
       "      <th>votes_helpful</th>\n",
       "      <th>author.steamid</th>\n",
       "    </tr>\n",
       "  </thead>\n",
       "  <tbody>\n",
       "    <tr>\n",
       "      <th>1566</th>\n",
       "      <td>292030</td>\n",
       "      <td>The Witcher 3: Wild Hunt</td>\n",
       "      <td>84877458</td>\n",
       "      <td>english</td>\n",
       "      <td>0</td>\n",
       "      <td>76561197960423098</td>\n",
       "    </tr>\n",
       "    <tr>\n",
       "      <th>1849</th>\n",
       "      <td>292030</td>\n",
       "      <td>The Witcher 3: Wild Hunt</td>\n",
       "      <td>84829758</td>\n",
       "      <td>english</td>\n",
       "      <td>0</td>\n",
       "      <td>76561197960299337</td>\n",
       "    </tr>\n",
       "    <tr>\n",
       "      <th>2002</th>\n",
       "      <td>292030</td>\n",
       "      <td>The Witcher 3: Wild Hunt</td>\n",
       "      <td>84800653</td>\n",
       "      <td>russian</td>\n",
       "      <td>0</td>\n",
       "      <td>76561197960287542</td>\n",
       "    </tr>\n",
       "    <tr>\n",
       "      <th>2423</th>\n",
       "      <td>292030</td>\n",
       "      <td>The Witcher 3: Wild Hunt</td>\n",
       "      <td>84729501</td>\n",
       "      <td>english</td>\n",
       "      <td>0</td>\n",
       "      <td>76561197960382714</td>\n",
       "    </tr>\n",
       "    <tr>\n",
       "      <th>2940</th>\n",
       "      <td>292030</td>\n",
       "      <td>The Witcher 3: Wild Hunt</td>\n",
       "      <td>84641714</td>\n",
       "      <td>english</td>\n",
       "      <td>0</td>\n",
       "      <td>76561197961024075</td>\n",
       "    </tr>\n",
       "    <tr>\n",
       "      <th>4384</th>\n",
       "      <td>292030</td>\n",
       "      <td>The Witcher 3: Wild Hunt</td>\n",
       "      <td>84413008</td>\n",
       "      <td>english</td>\n",
       "      <td>0</td>\n",
       "      <td>76561197960385470</td>\n",
       "    </tr>\n",
       "    <tr>\n",
       "      <th>5080</th>\n",
       "      <td>292030</td>\n",
       "      <td>The Witcher 3: Wild Hunt</td>\n",
       "      <td>84311242</td>\n",
       "      <td>spanish</td>\n",
       "      <td>0</td>\n",
       "      <td>76561197961141805</td>\n",
       "    </tr>\n",
       "    <tr>\n",
       "      <th>5259</th>\n",
       "      <td>292030</td>\n",
       "      <td>The Witcher 3: Wild Hunt</td>\n",
       "      <td>84285377</td>\n",
       "      <td>english</td>\n",
       "      <td>1</td>\n",
       "      <td>76561197960921967</td>\n",
       "    </tr>\n",
       "    <tr>\n",
       "      <th>8843</th>\n",
       "      <td>292030</td>\n",
       "      <td>The Witcher 3: Wild Hunt</td>\n",
       "      <td>83778264</td>\n",
       "      <td>english</td>\n",
       "      <td>0</td>\n",
       "      <td>76561197961215767</td>\n",
       "    </tr>\n",
       "    <tr>\n",
       "      <th>8970</th>\n",
       "      <td>292030</td>\n",
       "      <td>The Witcher 3: Wild Hunt</td>\n",
       "      <td>83758126</td>\n",
       "      <td>english</td>\n",
       "      <td>0</td>\n",
       "      <td>76561197960352238</td>\n",
       "    </tr>\n",
       "  </tbody>\n",
       "</table>\n",
       "</div>"
      ]
     },
     "execution_count": 53,
     "metadata": {},
     "output_type": "execute_result"
    }
   ],
   "execution_count": 53
  },
  {
   "cell_type": "code",
   "source": [],
   "metadata": {
    "id": "iacYvstSEbbC",
    "ExecuteTime": {
     "end_time": "2024-10-30T18:07:23.982940Z",
     "start_time": "2024-10-30T18:07:23.978878Z"
    }
   },
   "id": "iacYvstSEbbC",
   "outputs": [],
   "execution_count": null
  },
  {
   "cell_type": "code",
   "source": [
    "language_percentage = top_reviews[\"language\"].value_counts(normalize=True) * 100\n",
    "\n",
    "language_percentage"
   ],
   "metadata": {
    "colab": {
     "base_uri": "https://localhost:8080/",
     "height": 209
    },
    "id": "MjUP6CIsCeoP",
    "outputId": "fac9da2c-8d9a-476a-b62f-c020ed3d4293",
    "ExecuteTime": {
     "end_time": "2024-10-30T18:07:24.927404Z",
     "start_time": "2024-10-30T18:07:24.911670Z"
    }
   },
   "id": "MjUP6CIsCeoP",
   "outputs": [
    {
     "data": {
      "text/plain": [
       "language\n",
       "english   80.000\n",
       "russian   10.000\n",
       "spanish   10.000\n",
       "Name: proportion, dtype: float64"
      ]
     },
     "execution_count": 54,
     "metadata": {},
     "output_type": "execute_result"
    }
   ],
   "execution_count": 54
  },
  {
   "cell_type": "code",
   "source": [
    "average_helpful_votes = top_reviews.groupby(\"author.steamid\")[\"votes_helpful\"].mean()\n",
    "\n",
    "average_helpful_votes"
   ],
   "metadata": {
    "colab": {
     "base_uri": "https://localhost:8080/",
     "height": 429
    },
    "id": "6VTBNf1wEwzk",
    "outputId": "d9a17470-02e4-4215-e112-03743517760f",
    "ExecuteTime": {
     "end_time": "2024-10-30T18:07:25.183031Z",
     "start_time": "2024-10-30T18:07:25.167050Z"
    }
   },
   "id": "6VTBNf1wEwzk",
   "outputs": [
    {
     "data": {
      "text/plain": [
       "author.steamid\n",
       "76561197960287542   0.000\n",
       "76561197960299337   0.000\n",
       "76561197960352238   0.000\n",
       "76561197960382714   0.000\n",
       "76561197960385470   0.000\n",
       "76561197960423098   0.000\n",
       "76561197960921967   1.000\n",
       "76561197961024075   0.000\n",
       "76561197961141805   0.000\n",
       "76561197961215767   0.000\n",
       "Name: votes_helpful, dtype: float64"
      ]
     },
     "execution_count": 55,
     "metadata": {},
     "output_type": "execute_result"
    }
   ],
   "execution_count": 55
  },
  {
   "cell_type": "code",
   "source": [
    "\n",
    "def plot_top_reviewer_app_distribution_plotly(data):\n",
    "    top_reviewers = data.groupby(\"author.steamid\")[\"review_id\"].count().nlargest(10).index\n",
    "\n",
    "    top_reviews = data[data[\"author.steamid\"].isin(top_reviewers)]\n",
    "\n",
    "    app_review_counts = top_reviews.groupby(\"app_name\")[\"review_id\"].count().sort_values(ascending=False).reset_index()\n",
    "\n",
    "    fig = px.bar(app_review_counts, x=\"app_name\", y=\"review_id\",\n",
    "                 title=\"Distribution of the Number of Reviews Each Application Received from the Top 10 Reviewers\",\n",
    "                 labels={\"app_name\": \"Application Name\", \"review_id\": \"Number of Reviews\"})\n",
    "\n",
    "    fig.update_layout(xaxis=dict(tickangle=45), template=\"plotly_white\")\n",
    "    fig.show()\n",
    "\n"
   ],
   "metadata": {
    "id": "7JCXQDqmE9JY",
    "ExecuteTime": {
     "end_time": "2024-10-30T18:07:25.360076Z",
     "start_time": "2024-10-30T18:07:25.348569Z"
    }
   },
   "id": "7JCXQDqmE9JY",
   "outputs": [],
   "execution_count": 56
  },
  {
   "cell_type": "code",
   "source": [
    "plot_top_reviewer_app_distribution_plotly(data)"
   ],
   "metadata": {
    "colab": {
     "base_uri": "https://localhost:8080/",
     "height": 542
    },
    "id": "ZfX54fV6FrKh",
    "outputId": "35cd3a1a-7cdd-4580-d631-c9f58df2f7c4",
    "ExecuteTime": {
     "end_time": "2024-10-30T18:07:25.727090Z",
     "start_time": "2024-10-30T18:07:25.568799Z"
    }
   },
   "id": "ZfX54fV6FrKh",
   "outputs": [
    {
     "data": {
      "application/vnd.plotly.v1+json": {
       "data": [
        {
         "alignmentgroup": "True",
         "hovertemplate": "Application Name=%{x}<br>Number of Reviews=%{y}<extra></extra>",
         "legendgroup": "",
         "marker": {
          "color": "#636efa",
          "pattern": {
           "shape": ""
          }
         },
         "name": "",
         "offsetgroup": "",
         "orientation": "v",
         "showlegend": false,
         "textposition": "auto",
         "x": [
          "The Witcher 3: Wild Hunt"
         ],
         "xaxis": "x",
         "y": [
          10
         ],
         "yaxis": "y",
         "type": "bar"
        }
       ],
       "layout": {
        "template": {
         "data": {
          "barpolar": [
           {
            "marker": {
             "line": {
              "color": "white",
              "width": 0.5
             },
             "pattern": {
              "fillmode": "overlay",
              "size": 10,
              "solidity": 0.2
             }
            },
            "type": "barpolar"
           }
          ],
          "bar": [
           {
            "error_x": {
             "color": "#2a3f5f"
            },
            "error_y": {
             "color": "#2a3f5f"
            },
            "marker": {
             "line": {
              "color": "white",
              "width": 0.5
             },
             "pattern": {
              "fillmode": "overlay",
              "size": 10,
              "solidity": 0.2
             }
            },
            "type": "bar"
           }
          ],
          "carpet": [
           {
            "aaxis": {
             "endlinecolor": "#2a3f5f",
             "gridcolor": "#C8D4E3",
             "linecolor": "#C8D4E3",
             "minorgridcolor": "#C8D4E3",
             "startlinecolor": "#2a3f5f"
            },
            "baxis": {
             "endlinecolor": "#2a3f5f",
             "gridcolor": "#C8D4E3",
             "linecolor": "#C8D4E3",
             "minorgridcolor": "#C8D4E3",
             "startlinecolor": "#2a3f5f"
            },
            "type": "carpet"
           }
          ],
          "choropleth": [
           {
            "colorbar": {
             "outlinewidth": 0,
             "ticks": ""
            },
            "type": "choropleth"
           }
          ],
          "contourcarpet": [
           {
            "colorbar": {
             "outlinewidth": 0,
             "ticks": ""
            },
            "type": "contourcarpet"
           }
          ],
          "contour": [
           {
            "colorbar": {
             "outlinewidth": 0,
             "ticks": ""
            },
            "colorscale": [
             [
              0.0,
              "#0d0887"
             ],
             [
              0.1111111111111111,
              "#46039f"
             ],
             [
              0.2222222222222222,
              "#7201a8"
             ],
             [
              0.3333333333333333,
              "#9c179e"
             ],
             [
              0.4444444444444444,
              "#bd3786"
             ],
             [
              0.5555555555555556,
              "#d8576b"
             ],
             [
              0.6666666666666666,
              "#ed7953"
             ],
             [
              0.7777777777777778,
              "#fb9f3a"
             ],
             [
              0.8888888888888888,
              "#fdca26"
             ],
             [
              1.0,
              "#f0f921"
             ]
            ],
            "type": "contour"
           }
          ],
          "heatmapgl": [
           {
            "colorbar": {
             "outlinewidth": 0,
             "ticks": ""
            },
            "colorscale": [
             [
              0.0,
              "#0d0887"
             ],
             [
              0.1111111111111111,
              "#46039f"
             ],
             [
              0.2222222222222222,
              "#7201a8"
             ],
             [
              0.3333333333333333,
              "#9c179e"
             ],
             [
              0.4444444444444444,
              "#bd3786"
             ],
             [
              0.5555555555555556,
              "#d8576b"
             ],
             [
              0.6666666666666666,
              "#ed7953"
             ],
             [
              0.7777777777777778,
              "#fb9f3a"
             ],
             [
              0.8888888888888888,
              "#fdca26"
             ],
             [
              1.0,
              "#f0f921"
             ]
            ],
            "type": "heatmapgl"
           }
          ],
          "heatmap": [
           {
            "colorbar": {
             "outlinewidth": 0,
             "ticks": ""
            },
            "colorscale": [
             [
              0.0,
              "#0d0887"
             ],
             [
              0.1111111111111111,
              "#46039f"
             ],
             [
              0.2222222222222222,
              "#7201a8"
             ],
             [
              0.3333333333333333,
              "#9c179e"
             ],
             [
              0.4444444444444444,
              "#bd3786"
             ],
             [
              0.5555555555555556,
              "#d8576b"
             ],
             [
              0.6666666666666666,
              "#ed7953"
             ],
             [
              0.7777777777777778,
              "#fb9f3a"
             ],
             [
              0.8888888888888888,
              "#fdca26"
             ],
             [
              1.0,
              "#f0f921"
             ]
            ],
            "type": "heatmap"
           }
          ],
          "histogram2dcontour": [
           {
            "colorbar": {
             "outlinewidth": 0,
             "ticks": ""
            },
            "colorscale": [
             [
              0.0,
              "#0d0887"
             ],
             [
              0.1111111111111111,
              "#46039f"
             ],
             [
              0.2222222222222222,
              "#7201a8"
             ],
             [
              0.3333333333333333,
              "#9c179e"
             ],
             [
              0.4444444444444444,
              "#bd3786"
             ],
             [
              0.5555555555555556,
              "#d8576b"
             ],
             [
              0.6666666666666666,
              "#ed7953"
             ],
             [
              0.7777777777777778,
              "#fb9f3a"
             ],
             [
              0.8888888888888888,
              "#fdca26"
             ],
             [
              1.0,
              "#f0f921"
             ]
            ],
            "type": "histogram2dcontour"
           }
          ],
          "histogram2d": [
           {
            "colorbar": {
             "outlinewidth": 0,
             "ticks": ""
            },
            "colorscale": [
             [
              0.0,
              "#0d0887"
             ],
             [
              0.1111111111111111,
              "#46039f"
             ],
             [
              0.2222222222222222,
              "#7201a8"
             ],
             [
              0.3333333333333333,
              "#9c179e"
             ],
             [
              0.4444444444444444,
              "#bd3786"
             ],
             [
              0.5555555555555556,
              "#d8576b"
             ],
             [
              0.6666666666666666,
              "#ed7953"
             ],
             [
              0.7777777777777778,
              "#fb9f3a"
             ],
             [
              0.8888888888888888,
              "#fdca26"
             ],
             [
              1.0,
              "#f0f921"
             ]
            ],
            "type": "histogram2d"
           }
          ],
          "histogram": [
           {
            "marker": {
             "pattern": {
              "fillmode": "overlay",
              "size": 10,
              "solidity": 0.2
             }
            },
            "type": "histogram"
           }
          ],
          "mesh3d": [
           {
            "colorbar": {
             "outlinewidth": 0,
             "ticks": ""
            },
            "type": "mesh3d"
           }
          ],
          "parcoords": [
           {
            "line": {
             "colorbar": {
              "outlinewidth": 0,
              "ticks": ""
             }
            },
            "type": "parcoords"
           }
          ],
          "pie": [
           {
            "automargin": true,
            "type": "pie"
           }
          ],
          "scatter3d": [
           {
            "line": {
             "colorbar": {
              "outlinewidth": 0,
              "ticks": ""
             }
            },
            "marker": {
             "colorbar": {
              "outlinewidth": 0,
              "ticks": ""
             }
            },
            "type": "scatter3d"
           }
          ],
          "scattercarpet": [
           {
            "marker": {
             "colorbar": {
              "outlinewidth": 0,
              "ticks": ""
             }
            },
            "type": "scattercarpet"
           }
          ],
          "scattergeo": [
           {
            "marker": {
             "colorbar": {
              "outlinewidth": 0,
              "ticks": ""
             }
            },
            "type": "scattergeo"
           }
          ],
          "scattergl": [
           {
            "marker": {
             "colorbar": {
              "outlinewidth": 0,
              "ticks": ""
             }
            },
            "type": "scattergl"
           }
          ],
          "scattermapbox": [
           {
            "marker": {
             "colorbar": {
              "outlinewidth": 0,
              "ticks": ""
             }
            },
            "type": "scattermapbox"
           }
          ],
          "scatterpolargl": [
           {
            "marker": {
             "colorbar": {
              "outlinewidth": 0,
              "ticks": ""
             }
            },
            "type": "scatterpolargl"
           }
          ],
          "scatterpolar": [
           {
            "marker": {
             "colorbar": {
              "outlinewidth": 0,
              "ticks": ""
             }
            },
            "type": "scatterpolar"
           }
          ],
          "scatter": [
           {
            "fillpattern": {
             "fillmode": "overlay",
             "size": 10,
             "solidity": 0.2
            },
            "type": "scatter"
           }
          ],
          "scatterternary": [
           {
            "marker": {
             "colorbar": {
              "outlinewidth": 0,
              "ticks": ""
             }
            },
            "type": "scatterternary"
           }
          ],
          "surface": [
           {
            "colorbar": {
             "outlinewidth": 0,
             "ticks": ""
            },
            "colorscale": [
             [
              0.0,
              "#0d0887"
             ],
             [
              0.1111111111111111,
              "#46039f"
             ],
             [
              0.2222222222222222,
              "#7201a8"
             ],
             [
              0.3333333333333333,
              "#9c179e"
             ],
             [
              0.4444444444444444,
              "#bd3786"
             ],
             [
              0.5555555555555556,
              "#d8576b"
             ],
             [
              0.6666666666666666,
              "#ed7953"
             ],
             [
              0.7777777777777778,
              "#fb9f3a"
             ],
             [
              0.8888888888888888,
              "#fdca26"
             ],
             [
              1.0,
              "#f0f921"
             ]
            ],
            "type": "surface"
           }
          ],
          "table": [
           {
            "cells": {
             "fill": {
              "color": "#EBF0F8"
             },
             "line": {
              "color": "white"
             }
            },
            "header": {
             "fill": {
              "color": "#C8D4E3"
             },
             "line": {
              "color": "white"
             }
            },
            "type": "table"
           }
          ]
         },
         "layout": {
          "annotationdefaults": {
           "arrowcolor": "#2a3f5f",
           "arrowhead": 0,
           "arrowwidth": 1
          },
          "autotypenumbers": "strict",
          "coloraxis": {
           "colorbar": {
            "outlinewidth": 0,
            "ticks": ""
           }
          },
          "colorscale": {
           "diverging": [
            [
             0,
             "#8e0152"
            ],
            [
             0.1,
             "#c51b7d"
            ],
            [
             0.2,
             "#de77ae"
            ],
            [
             0.3,
             "#f1b6da"
            ],
            [
             0.4,
             "#fde0ef"
            ],
            [
             0.5,
             "#f7f7f7"
            ],
            [
             0.6,
             "#e6f5d0"
            ],
            [
             0.7,
             "#b8e186"
            ],
            [
             0.8,
             "#7fbc41"
            ],
            [
             0.9,
             "#4d9221"
            ],
            [
             1,
             "#276419"
            ]
           ],
           "sequential": [
            [
             0.0,
             "#0d0887"
            ],
            [
             0.1111111111111111,
             "#46039f"
            ],
            [
             0.2222222222222222,
             "#7201a8"
            ],
            [
             0.3333333333333333,
             "#9c179e"
            ],
            [
             0.4444444444444444,
             "#bd3786"
            ],
            [
             0.5555555555555556,
             "#d8576b"
            ],
            [
             0.6666666666666666,
             "#ed7953"
            ],
            [
             0.7777777777777778,
             "#fb9f3a"
            ],
            [
             0.8888888888888888,
             "#fdca26"
            ],
            [
             1.0,
             "#f0f921"
            ]
           ],
           "sequentialminus": [
            [
             0.0,
             "#0d0887"
            ],
            [
             0.1111111111111111,
             "#46039f"
            ],
            [
             0.2222222222222222,
             "#7201a8"
            ],
            [
             0.3333333333333333,
             "#9c179e"
            ],
            [
             0.4444444444444444,
             "#bd3786"
            ],
            [
             0.5555555555555556,
             "#d8576b"
            ],
            [
             0.6666666666666666,
             "#ed7953"
            ],
            [
             0.7777777777777778,
             "#fb9f3a"
            ],
            [
             0.8888888888888888,
             "#fdca26"
            ],
            [
             1.0,
             "#f0f921"
            ]
           ]
          },
          "colorway": [
           "#636efa",
           "#EF553B",
           "#00cc96",
           "#ab63fa",
           "#FFA15A",
           "#19d3f3",
           "#FF6692",
           "#B6E880",
           "#FF97FF",
           "#FECB52"
          ],
          "font": {
           "color": "#2a3f5f"
          },
          "geo": {
           "bgcolor": "white",
           "lakecolor": "white",
           "landcolor": "white",
           "showlakes": true,
           "showland": true,
           "subunitcolor": "#C8D4E3"
          },
          "hoverlabel": {
           "align": "left"
          },
          "hovermode": "closest",
          "mapbox": {
           "style": "light"
          },
          "paper_bgcolor": "white",
          "plot_bgcolor": "white",
          "polar": {
           "angularaxis": {
            "gridcolor": "#EBF0F8",
            "linecolor": "#EBF0F8",
            "ticks": ""
           },
           "bgcolor": "white",
           "radialaxis": {
            "gridcolor": "#EBF0F8",
            "linecolor": "#EBF0F8",
            "ticks": ""
           }
          },
          "scene": {
           "xaxis": {
            "backgroundcolor": "white",
            "gridcolor": "#DFE8F3",
            "gridwidth": 2,
            "linecolor": "#EBF0F8",
            "showbackground": true,
            "ticks": "",
            "zerolinecolor": "#EBF0F8"
           },
           "yaxis": {
            "backgroundcolor": "white",
            "gridcolor": "#DFE8F3",
            "gridwidth": 2,
            "linecolor": "#EBF0F8",
            "showbackground": true,
            "ticks": "",
            "zerolinecolor": "#EBF0F8"
           },
           "zaxis": {
            "backgroundcolor": "white",
            "gridcolor": "#DFE8F3",
            "gridwidth": 2,
            "linecolor": "#EBF0F8",
            "showbackground": true,
            "ticks": "",
            "zerolinecolor": "#EBF0F8"
           }
          },
          "shapedefaults": {
           "line": {
            "color": "#2a3f5f"
           }
          },
          "ternary": {
           "aaxis": {
            "gridcolor": "#DFE8F3",
            "linecolor": "#A2B1C6",
            "ticks": ""
           },
           "baxis": {
            "gridcolor": "#DFE8F3",
            "linecolor": "#A2B1C6",
            "ticks": ""
           },
           "bgcolor": "white",
           "caxis": {
            "gridcolor": "#DFE8F3",
            "linecolor": "#A2B1C6",
            "ticks": ""
           }
          },
          "title": {
           "x": 0.05
          },
          "xaxis": {
           "automargin": true,
           "gridcolor": "#EBF0F8",
           "linecolor": "#EBF0F8",
           "ticks": "",
           "title": {
            "standoff": 15
           },
           "zerolinecolor": "#EBF0F8",
           "zerolinewidth": 2
          },
          "yaxis": {
           "automargin": true,
           "gridcolor": "#EBF0F8",
           "linecolor": "#EBF0F8",
           "ticks": "",
           "title": {
            "standoff": 15
           },
           "zerolinecolor": "#EBF0F8",
           "zerolinewidth": 2
          }
         }
        },
        "xaxis": {
         "anchor": "y",
         "domain": [
          0.0,
          1.0
         ],
         "title": {
          "text": "Application Name"
         },
         "tickangle": 45
        },
        "yaxis": {
         "anchor": "x",
         "domain": [
          0.0,
          1.0
         ],
         "title": {
          "text": "Number of Reviews"
         }
        },
        "legend": {
         "tracegroupgap": 0
        },
        "title": {
         "text": "Distribution of the Number of Reviews Each Application Received from the Top 10 Reviewers"
        },
        "barmode": "relative"
       },
       "config": {
        "plotlyServerURL": "https://plot.ly"
       }
      },
      "text/html": [
       "<div>                            <div id=\"8151272f-fafc-4d96-85fe-8aa5b340ab57\" class=\"plotly-graph-div\" style=\"height:525px; width:100%;\"></div>            <script type=\"text/javascript\">                require([\"plotly\"], function(Plotly) {                    window.PLOTLYENV=window.PLOTLYENV || {};                                    if (document.getElementById(\"8151272f-fafc-4d96-85fe-8aa5b340ab57\")) {                    Plotly.newPlot(                        \"8151272f-fafc-4d96-85fe-8aa5b340ab57\",                        [{\"alignmentgroup\":\"True\",\"hovertemplate\":\"Application Name=%{x}\\u003cbr\\u003eNumber of Reviews=%{y}\\u003cextra\\u003e\\u003c\\u002fextra\\u003e\",\"legendgroup\":\"\",\"marker\":{\"color\":\"#636efa\",\"pattern\":{\"shape\":\"\"}},\"name\":\"\",\"offsetgroup\":\"\",\"orientation\":\"v\",\"showlegend\":false,\"textposition\":\"auto\",\"x\":[\"The Witcher 3: Wild Hunt\"],\"xaxis\":\"x\",\"y\":[10],\"yaxis\":\"y\",\"type\":\"bar\"}],                        {\"template\":{\"data\":{\"barpolar\":[{\"marker\":{\"line\":{\"color\":\"white\",\"width\":0.5},\"pattern\":{\"fillmode\":\"overlay\",\"size\":10,\"solidity\":0.2}},\"type\":\"barpolar\"}],\"bar\":[{\"error_x\":{\"color\":\"#2a3f5f\"},\"error_y\":{\"color\":\"#2a3f5f\"},\"marker\":{\"line\":{\"color\":\"white\",\"width\":0.5},\"pattern\":{\"fillmode\":\"overlay\",\"size\":10,\"solidity\":0.2}},\"type\":\"bar\"}],\"carpet\":[{\"aaxis\":{\"endlinecolor\":\"#2a3f5f\",\"gridcolor\":\"#C8D4E3\",\"linecolor\":\"#C8D4E3\",\"minorgridcolor\":\"#C8D4E3\",\"startlinecolor\":\"#2a3f5f\"},\"baxis\":{\"endlinecolor\":\"#2a3f5f\",\"gridcolor\":\"#C8D4E3\",\"linecolor\":\"#C8D4E3\",\"minorgridcolor\":\"#C8D4E3\",\"startlinecolor\":\"#2a3f5f\"},\"type\":\"carpet\"}],\"choropleth\":[{\"colorbar\":{\"outlinewidth\":0,\"ticks\":\"\"},\"type\":\"choropleth\"}],\"contourcarpet\":[{\"colorbar\":{\"outlinewidth\":0,\"ticks\":\"\"},\"type\":\"contourcarpet\"}],\"contour\":[{\"colorbar\":{\"outlinewidth\":0,\"ticks\":\"\"},\"colorscale\":[[0.0,\"#0d0887\"],[0.1111111111111111,\"#46039f\"],[0.2222222222222222,\"#7201a8\"],[0.3333333333333333,\"#9c179e\"],[0.4444444444444444,\"#bd3786\"],[0.5555555555555556,\"#d8576b\"],[0.6666666666666666,\"#ed7953\"],[0.7777777777777778,\"#fb9f3a\"],[0.8888888888888888,\"#fdca26\"],[1.0,\"#f0f921\"]],\"type\":\"contour\"}],\"heatmapgl\":[{\"colorbar\":{\"outlinewidth\":0,\"ticks\":\"\"},\"colorscale\":[[0.0,\"#0d0887\"],[0.1111111111111111,\"#46039f\"],[0.2222222222222222,\"#7201a8\"],[0.3333333333333333,\"#9c179e\"],[0.4444444444444444,\"#bd3786\"],[0.5555555555555556,\"#d8576b\"],[0.6666666666666666,\"#ed7953\"],[0.7777777777777778,\"#fb9f3a\"],[0.8888888888888888,\"#fdca26\"],[1.0,\"#f0f921\"]],\"type\":\"heatmapgl\"}],\"heatmap\":[{\"colorbar\":{\"outlinewidth\":0,\"ticks\":\"\"},\"colorscale\":[[0.0,\"#0d0887\"],[0.1111111111111111,\"#46039f\"],[0.2222222222222222,\"#7201a8\"],[0.3333333333333333,\"#9c179e\"],[0.4444444444444444,\"#bd3786\"],[0.5555555555555556,\"#d8576b\"],[0.6666666666666666,\"#ed7953\"],[0.7777777777777778,\"#fb9f3a\"],[0.8888888888888888,\"#fdca26\"],[1.0,\"#f0f921\"]],\"type\":\"heatmap\"}],\"histogram2dcontour\":[{\"colorbar\":{\"outlinewidth\":0,\"ticks\":\"\"},\"colorscale\":[[0.0,\"#0d0887\"],[0.1111111111111111,\"#46039f\"],[0.2222222222222222,\"#7201a8\"],[0.3333333333333333,\"#9c179e\"],[0.4444444444444444,\"#bd3786\"],[0.5555555555555556,\"#d8576b\"],[0.6666666666666666,\"#ed7953\"],[0.7777777777777778,\"#fb9f3a\"],[0.8888888888888888,\"#fdca26\"],[1.0,\"#f0f921\"]],\"type\":\"histogram2dcontour\"}],\"histogram2d\":[{\"colorbar\":{\"outlinewidth\":0,\"ticks\":\"\"},\"colorscale\":[[0.0,\"#0d0887\"],[0.1111111111111111,\"#46039f\"],[0.2222222222222222,\"#7201a8\"],[0.3333333333333333,\"#9c179e\"],[0.4444444444444444,\"#bd3786\"],[0.5555555555555556,\"#d8576b\"],[0.6666666666666666,\"#ed7953\"],[0.7777777777777778,\"#fb9f3a\"],[0.8888888888888888,\"#fdca26\"],[1.0,\"#f0f921\"]],\"type\":\"histogram2d\"}],\"histogram\":[{\"marker\":{\"pattern\":{\"fillmode\":\"overlay\",\"size\":10,\"solidity\":0.2}},\"type\":\"histogram\"}],\"mesh3d\":[{\"colorbar\":{\"outlinewidth\":0,\"ticks\":\"\"},\"type\":\"mesh3d\"}],\"parcoords\":[{\"line\":{\"colorbar\":{\"outlinewidth\":0,\"ticks\":\"\"}},\"type\":\"parcoords\"}],\"pie\":[{\"automargin\":true,\"type\":\"pie\"}],\"scatter3d\":[{\"line\":{\"colorbar\":{\"outlinewidth\":0,\"ticks\":\"\"}},\"marker\":{\"colorbar\":{\"outlinewidth\":0,\"ticks\":\"\"}},\"type\":\"scatter3d\"}],\"scattercarpet\":[{\"marker\":{\"colorbar\":{\"outlinewidth\":0,\"ticks\":\"\"}},\"type\":\"scattercarpet\"}],\"scattergeo\":[{\"marker\":{\"colorbar\":{\"outlinewidth\":0,\"ticks\":\"\"}},\"type\":\"scattergeo\"}],\"scattergl\":[{\"marker\":{\"colorbar\":{\"outlinewidth\":0,\"ticks\":\"\"}},\"type\":\"scattergl\"}],\"scattermapbox\":[{\"marker\":{\"colorbar\":{\"outlinewidth\":0,\"ticks\":\"\"}},\"type\":\"scattermapbox\"}],\"scatterpolargl\":[{\"marker\":{\"colorbar\":{\"outlinewidth\":0,\"ticks\":\"\"}},\"type\":\"scatterpolargl\"}],\"scatterpolar\":[{\"marker\":{\"colorbar\":{\"outlinewidth\":0,\"ticks\":\"\"}},\"type\":\"scatterpolar\"}],\"scatter\":[{\"fillpattern\":{\"fillmode\":\"overlay\",\"size\":10,\"solidity\":0.2},\"type\":\"scatter\"}],\"scatterternary\":[{\"marker\":{\"colorbar\":{\"outlinewidth\":0,\"ticks\":\"\"}},\"type\":\"scatterternary\"}],\"surface\":[{\"colorbar\":{\"outlinewidth\":0,\"ticks\":\"\"},\"colorscale\":[[0.0,\"#0d0887\"],[0.1111111111111111,\"#46039f\"],[0.2222222222222222,\"#7201a8\"],[0.3333333333333333,\"#9c179e\"],[0.4444444444444444,\"#bd3786\"],[0.5555555555555556,\"#d8576b\"],[0.6666666666666666,\"#ed7953\"],[0.7777777777777778,\"#fb9f3a\"],[0.8888888888888888,\"#fdca26\"],[1.0,\"#f0f921\"]],\"type\":\"surface\"}],\"table\":[{\"cells\":{\"fill\":{\"color\":\"#EBF0F8\"},\"line\":{\"color\":\"white\"}},\"header\":{\"fill\":{\"color\":\"#C8D4E3\"},\"line\":{\"color\":\"white\"}},\"type\":\"table\"}]},\"layout\":{\"annotationdefaults\":{\"arrowcolor\":\"#2a3f5f\",\"arrowhead\":0,\"arrowwidth\":1},\"autotypenumbers\":\"strict\",\"coloraxis\":{\"colorbar\":{\"outlinewidth\":0,\"ticks\":\"\"}},\"colorscale\":{\"diverging\":[[0,\"#8e0152\"],[0.1,\"#c51b7d\"],[0.2,\"#de77ae\"],[0.3,\"#f1b6da\"],[0.4,\"#fde0ef\"],[0.5,\"#f7f7f7\"],[0.6,\"#e6f5d0\"],[0.7,\"#b8e186\"],[0.8,\"#7fbc41\"],[0.9,\"#4d9221\"],[1,\"#276419\"]],\"sequential\":[[0.0,\"#0d0887\"],[0.1111111111111111,\"#46039f\"],[0.2222222222222222,\"#7201a8\"],[0.3333333333333333,\"#9c179e\"],[0.4444444444444444,\"#bd3786\"],[0.5555555555555556,\"#d8576b\"],[0.6666666666666666,\"#ed7953\"],[0.7777777777777778,\"#fb9f3a\"],[0.8888888888888888,\"#fdca26\"],[1.0,\"#f0f921\"]],\"sequentialminus\":[[0.0,\"#0d0887\"],[0.1111111111111111,\"#46039f\"],[0.2222222222222222,\"#7201a8\"],[0.3333333333333333,\"#9c179e\"],[0.4444444444444444,\"#bd3786\"],[0.5555555555555556,\"#d8576b\"],[0.6666666666666666,\"#ed7953\"],[0.7777777777777778,\"#fb9f3a\"],[0.8888888888888888,\"#fdca26\"],[1.0,\"#f0f921\"]]},\"colorway\":[\"#636efa\",\"#EF553B\",\"#00cc96\",\"#ab63fa\",\"#FFA15A\",\"#19d3f3\",\"#FF6692\",\"#B6E880\",\"#FF97FF\",\"#FECB52\"],\"font\":{\"color\":\"#2a3f5f\"},\"geo\":{\"bgcolor\":\"white\",\"lakecolor\":\"white\",\"landcolor\":\"white\",\"showlakes\":true,\"showland\":true,\"subunitcolor\":\"#C8D4E3\"},\"hoverlabel\":{\"align\":\"left\"},\"hovermode\":\"closest\",\"mapbox\":{\"style\":\"light\"},\"paper_bgcolor\":\"white\",\"plot_bgcolor\":\"white\",\"polar\":{\"angularaxis\":{\"gridcolor\":\"#EBF0F8\",\"linecolor\":\"#EBF0F8\",\"ticks\":\"\"},\"bgcolor\":\"white\",\"radialaxis\":{\"gridcolor\":\"#EBF0F8\",\"linecolor\":\"#EBF0F8\",\"ticks\":\"\"}},\"scene\":{\"xaxis\":{\"backgroundcolor\":\"white\",\"gridcolor\":\"#DFE8F3\",\"gridwidth\":2,\"linecolor\":\"#EBF0F8\",\"showbackground\":true,\"ticks\":\"\",\"zerolinecolor\":\"#EBF0F8\"},\"yaxis\":{\"backgroundcolor\":\"white\",\"gridcolor\":\"#DFE8F3\",\"gridwidth\":2,\"linecolor\":\"#EBF0F8\",\"showbackground\":true,\"ticks\":\"\",\"zerolinecolor\":\"#EBF0F8\"},\"zaxis\":{\"backgroundcolor\":\"white\",\"gridcolor\":\"#DFE8F3\",\"gridwidth\":2,\"linecolor\":\"#EBF0F8\",\"showbackground\":true,\"ticks\":\"\",\"zerolinecolor\":\"#EBF0F8\"}},\"shapedefaults\":{\"line\":{\"color\":\"#2a3f5f\"}},\"ternary\":{\"aaxis\":{\"gridcolor\":\"#DFE8F3\",\"linecolor\":\"#A2B1C6\",\"ticks\":\"\"},\"baxis\":{\"gridcolor\":\"#DFE8F3\",\"linecolor\":\"#A2B1C6\",\"ticks\":\"\"},\"bgcolor\":\"white\",\"caxis\":{\"gridcolor\":\"#DFE8F3\",\"linecolor\":\"#A2B1C6\",\"ticks\":\"\"}},\"title\":{\"x\":0.05},\"xaxis\":{\"automargin\":true,\"gridcolor\":\"#EBF0F8\",\"linecolor\":\"#EBF0F8\",\"ticks\":\"\",\"title\":{\"standoff\":15},\"zerolinecolor\":\"#EBF0F8\",\"zerolinewidth\":2},\"yaxis\":{\"automargin\":true,\"gridcolor\":\"#EBF0F8\",\"linecolor\":\"#EBF0F8\",\"ticks\":\"\",\"title\":{\"standoff\":15},\"zerolinecolor\":\"#EBF0F8\",\"zerolinewidth\":2}}},\"xaxis\":{\"anchor\":\"y\",\"domain\":[0.0,1.0],\"title\":{\"text\":\"Application Name\"},\"tickangle\":45},\"yaxis\":{\"anchor\":\"x\",\"domain\":[0.0,1.0],\"title\":{\"text\":\"Number of Reviews\"}},\"legend\":{\"tracegroupgap\":0},\"title\":{\"text\":\"Distribution of the Number of Reviews Each Application Received from the Top 10 Reviewers\"},\"barmode\":\"relative\"},                        {\"responsive\": true}                    ).then(function(){\n",
       "                            \n",
       "var gd = document.getElementById('8151272f-fafc-4d96-85fe-8aa5b340ab57');\n",
       "var x = new MutationObserver(function (mutations, observer) {{\n",
       "        var display = window.getComputedStyle(gd).display;\n",
       "        if (!display || display === 'none') {{\n",
       "            console.log([gd, 'removed!']);\n",
       "            Plotly.purge(gd);\n",
       "            observer.disconnect();\n",
       "        }}\n",
       "}});\n",
       "\n",
       "// Listen for the removal of the full notebook cells\n",
       "var notebookContainer = gd.closest('#notebook-container');\n",
       "if (notebookContainer) {{\n",
       "    x.observe(notebookContainer, {childList: true});\n",
       "}}\n",
       "\n",
       "// Listen for the clearing of the current output cell\n",
       "var outputEl = gd.closest('.output');\n",
       "if (outputEl) {{\n",
       "    x.observe(outputEl, {childList: true});\n",
       "}}\n",
       "\n",
       "                        })                };                });            </script>        </div>"
      ]
     },
     "metadata": {},
     "output_type": "display_data"
    }
   ],
   "execution_count": 57
  },
  {
   "cell_type": "code",
   "source": [
    "top_reviews = data[data[\"author.steamid\"].isin(top_reviewers)]\n"
   ],
   "metadata": {
    "id": "lJeeSFA7Fvar",
    "ExecuteTime": {
     "end_time": "2024-10-30T18:07:25.872974Z",
     "start_time": "2024-10-30T18:07:25.867026Z"
    }
   },
   "id": "lJeeSFA7Fvar",
   "outputs": [],
   "execution_count": 58
  },
  {
   "cell_type": "code",
   "source": [
    "top_reviews.groupby(\"author.steamid\")[\"review_id\"].size()"
   ],
   "metadata": {
    "colab": {
     "base_uri": "https://localhost:8080/",
     "height": 429
    },
    "id": "ce_bVul_I5FD",
    "outputId": "cd37e825-f258-4550-d0dc-247197c053ef",
    "ExecuteTime": {
     "end_time": "2024-10-30T18:07:26.021032Z",
     "start_time": "2024-10-30T18:07:26.011377Z"
    }
   },
   "id": "ce_bVul_I5FD",
   "outputs": [
    {
     "data": {
      "text/plain": [
       "author.steamid\n",
       "76561197960287542    1\n",
       "76561197960299337    1\n",
       "76561197960352238    1\n",
       "76561197960382714    1\n",
       "76561197960385470    1\n",
       "76561197960423098    1\n",
       "76561197960921967    1\n",
       "76561197961024075    1\n",
       "76561197961141805    1\n",
       "76561197961215767    1\n",
       "Name: review_id, dtype: int64"
      ]
     },
     "execution_count": 59,
     "metadata": {},
     "output_type": "execute_result"
    }
   ],
   "execution_count": 59
  },
  {
   "cell_type": "code",
   "source": [
    "len(top_reviews)"
   ],
   "metadata": {
    "colab": {
     "base_uri": "https://localhost:8080/"
    },
    "id": "UdNa7ZiHI5uc",
    "outputId": "25b6133d-4ae1-4abf-a6ac-36ef655f5ac1",
    "ExecuteTime": {
     "end_time": "2024-10-30T18:07:26.150185Z",
     "start_time": "2024-10-30T18:07:26.141480Z"
    }
   },
   "id": "UdNa7ZiHI5uc",
   "outputs": [
    {
     "data": {
      "text/plain": [
       "10"
      ]
     },
     "execution_count": 60,
     "metadata": {},
     "output_type": "execute_result"
    }
   ],
   "execution_count": 60
  },
  {
   "cell_type": "code",
   "source": [
    "top_reviews[\"author.steamid\"].value_counts()"
   ],
   "metadata": {
    "colab": {
     "base_uri": "https://localhost:8080/",
     "height": 429
    },
    "id": "UzIAknkaJP1R",
    "outputId": "85384c8a-c0d9-4dfc-d02a-63de01cbc750",
    "ExecuteTime": {
     "end_time": "2024-10-30T18:07:26.458707Z",
     "start_time": "2024-10-30T18:07:26.449446Z"
    }
   },
   "id": "UzIAknkaJP1R",
   "outputs": [
    {
     "data": {
      "text/plain": [
       "author.steamid\n",
       "76561197960423098    1\n",
       "76561197960299337    1\n",
       "76561197960287542    1\n",
       "76561197960382714    1\n",
       "76561197961024075    1\n",
       "76561197960385470    1\n",
       "76561197961141805    1\n",
       "76561197960921967    1\n",
       "76561197961215767    1\n",
       "76561197960352238    1\n",
       "Name: count, dtype: int64"
      ]
     },
     "execution_count": 61,
     "metadata": {},
     "output_type": "execute_result"
    }
   ],
   "execution_count": 61
  },
  {
   "cell_type": "code",
   "source": [
    "len(top_reviews.drop_duplicates(subset=['author.steamid', 'review_id']))\n"
   ],
   "metadata": {
    "colab": {
     "base_uri": "https://localhost:8080/"
    },
    "id": "JwMVszzYJXdY",
    "outputId": "423d8d43-2991-4489-b533-1e3501c438bf",
    "ExecuteTime": {
     "end_time": "2024-10-30T18:07:26.712954Z",
     "start_time": "2024-10-30T18:07:26.702335Z"
    }
   },
   "id": "JwMVszzYJXdY",
   "outputs": [
    {
     "data": {
      "text/plain": [
       "10"
      ]
     },
     "execution_count": 62,
     "metadata": {},
     "output_type": "execute_result"
    }
   ],
   "execution_count": 62
  },
  {
   "cell_type": "code",
   "source": [
    "# Удаляем дубликаты на основе сочетания 'author.steamid' и 'review_id'\n",
    "top_reviews = top_reviews.drop_duplicates(subset=['author.steamid', 'review_id'])\n",
    "\n",
    "# После этого можно выполнять группировку для подсчёта уникальных рецензий\n",
    "review_counts = top_reviews.groupby(\"author.steamid\")[\"review_id\"].size()\n",
    "print(review_counts)\n"
   ],
   "metadata": {
    "colab": {
     "base_uri": "https://localhost:8080/"
    },
    "id": "bQDaGcUqJ-0H",
    "outputId": "58b00b06-36c9-4896-88e1-92e6c39ee50a",
    "ExecuteTime": {
     "end_time": "2024-10-30T18:07:26.946167Z",
     "start_time": "2024-10-30T18:07:26.936436Z"
    }
   },
   "id": "bQDaGcUqJ-0H",
   "outputs": [
    {
     "name": "stdout",
     "output_type": "stream",
     "text": [
      "author.steamid\n",
      "76561197960287542    1\n",
      "76561197960299337    1\n",
      "76561197960352238    1\n",
      "76561197960382714    1\n",
      "76561197960385470    1\n",
      "76561197960423098    1\n",
      "76561197960921967    1\n",
      "76561197961024075    1\n",
      "76561197961141805    1\n",
      "76561197961215767    1\n",
      "Name: review_id, dtype: int64\n"
     ]
    }
   ],
   "execution_count": 63
  },
  {
   "cell_type": "code",
   "source": [
    "data.describe()"
   ],
   "metadata": {
    "colab": {
     "base_uri": "https://localhost:8080/",
     "height": 300
    },
    "id": "uIxy3mUiKdza",
    "outputId": "0e6262f7-7c05-4b6f-dea2-a5b1e1c79b74",
    "ExecuteTime": {
     "end_time": "2024-10-30T18:07:27.185459Z",
     "start_time": "2024-10-30T18:07:27.152558Z"
    }
   },
   "id": "uIxy3mUiKdza",
   "outputs": [
    {
     "data": {
      "text/plain": [
       "          app_id    review_id  votes_helpful        author.steamid\n",
       "count  10000.000    10000.000      10000.000             10000.000\n",
       "mean  292030.000 84347167.267          0.299 76561198505235600.000\n",
       "std        0.000   443107.947          2.982         389709124.883\n",
       "min   292030.000 83623430.000          0.000 76561197960287536.000\n",
       "25%   292030.000 83969909.750          0.000 76561198152587120.000\n",
       "50%   292030.000 84323189.000          0.000 76561198361924576.000\n",
       "75%   292030.000 84717412.000          0.000 76561198921563456.000\n",
       "max   292030.000 85185598.000        183.000 76561199130703808.000"
      ],
      "text/html": [
       "<div>\n",
       "<style scoped>\n",
       "    .dataframe tbody tr th:only-of-type {\n",
       "        vertical-align: middle;\n",
       "    }\n",
       "\n",
       "    .dataframe tbody tr th {\n",
       "        vertical-align: top;\n",
       "    }\n",
       "\n",
       "    .dataframe thead th {\n",
       "        text-align: right;\n",
       "    }\n",
       "</style>\n",
       "<table border=\"1\" class=\"dataframe\">\n",
       "  <thead>\n",
       "    <tr style=\"text-align: right;\">\n",
       "      <th></th>\n",
       "      <th>app_id</th>\n",
       "      <th>review_id</th>\n",
       "      <th>votes_helpful</th>\n",
       "      <th>author.steamid</th>\n",
       "    </tr>\n",
       "  </thead>\n",
       "  <tbody>\n",
       "    <tr>\n",
       "      <th>count</th>\n",
       "      <td>10000.000</td>\n",
       "      <td>10000.000</td>\n",
       "      <td>10000.000</td>\n",
       "      <td>10000.000</td>\n",
       "    </tr>\n",
       "    <tr>\n",
       "      <th>mean</th>\n",
       "      <td>292030.000</td>\n",
       "      <td>84347167.267</td>\n",
       "      <td>0.299</td>\n",
       "      <td>76561198505235600.000</td>\n",
       "    </tr>\n",
       "    <tr>\n",
       "      <th>std</th>\n",
       "      <td>0.000</td>\n",
       "      <td>443107.947</td>\n",
       "      <td>2.982</td>\n",
       "      <td>389709124.883</td>\n",
       "    </tr>\n",
       "    <tr>\n",
       "      <th>min</th>\n",
       "      <td>292030.000</td>\n",
       "      <td>83623430.000</td>\n",
       "      <td>0.000</td>\n",
       "      <td>76561197960287536.000</td>\n",
       "    </tr>\n",
       "    <tr>\n",
       "      <th>25%</th>\n",
       "      <td>292030.000</td>\n",
       "      <td>83969909.750</td>\n",
       "      <td>0.000</td>\n",
       "      <td>76561198152587120.000</td>\n",
       "    </tr>\n",
       "    <tr>\n",
       "      <th>50%</th>\n",
       "      <td>292030.000</td>\n",
       "      <td>84323189.000</td>\n",
       "      <td>0.000</td>\n",
       "      <td>76561198361924576.000</td>\n",
       "    </tr>\n",
       "    <tr>\n",
       "      <th>75%</th>\n",
       "      <td>292030.000</td>\n",
       "      <td>84717412.000</td>\n",
       "      <td>0.000</td>\n",
       "      <td>76561198921563456.000</td>\n",
       "    </tr>\n",
       "    <tr>\n",
       "      <th>max</th>\n",
       "      <td>292030.000</td>\n",
       "      <td>85185598.000</td>\n",
       "      <td>183.000</td>\n",
       "      <td>76561199130703808.000</td>\n",
       "    </tr>\n",
       "  </tbody>\n",
       "</table>\n",
       "</div>"
      ]
     },
     "execution_count": 64,
     "metadata": {},
     "output_type": "execute_result"
    }
   ],
   "execution_count": 64
  },
  {
   "cell_type": "code",
   "source": [],
   "metadata": {
    "id": "hCJNV2w5Uy58",
    "ExecuteTime": {
     "end_time": "2024-10-30T18:07:27.329538Z",
     "start_time": "2024-10-30T18:07:27.324997Z"
    }
   },
   "id": "hCJNV2w5Uy58",
   "outputs": [],
   "execution_count": null
  },
  {
   "metadata": {},
   "cell_type": "code",
   "outputs": [],
   "execution_count": null,
   "source": "",
   "id": "3244e71197e1c642"
  },
  {
   "metadata": {},
   "cell_type": "code",
   "outputs": [],
   "execution_count": null,
   "source": "",
   "id": "e59ce11a2f6426f1"
  },
  {
   "metadata": {},
   "cell_type": "code",
   "outputs": [],
   "execution_count": null,
   "source": "",
   "id": "19e1f88bb591c0e7"
  }
 ],
 "metadata": {
  "kernelspec": {
   "display_name": "Python 3",
   "language": "python",
   "name": "python3"
  },
  "language_info": {
   "codemirror_mode": {
    "name": "ipython",
    "version": 2
   },
   "file_extension": ".py",
   "mimetype": "text/x-python",
   "name": "python",
   "nbconvert_exporter": "python",
   "pygments_lexer": "ipython2",
   "version": "2.7.6"
  },
  "colab": {
   "provenance": []
  }
 },
 "nbformat": 4,
 "nbformat_minor": 5
}
