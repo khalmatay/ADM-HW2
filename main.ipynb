{
 "cells": [
  {
   "metadata": {},
   "cell_type": "markdown",
   "source": "# 2nd Homework of ADM",
   "id": "2179d2a6d8a75b65"
  },
  {
   "metadata": {},
   "cell_type": "markdown",
   "source": [
    "## Group members\n",
    "1. Nurbek Khalmatay, 2184569, khalmatay.2184569@studenti.uniroma1.it\n",
    "2. Augusto\n",
    "3. Sezer\n",
    "4. Paolo"
   ],
   "id": "92f525b0888c8c7b"
  }
 ],
 "metadata": {
  "kernelspec": {
   "display_name": "Python 3",
   "language": "python",
   "name": "python3"
  },
  "language_info": {
   "codemirror_mode": {
    "name": "ipython",
    "version": 2
   },
   "file_extension": ".py",
   "mimetype": "text/x-python",
   "name": "python",
   "nbconvert_exporter": "python",
   "pygments_lexer": "ipython2",
   "version": "2.7.6"
  }
 },
 "nbformat": 4,
 "nbformat_minor": 5
}
