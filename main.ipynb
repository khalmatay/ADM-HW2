{
 "cells": [
  {
   "metadata": {
    "id": "2179d2a6d8a75b65"
   },
   "cell_type": "markdown",
   "source": [
    "# 2nd Homework of ADM"
   ],
   "id": "2179d2a6d8a75b65"
  },
  {
   "metadata": {
    "id": "92f525b0888c8c7b"
   },
   "cell_type": "markdown",
   "source": [
    "## Group members\n",
    "1. Nurbek Khalmatay, 2184569, khalmatay.2184569@studenti.uniroma1.it\n",
    "2. Augusto\n",
    "3. Sezer\n",
    "4. Paolo"
   ],
   "id": "92f525b0888c8c7b"
  },
  {
   "metadata": {
    "id": "13b89b10c324a239",
    "ExecuteTime": {
     "end_time": "2024-10-31T10:26:00.554592Z",
     "start_time": "2024-10-31T10:25:56.835066Z"
    }
   },
   "cell_type": "code",
   "source": [
    "%%capture\n",
    "# Set to True the first time you run this file to install the required packages\n",
    "install_packages = True\n",
    "if install_packages:\n",
    "    %pip install -r requirements.txt\n",
    "import os\n",
    "\n",
    "if not os.path.exists('data'):\n",
    "    os.makedirs('data')\n",
    "\n",
    "if not all(os.path.exists(folder) for folder in ['data/steam_reviews.csv']):\n",
    "    !gdown 1ELFPkOeFlwHth8zq5-54xXytZKy0xs-c\n",
    "    !unzip -o data_steam_reviews.zip\n",
    "    !rm data_steam_reviews.zip\n",
    "    !mv steam_reviews.csv data/steam_reviews.csv\n"
   ],
   "id": "13b89b10c324a239",
   "outputs": [],
   "execution_count": 6
  },
  {
   "metadata": {
    "id": "5737599a549014f4",
    "ExecuteTime": {
     "end_time": "2024-10-31T10:26:02.406128Z",
     "start_time": "2024-10-31T10:26:02.386428Z"
    }
   },
   "cell_type": "code",
   "source": [
    "import pandas as pd\n",
    "\n",
    "\n",
    "pd.set_option('display.max_columns', None)\n",
    "pd.set_option('display.float_format', '{:.3f}'.format)\n",
    "\n",
    "\n",
    "csv_file_path = 'data/steam_reviews.csv'"
   ],
   "id": "5737599a549014f4",
   "outputs": [],
   "execution_count": 7
  }
 ],
 "metadata": {
  "kernelspec": {
   "display_name": "Python 3",
   "language": "python",
   "name": "python3"
  },
  "language_info": {
   "codemirror_mode": {
    "name": "ipython",
    "version": 2
   },
   "file_extension": ".py",
   "mimetype": "text/x-python",
   "name": "python",
   "nbconvert_exporter": "python",
   "pygments_lexer": "ipython2",
   "version": "2.7.6"
  },
  "colab": {
   "provenance": []
  }
 },
 "nbformat": 4,
 "nbformat_minor": 5
}
