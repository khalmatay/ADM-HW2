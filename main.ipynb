{
 "cells": [
  {
   "metadata": {
    "id": "2179d2a6d8a75b65"
   },
   "cell_type": "markdown",
   "source": [
    "# 2nd Homework of ADM"
   ],
   "id": "2179d2a6d8a75b65"
  },
  {
   "metadata": {
    "id": "92f525b0888c8c7b"
   },
   "cell_type": "markdown",
   "source": [
    "## Group #21 members\n",
    "1. Nurbek Khalmatay, 2184569, khalmatay.2184569@studenti.uniroma1.it\n",
    "2. Augusto de Luzenberger Milnernsheim, 1601656, deluzenbergermilnernsheim.1601657@studenti.uniroma1.it\n",
    "3. Sezer Mezgil, 2180600, sezermzgl@gmail.com\n",
    "4. Paolo Cencia, 1963348, cencia.1963348@studenti.uniroma1.it"
   ],
   "id": "92f525b0888c8c7b"
  },
  {
   "metadata": {
    "id": "13b89b10c324a239",
    "ExecuteTime": {
     "end_time": "2024-10-31T10:37:49.736328Z",
     "start_time": "2024-10-31T10:37:46.263983Z"
    }
   },
   "cell_type": "code",
   "source": [
    "%%capture\n",
    "# Set to True the first time you run this file to install the required packages\n",
    "install_packages = True\n",
    "if install_packages:\n",
    "    %pip install -r requirements.txt\n",
    "import os\n",
    "\n",
    "if not os.path.exists('data'):\n",
    "    os.makedirs('data')\n",
    "\n",
    "if not all(os.path.exists(folder) for folder in ['data/steam_reviews.csv']):\n",
    "    !gdown 1ELFPkOeFlwHth8zq5-54xXytZKy0xs-c\n",
    "    !unzip -o data_steam_reviews.zip\n",
    "    !rm data_steam_reviews.zip\n",
    "    !mv steam_reviews.csv data/steam_reviews.csv\n"
   ],
   "id": "13b89b10c324a239",
   "outputs": [],
   "execution_count": 9
  },
  {
   "metadata": {},
   "cell_type": "markdown",
   "source": "### Libraries, (if you wand add import ... , add also in requrements.txt)",
   "id": "889d9af64ecfe376"
  },
  {
   "metadata": {},
   "cell_type": "code",
   "outputs": [],
   "execution_count": null,
   "source": [
    "import pandas as pd\n",
    "\n",
    "\n",
    "pd.set_option('display.max_columns', None)\n",
    "pd.set_option('display.float_format', '{:.3f}'.format)\n",
    "\n",
    "\n",
    "csv_file_path = 'data/steam_reviews.csv'"
   ],
   "id": "d99e61fe2bfe7719"
  },
  {
   "metadata": {},
   "cell_type": "code",
   "outputs": [],
   "execution_count": null,
   "source": "",
   "id": "1f1814987f78e5ac"
  },
  {
   "metadata": {},
   "cell_type": "markdown",
   "source": "# RQ1",
   "id": "140ea78846625d31"
  },
  {
   "metadata": {},
   "cell_type": "markdown",
   "source": "# RQ2",
   "id": "a03965da1fdc881d"
  },
  {
   "metadata": {},
   "cell_type": "markdown",
   "source": "# RQ3",
   "id": "be620a7dd762356"
  },
  {
   "metadata": {},
   "cell_type": "markdown",
   "source": "# RQ4",
   "id": "26287baa3aa9dda1"
  },
  {
   "metadata": {},
   "cell_type": "markdown",
   "source": "# RQ5",
   "id": "642897139f286e9b"
  },
  {
   "metadata": {},
   "cell_type": "markdown",
   "source": "# RQ6",
   "id": "80ac5074572adbca"
  },
  {
   "metadata": {},
   "cell_type": "markdown",
   "source": "# RQ7",
   "id": "20367567edebc6a6"
  },
  {
   "metadata": {},
   "cell_type": "markdown",
   "source": "# Bonus",
   "id": "d140c30f728f9887"
  },
  {
   "metadata": {},
   "cell_type": "markdown",
   "source": "# AQ",
   "id": "447ae60fc00f4f57"
  },
  {
   "metadata": {},
   "cell_type": "markdown",
   "source": "",
   "id": "410133bc16805ac7"
  }
 ],
 "metadata": {
  "kernelspec": {
   "display_name": "Python 3",
   "language": "python",
   "name": "python3"
  },
  "language_info": {
   "codemirror_mode": {
    "name": "ipython",
    "version": 2
   },
   "file_extension": ".py",
   "mimetype": "text/x-python",
   "name": "python",
   "nbconvert_exporter": "python",
   "pygments_lexer": "ipython2",
   "version": "2.7.6"
  },
  "colab": {
   "provenance": []
  }
 },
 "nbformat": 4,
 "nbformat_minor": 5
}
